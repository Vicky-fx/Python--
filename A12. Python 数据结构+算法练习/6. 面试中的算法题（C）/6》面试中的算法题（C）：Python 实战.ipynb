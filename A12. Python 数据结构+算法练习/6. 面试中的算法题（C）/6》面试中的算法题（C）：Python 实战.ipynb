{
 "cells": [
  {
   "cell_type": "markdown",
   "metadata": {},
   "source": [
    "### Python 基础算法练习（Hadoop + Spark + MySQL + Python）\n",
    "## <center>6 >>> 面试中的算法题（C）：Python 实战</center>\n",
    "### <center>算法验证：张君颖  ； 报告日期：2021.1.28</center>\n",
    "  <font color=blue><center>作者邮箱：zhang.jun.ying@outlook.com</center></font>   \n",
    "  \n",
    "  <font color=blue><center>项目源代码、数据、自定义函数已上传GitHub：</center></font>   \n",
    "    \n",
    "<font color=blue><center>https://github.com/lotbear/Python-Financial-investment-strategy</center></font>"
   ]
  },
  {
   "cell_type": "markdown",
   "metadata": {},
   "source": [
    "### >>> 题一：Bitmap 位图算法实现\n",
    "在实际工作中，我们会用关系型数据库存（如 MySQL）储用户标签信息，但当我们用 SQL 语句检索多标签的用户统计数据时，SQL 语句就像面条一样长：   \n",
    "\n",
    "eg: <font color=blue>Select cout(distinct Name) as 用户数 from table where Age='90后' and Occupation ='程序员' and Phone ='苹果' and ......; </font>    \n",
    "\n",
    "为了解决这种多标签的用户检索场景，我们可以将每个标签独立成一个 Bitmap 进行位图存储。"
   ]
  },
  {
   "cell_type": "code",
   "execution_count": 1,
   "metadata": {},
   "outputs": [],
   "source": [
    "class MyBitmap:\n",
    "    def __init__(self,size):\n",
    "        self.user_ids=[0]*(self.get_user_id_index(size-1)+1)\n",
    "        self.size=size\n",
    "    \n",
    "    def get_bit(self,bit_index):\n",
    "        if bit_index<0 or bit_index >self.size-1:\n",
    "            raise Exception('超过 Bitmap 有效范围！')\n",
    "        user_id_index=self.get_user_id_index(bit_index)\n",
    "        return (self.user_ids[user_id_index]&(1<<bit_index))!=0\n",
    "    \n",
    "    def set_bit(self,bit_index):\n",
    "        if bit_index<0 or bit_index >self.size-1:\n",
    "            raise Exception('超过 Bitmap 有效范围！')\n",
    "        user_id_index=self.get_user_id_index(bit_index)\n",
    "        self.user_ids[user_id_index]|=(1<<bit_index)\n",
    "        \n",
    "    def get_user_id_index(self,bit_index):\n",
    "        # 右移 6 位，相当于除以 64\n",
    "        return bit_index>>6"
   ]
  },
  {
   "cell_type": "code",
   "execution_count": 2,
   "metadata": {},
   "outputs": [
    {
     "name": "stdout",
     "output_type": "stream",
     "text": [
      "该标签下是否存在 id = 126 的用户？ True\n",
      "该标签下是否存在 id = 18 的用户？ False\n"
     ]
    }
   ],
   "source": [
    "bitMap=MyBitmap(128)\n",
    "bitMap.set_bit(126)\n",
    "bitMap.set_bit(16)\n",
    "bitMap.set_bit(75)\n",
    "\n",
    "print('该标签下是否存在 id = 126 的用户？',bitMap.get_bit(126))\n",
    "print('该标签下是否存在 id = 18 的用户？',bitMap.get_bit(18))"
   ]
  },
  {
   "cell_type": "markdown",
   "metadata": {},
   "source": [
    "<font color=blue> 将每个标签都以 Bitmap 存储，在进行多标签统计用户时，多个 Bitmap 进行交集 '&' or 并集 '|'位运算   \n",
    "    \n",
    "非运算需要再给出一个全量用户的 Bitmap，然后进行异或运算 'XOR'</font>"
   ]
  },
  {
   "cell_type": "markdown",
   "metadata": {},
   "source": [
    "### >>> 题二：LRU（Least Recently Used） 算法应用\n",
    "在实际工作中，为应对业务不断拓新，我们需要抽出一个用户系统，向各个业务系统提供用户的基本信息；   \n",
    "\n",
    "如果每次检索用户信息，都是从数据库提取（如 MySQL），会影响访问性能，为此我们创建一个哈希表作为缓存，但随着用户数量激增，服务器内存消耗太快 ；  \n",
    "\n",
    "此时需要使用 LRU 算法来管理内存，LRU 算法的基础是哈希链表，若调用户数据未在缓存中，则从数据库读取并插入哈希链表的最右侧，若查询的用户数据已在链表中，则该数据从原位置移动到链表最右侧；   \n",
    "\n",
    "当哈希链表的总长度达到预定的阈值，新进一个用户缓存数据，就需要从链表的最左端剔除一个用户数据（很久没有调用过的用户数据）。   \n",
    "\n",
    "虽然 Python 中的 collections.OrderedDict 已经对哈希链表做了很好的实现，我们还是自己再用代码简单实现一下："
   ]
  },
  {
   "cell_type": "code",
   "execution_count": 3,
   "metadata": {},
   "outputs": [],
   "source": [
    "class LRUCache:\n",
    "    def __init__(self, limit):\n",
    "        self.limit = limit\n",
    "        self.hash = {}\n",
    "        self.head = None\n",
    "        self.end = None\n",
    "\n",
    "    def get(self, key):\n",
    "        node = self.hash.get(key)\n",
    "        if node is None:\n",
    "            return None\n",
    "        self.refresh_node(node)\n",
    "        return node.value\n",
    "\n",
    "    def put(self, key, value):\n",
    "        node = self.hash.get(key)\n",
    "        if node is None:\n",
    "            # 如果key不存在，插入key-value\n",
    "            if len(self.hash) >= self.limit:\n",
    "                old_key = self.remove_node(self.head)\n",
    "                self.hash.pop(old_key)\n",
    "            node = Node(key, value)\n",
    "            self.add_node(node)\n",
    "            self.hash[key] = node\n",
    "        else:\n",
    "            # 如果key存在，刷新key-value\n",
    "            node.value = value\n",
    "            self.refresh_node(node)\n",
    "\n",
    "    def remove(self, key):\n",
    "        node = self.hash.get(key)\n",
    "        if node is None:\n",
    "            return\n",
    "        self.remove_node(node)\n",
    "        self.hash.remove(key)\n",
    "\n",
    "    def refresh_node(self, node):\n",
    "        # 如果访问的是尾节点，无需移动节点\n",
    "        if node == self.end:\n",
    "            return\n",
    "        # 移除节点\n",
    "        self.remove_node(node)\n",
    "        # 重新插入节点\n",
    "        self.add_node(node)\n",
    "\n",
    "    def remove_node(self, node):\n",
    "        if node == self.head and node == self.end:\n",
    "            # 移除唯一的节点\n",
    "            self.head = None\n",
    "            self.end = None\n",
    "        elif node == self.end:\n",
    "            # 移除节点\n",
    "            self.end = self.end.pre\n",
    "            self.end.next = None\n",
    "        elif node == self.head:\n",
    "            # 移除头节点\n",
    "            self.head = self.head.next\n",
    "            self.head.pre = None\n",
    "        else:\n",
    "            # 移除中间节点\n",
    "            node.pre.next = node.pre\n",
    "            node.next.pre = node.pre\n",
    "        return node.key\n",
    "\n",
    "    def add_node(self, node):\n",
    "        if self.end is not None:\n",
    "            self.end.next = node\n",
    "            node.pre = self.end\n",
    "            node.next = None\n",
    "        self.end = node\n",
    "        if self.head is None:\n",
    "            self.head = node\n",
    "\n",
    "\n",
    "class Node:\n",
    "    def __init__(self, key, value):\n",
    "        self.key = key\n",
    "        self.value = value\n",
    "        self.pre = None\n",
    "        self.next = None"
   ]
  },
  {
   "cell_type": "code",
   "execution_count": 4,
   "metadata": {},
   "outputs": [
    {
     "name": "stdout",
     "output_type": "stream",
     "text": [
      "用户 3 信息\n",
      "用户 1 信息\n",
      "None\n"
     ]
    }
   ],
   "source": [
    "lruCache=LRUCache(5)\n",
    "lruCache.put('001','用户 1 信息')\n",
    "lruCache.put('002','用户 2 信息')\n",
    "lruCache.put('003','用户 3 信息')\n",
    "lruCache.put('004','用户 4 信息')\n",
    "lruCache.put('005','用户 5 信息')\n",
    "print(lruCache.get('003'))\n",
    "\n",
    "lruCache.put('004','用户 4 信息更新')\n",
    "lruCache.put('005','用户 6 信息')\n",
    "print(lruCache.get('001'))\n",
    "print(lruCache.get('006'))"
   ]
  },
  {
   "cell_type": "markdown",
   "metadata": {},
   "source": [
    "<font color=blue>对于用户系统的需求，可以用缓存数据库 Redis 实现，Redis 底层也实现了类似 LRU 的回收算法。"
   ]
  },
  {
   "cell_type": "markdown",
   "metadata": {},
   "source": [
    "### >>> 题三：随机红包算法\n",
    "1.所有人抢到的金额之和要等于红包金额   \n",
    "\n",
    "2.保证红包拆分的金额尽可能均匀分布，不能出现严重的两极分化现象  \n",
    "\n",
    "思路：把每次红包随机金额的上限定为剩余人均金额的 2 倍。"
   ]
  },
  {
   "cell_type": "code",
   "execution_count": 5,
   "metadata": {},
   "outputs": [],
   "source": [
    "import random\n",
    "# random.uniform 可随机生成浮点数，但精度无法控制，可能导致红包总金额出现误差\n",
    "# 我们选择 ranint 作为随机函数，为了最终生成带两位小数的红包金额\n",
    "# 我们先将 total_amount*100 ，输出时再 my_amount/100\n",
    "\n",
    "def divide_red_package(total_amount, total_people_num):\n",
    "    amount_list = []\n",
    "    rest_amount = total_amount*100\n",
    "    rest_people_num = total_people_num\n",
    "    for i in range(0, total_people_num-1):\n",
    "        # 随机范围：[1，剩余人均金额的两倍)，左闭右开\n",
    "        amount = random.randint(1,int(rest_amount/rest_people_num*2)-1)\n",
    "        rest_amount -= amount\n",
    "        rest_people_num -= 1\n",
    "        amount_list.append(amount)\n",
    "    amount_list.append(rest_amount)\n",
    "    return amount_list"
   ]
  },
  {
   "cell_type": "code",
   "execution_count": 6,
   "metadata": {},
   "outputs": [
    {
     "name": "stdout",
     "output_type": "stream",
     "text": [
      "总红包金额: 99.00 元\n",
      "==================================================\n",
      "抢到金额: 14.07 元\n",
      "抢到金额: 1.36 元\n",
      "抢到金额: 10.71 元\n",
      "抢到金额: 9.59 元\n",
      "抢到金额: 7.99 元\n",
      "抢到金额: 16.08 元\n",
      "抢到金额: 14.92 元\n",
      "抢到金额: 12.40 元\n",
      "抢到金额: 3.43 元\n",
      "抢到金额: 8.45 元\n"
     ]
    }
   ],
   "source": [
    "my_amount_list = divide_red_package(99, 10)\n",
    "print('总红包金额: %.2f' % (sum(my_amount_list)/100),'元')\n",
    "print('='*50)\n",
    "for my_amount in my_amount_list:\n",
    "    print('抢到金额: %.2f' % (my_amount/100),'元')"
   ]
  },
  {
   "cell_type": "markdown",
   "metadata": {},
   "source": [
    "番外：对多个list的对应元素求和"
   ]
  },
  {
   "cell_type": "code",
   "execution_count": 7,
   "metadata": {},
   "outputs": [
    {
     "name": "stdout",
     "output_type": "stream",
     "text": [
      "[6, 9, 12]\n"
     ]
    }
   ],
   "source": [
    "def list_add(a,b):\n",
    "    c = []\n",
    "    for i in range(len(a)):\n",
    "        c.append(a[i]+b[i])\n",
    "    return c\n",
    " \n",
    "if __name__ == '__main__':\n",
    "    a = [1,2,3]\n",
    "    b = [2,3,4]\n",
    "    c = [3,4,5]\n",
    "    print(list_add(list_add(a,b),c))"
   ]
  },
  {
   "cell_type": "code",
   "execution_count": 8,
   "metadata": {},
   "outputs": [
    {
     "name": "stdout",
     "output_type": "stream",
     "text": [
      "[ 6  9 12]\n"
     ]
    }
   ],
   "source": [
    "import numpy as np\n",
    "a = np.array([1,2,3])\n",
    "b = np.array([2,3,4])\n",
    "c = np.array([3,4,5])\n",
    "print(a+b+c)"
   ]
  },
  {
   "cell_type": "code",
   "execution_count": 9,
   "metadata": {},
   "outputs": [
    {
     "name": "stdout",
     "output_type": "stream",
     "text": [
      "[ 6  9 12]\n"
     ]
    }
   ],
   "source": [
    "import numpy as np\n",
    "a = [1,2,3]\n",
    "b = [2,3,4]\n",
    "c = [3,4,5]\n",
    "print(np.sum([a,b,c], axis = 0))"
   ]
  }
 ],
 "metadata": {
  "kernelspec": {
   "display_name": "Python 3",
   "language": "python",
   "name": "python3"
  },
  "language_info": {
   "codemirror_mode": {
    "name": "ipython",
    "version": 3
   },
   "file_extension": ".py",
   "mimetype": "text/x-python",
   "name": "python",
   "nbconvert_exporter": "python",
   "pygments_lexer": "ipython3",
   "version": "3.7.0"
  }
 },
 "nbformat": 4,
 "nbformat_minor": 2
}
