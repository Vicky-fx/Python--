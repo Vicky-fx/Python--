{
 "cells": [
  {
   "cell_type": "markdown",
   "metadata": {},
   "source": [
    "### Python 基础算法练习（Hadoop + Spark + MySQL + Python）\n",
    "## <center>3 >>> 多种排序算法对比：python 实战</center>\n",
    "### <center>算法验证：张君颖  ； 报告日期：2021.1.25</center>\n",
    "  <font color=blue><center>作者邮箱：zhang.jun.ying@outlook.com</center></font>   \n",
    "  \n",
    "  <font color=blue><center>项目源代码、数据、自定义函数已上传GitHub：</center></font>   \n",
    "    \n",
    "<font color=blue><center>https://github.com/lotbear/Python-Financial-investment-strategy</center></font>"
   ]
  },
  {
   "cell_type": "markdown",
   "metadata": {},
   "source": [
    "### >>> 部分排序算法对比\n",
    "其中，排序是否稳定是指：当两个元素值相同时，排序后能否保持原有顺序"
   ]
  },
  {
   "cell_type": "markdown",
   "metadata": {},
   "source": [
    "排序算法|时间复杂度|空间复杂度|是否稳定排序\n",
    "---|:--:|:--:|---:\n",
    "冒泡排序|O（n^2）|O（1）|稳定\n",
    "鸡尾酒排序|O（n^2）|O（1）|稳定\n",
    "快速排序|O（n logn）|O（logn）|不稳定\n",
    "堆排序|O（n logn）|O（1）|不稳定\n",
    "计数排序|O（n+m）|O（m）|稳定\n",
    "桶排序|O（n）|O（n）|稳定"
   ]
  },
  {
   "cell_type": "markdown",
   "metadata": {},
   "source": [
    "### >>> 冒泡排序\n",
    "版本一：从左向右两两比较，若左侧元素大于右侧，则交换位置，N 个元素进行排序，需要进行 N^2 轮比大小"
   ]
  },
  {
   "cell_type": "code",
   "execution_count": 1,
   "metadata": {},
   "outputs": [],
   "source": [
    "def bubble_sort_v1(array=[]):\n",
    "    for i in range(len(array)-1):\n",
    "        for j in range(len(array)-i-1):\n",
    "            if array[j] > array[j+1]:\n",
    "                temp=array[j]\n",
    "                array[j]=array[j+1]\n",
    "                array[j+1]=temp\n",
    "        print('第',i,'轮排序：',array)"
   ]
  },
  {
   "cell_type": "code",
   "execution_count": 2,
   "metadata": {},
   "outputs": [
    {
     "name": "stdout",
     "output_type": "stream",
     "text": [
      "第 0 轮排序： [0, 7, -1, -5, 9, 10, 11, 12, 13, 14, 15]\n",
      "第 1 轮排序： [0, -1, -5, 7, 9, 10, 11, 12, 13, 14, 15]\n",
      "第 2 轮排序： [-1, -5, 0, 7, 9, 10, 11, 12, 13, 14, 15]\n",
      "第 3 轮排序： [-5, -1, 0, 7, 9, 10, 11, 12, 13, 14, 15]\n",
      "第 4 轮排序： [-5, -1, 0, 7, 9, 10, 11, 12, 13, 14, 15]\n",
      "第 5 轮排序： [-5, -1, 0, 7, 9, 10, 11, 12, 13, 14, 15]\n",
      "第 6 轮排序： [-5, -1, 0, 7, 9, 10, 11, 12, 13, 14, 15]\n",
      "第 7 轮排序： [-5, -1, 0, 7, 9, 10, 11, 12, 13, 14, 15]\n",
      "第 8 轮排序： [-5, -1, 0, 7, 9, 10, 11, 12, 13, 14, 15]\n",
      "第 9 轮排序： [-5, -1, 0, 7, 9, 10, 11, 12, 13, 14, 15]\n"
     ]
    },
    {
     "data": {
      "text/plain": [
       "[-5, -1, 0, 7, 9, 10, 11, 12, 13, 14, 15]"
      ]
     },
     "execution_count": 2,
     "metadata": {},
     "output_type": "execute_result"
    }
   ],
   "source": [
    "my_array=list([7,0,9,-1,-5,10,11,12,13,14,15])\n",
    "bubble_sort_v1(my_array)\n",
    "my_array"
   ]
  },
  {
   "cell_type": "markdown",
   "metadata": {},
   "source": [
    "版本二：在第一版基础上，若排序提前完成，可停止轮次"
   ]
  },
  {
   "cell_type": "code",
   "execution_count": 3,
   "metadata": {},
   "outputs": [],
   "source": [
    "def bubble_sort_v2(array=[]):\n",
    "    # 记录最后一次交换的位置\n",
    "    last_exchange_index=0\n",
    "    # 无序数列的边界，每次比较只需要比到这里\n",
    "    sort_border=len(array)-1\n",
    "    for i in range(len(array)-1):\n",
    "        # 有序标记，每一轮的初始是 True\n",
    "        is_sorted=True\n",
    "        for j in range(sort_border):\n",
    "            if array[j] > array[j+1]:\n",
    "                temp=array[j]\n",
    "                array[j]=array[j+1]\n",
    "                array[j+1]=temp\n",
    "                # 有元素交换，所以不是有序的，标记变为 FALSE\n",
    "                is_sorted=False\n",
    "                # 把无序数列的边界更新为最后一次交换元素的位置\n",
    "                last_exchange_index=j\n",
    "        print('第',i,'轮排序：',array)\n",
    "        sort_border=last_exchange_index\n",
    "        if is_sorted:\n",
    "            break"
   ]
  },
  {
   "cell_type": "code",
   "execution_count": 4,
   "metadata": {
    "scrolled": true
   },
   "outputs": [
    {
     "name": "stdout",
     "output_type": "stream",
     "text": [
      "第 0 轮排序： [0, 7, -1, -5, 9, 10, 11, 12, 13, 14, 15]\n",
      "第 1 轮排序： [0, -1, -5, 7, 9, 10, 11, 12, 13, 14, 15]\n",
      "第 2 轮排序： [-1, -5, 0, 7, 9, 10, 11, 12, 13, 14, 15]\n",
      "第 3 轮排序： [-5, -1, 0, 7, 9, 10, 11, 12, 13, 14, 15]\n",
      "第 4 轮排序： [-5, -1, 0, 7, 9, 10, 11, 12, 13, 14, 15]\n"
     ]
    },
    {
     "data": {
      "text/plain": [
       "[-5, -1, 0, 7, 9, 10, 11, 12, 13, 14, 15]"
      ]
     },
     "execution_count": 4,
     "metadata": {},
     "output_type": "execute_result"
    }
   ],
   "source": [
    "my_array=list([7,0,9,-1,-5,10,11,12,13,14,15])\n",
    "bubble_sort_v2(my_array)\n",
    "my_array"
   ]
  },
  {
   "cell_type": "markdown",
   "metadata": {},
   "source": [
    "版本三：鸡尾酒排序（在冒泡排序的基础上，实现钟摆式循环比较）"
   ]
  },
  {
   "cell_type": "code",
   "execution_count": 5,
   "metadata": {},
   "outputs": [],
   "source": [
    "def cock_tail_sort(array=[]):\n",
    "    for i in range(len(array)//2):\n",
    "        # 有序标记，每一轮的初始是 True\n",
    "        is_sorted=True\n",
    "        # 奇数轮，从左向右比较和交换\n",
    "        for j in range(i,len(array)-i-1):\n",
    "            if array[j]>array[j+1]:\n",
    "                temp=array[j]\n",
    "                array[j]=array[j+1]\n",
    "                array[j+1]=temp\n",
    "                # 有元素交换，所以不是有序的，标记变为 False\n",
    "                is_sorted=False\n",
    "            if is_sorted:\n",
    "                break\n",
    "            # 偶数轮，重新标记为 True\n",
    "            is_sorted=True\n",
    "            # 偶数轮，从右向左比较和交换\n",
    "            for j in range(len(array)-i-1,i,-1):\n",
    "                if array[j] < array[j-1]:\n",
    "                    temp=array[j]\n",
    "                    array[j]=array[j-1]\n",
    "                    array[j-1]=temp\n",
    "                    # 有元素交换，所以不是有序的，标记变为 False\n",
    "                    is_sorted=False\n",
    "            if is_sorted:\n",
    "                break\n",
    "            print('排序过程：',array)"
   ]
  },
  {
   "cell_type": "code",
   "execution_count": 6,
   "metadata": {},
   "outputs": [
    {
     "name": "stdout",
     "output_type": "stream",
     "text": [
      "排序过程： [-5, 0, 7, 9, -1, 10, 11, 12, 13, 14, 15]\n",
      "排序过程： [-5, -1, 0, 7, 9, 10, 11, 12, 13, 14, 15]\n"
     ]
    },
    {
     "data": {
      "text/plain": [
       "[-5, -1, 0, 7, 9, 10, 11, 12, 13, 14, 15]"
      ]
     },
     "execution_count": 6,
     "metadata": {},
     "output_type": "execute_result"
    }
   ],
   "source": [
    "my_array=list([7,0,9,-1,-5,10,11,12,13,14,15])\n",
    "cock_tail_sort(my_array)\n",
    "my_array"
   ]
  },
  {
   "cell_type": "markdown",
   "metadata": {},
   "source": [
    "### >>> 快速排序\n",
    "每一轮挑选一个基准元素，将比其大的元素放到数列的一边，比其小的元素放到数列的另一边   \n",
    "\n",
    "每轮排序后，数据都被切割分治，使得时间复杂度从 O（n^2）降至 O（n logn）  \n",
    "\n",
    "以双边循环法实现 快速排序代码：(从小到大排序)"
   ]
  },
  {
   "cell_type": "code",
   "execution_count": 7,
   "metadata": {},
   "outputs": [],
   "source": [
    "def quick_sort(start_index,end_index,array=[]):\n",
    "    # 递归结束条件：start_index >= end_index\n",
    "    if start_index >= end_index:\n",
    "        return\n",
    "    # 得到基准元素位置\n",
    "    pivot_index=partition(start_index,end_index,array)\n",
    "    # 根据基准元素，分成两部分递归排序\n",
    "    quick_sort(start_index,pivot_index-1,array)\n",
    "    quick_sort(pivot_index +1,end_index,array)\n",
    "    \n",
    "def partition(start_index,end_index,array=[]):    \n",
    "    # 取第一个位置的元素作为基准元素（也可选择随机位置）\n",
    "    pivot=array[start_index]\n",
    "    left=start_index\n",
    "    right=end_index\n",
    "    while left != right:\n",
    "        # 控制 right 指针进行比较并左移\n",
    "        while left < right and array[right] > pivot:\n",
    "            right -= 1\n",
    "        # 控制 left 指针进行比较并右移\n",
    "        while left < right and array[left] <= pivot:\n",
    "            left += 1\n",
    "        # 交换 left 指针和 right指针指向的元素\n",
    "        if left < right:\n",
    "            p = array[left]\n",
    "            array[left]=array[right]\n",
    "            array[right]=p\n",
    "        print('排序过程：',array)\n",
    "    # pivot 和指针重合点交换\n",
    "    array[start_index]=array[left]\n",
    "    array[left]=pivot\n",
    "    return left"
   ]
  },
  {
   "cell_type": "code",
   "execution_count": 8,
   "metadata": {},
   "outputs": [
    {
     "name": "stdout",
     "output_type": "stream",
     "text": [
      "排序过程： [3, 1, 14, 22, 1, 5, 7, 3, 1, -1, 0, 9, 11, 4]\n",
      "排序过程： [3, 1, 0, 22, 1, 5, 7, 3, 1, -1, 14, 9, 11, 4]\n",
      "排序过程： [3, 1, 0, -1, 1, 5, 7, 3, 1, 22, 14, 9, 11, 4]\n",
      "排序过程： [3, 1, 0, -1, 1, 1, 7, 3, 5, 22, 14, 9, 11, 4]\n",
      "排序过程： [3, 1, 0, -1, 1, 1, 3, 7, 5, 22, 14, 9, 11, 4]\n",
      "排序过程： [3, 1, 0, -1, 1, 1, 3, 7, 5, 22, 14, 9, 11, 4]\n",
      "排序过程： [3, 1, 0, -1, 1, 1, 3, 7, 5, 22, 14, 9, 11, 4]\n",
      "排序过程： [1, 1, 0, -1, 1, 3, 3, 7, 5, 22, 14, 9, 11, 4]\n",
      "排序过程： [1, 1, 0, -1, 1, 3, 3, 7, 5, 22, 14, 9, 11, 4]\n",
      "排序过程： [-1, 1, 0, 1, 1, 3, 3, 7, 5, 22, 14, 9, 11, 4]\n",
      "排序过程： [-1, 1, 0, 1, 1, 3, 3, 7, 5, 22, 14, 9, 11, 4]\n",
      "排序过程： [-1, 0, 1, 1, 1, 3, 3, 7, 5, 4, 14, 9, 11, 22]\n",
      "排序过程： [-1, 0, 1, 1, 1, 3, 3, 7, 5, 4, 14, 9, 11, 22]\n",
      "排序过程： [-1, 0, 1, 1, 1, 3, 3, 4, 5, 7, 14, 9, 11, 22]\n",
      "排序过程： [-1, 0, 1, 1, 1, 3, 3, 4, 5, 7, 14, 9, 11, 22]\n",
      "排序过程： [-1, 0, 1, 1, 1, 3, 3, 4, 5, 7, 11, 9, 14, 22]\n"
     ]
    },
    {
     "data": {
      "text/plain": [
       "[-1, 0, 1, 1, 1, 3, 3, 4, 5, 7, 9, 11, 14, 22]"
      ]
     },
     "execution_count": 8,
     "metadata": {},
     "output_type": "execute_result"
    }
   ],
   "source": [
    "my_array=list([3,4,14,22,1,5,7,3,1,-1,0,9,11,1])\n",
    "quick_sort(0,len(my_array)-1,my_array)\n",
    "my_array"
   ]
  },
  {
   "cell_type": "markdown",
   "metadata": {},
   "source": [
    "使用 栈 实习非递归的快速排序：  \n",
    "\n",
    "代码中一层层的方法调用，本身就使用了一个方法调用栈    \n",
    "\n",
    "可以把原本的递归实现转化为一个栈的实现，在栈中存储每一次方法调用的参数"
   ]
  },
  {
   "cell_type": "code",
   "execution_count": 9,
   "metadata": {},
   "outputs": [],
   "source": [
    "def quick_sort(start_index,end_index,array=[]):\n",
    "    # 用一个集合栈代替递归的函数栈\n",
    "    quick_sort_stack=[]\n",
    "    # 整个数列的起止下标，以哈希的形式入栈\n",
    "    root_param={'startIndex':start_index,'endIndex':end_index}\n",
    "    quick_sort_stack.append(root_param)\n",
    "    # 循环结束条件：栈为空时结束\n",
    "    while len(quick_sort_stack)>0:\n",
    "        # 栈顶元素出栈，得到起止下标\n",
    "        param=quick_sort_stack.pop()\n",
    "        # 得到基准元素位置\n",
    "        pivot_index=partition(param.get('startIndex'),param.get('endIndex'),array)\n",
    "        # 根据基准元素分成两部分，把每一部分的起止下标入栈\n",
    "        if param.get('startIndex')<pivot_index-1:\n",
    "            left_param={'startIndex':param.get('startIndex'),'endIndex':pivot_index-1}\n",
    "            quick_sort_stack.append(left_param)\n",
    "        if pivot_index+1<param.get('endIndex'):\n",
    "            right_param={'startIndex':pivot_index+1,'endIndex':param.get('endIndex')}\n",
    "            quick_sort_stack.append(right_param)\n",
    "        print('排序过程：',array) \n",
    "    \n",
    "def partition(start_index,end_index,array=[]):    \n",
    "    # 取第一个位置的元素作为基准元素（也可选择随机位置）\n",
    "    pivot=array[start_index]\n",
    "    left=start_index\n",
    "    right=end_index\n",
    "    while left != right:\n",
    "        # 控制 right 指针进行比较并左移\n",
    "        while left < right and array[right] > pivot:\n",
    "            right -= 1\n",
    "        # 控制 left 指针进行比较并右移\n",
    "        while left < right and array[left] <= pivot:\n",
    "            left += 1\n",
    "        # 交换 left 指针和 right指针指向的元素\n",
    "        if left < right:\n",
    "            p = array[left]\n",
    "            array[left]=array[right]\n",
    "            array[right]=p\n",
    "    # pivot 和指针重合点交换\n",
    "    array[start_index]=array[left]\n",
    "    array[left]=pivot\n",
    "    return left"
   ]
  },
  {
   "cell_type": "code",
   "execution_count": 10,
   "metadata": {},
   "outputs": [
    {
     "name": "stdout",
     "output_type": "stream",
     "text": [
      "排序过程： [3, 1, 0, -1, 1, 1, 3, 7, 5, 22, 14, 9, 11, 4]\n",
      "排序过程： [3, 1, 0, -1, 1, 1, 3, 4, 5, 7, 14, 9, 11, 22]\n",
      "排序过程： [3, 1, 0, -1, 1, 1, 3, 4, 5, 7, 11, 9, 14, 22]\n",
      "排序过程： [3, 1, 0, -1, 1, 1, 3, 4, 5, 7, 9, 11, 14, 22]\n",
      "排序过程： [3, 1, 0, -1, 1, 1, 3, 4, 5, 7, 9, 11, 14, 22]\n",
      "排序过程： [1, 1, 0, -1, 1, 3, 3, 4, 5, 7, 9, 11, 14, 22]\n",
      "排序过程： [1, 1, 0, -1, 1, 3, 3, 4, 5, 7, 9, 11, 14, 22]\n",
      "排序过程： [-1, 1, 0, 1, 1, 3, 3, 4, 5, 7, 9, 11, 14, 22]\n",
      "排序过程： [-1, 1, 0, 1, 1, 3, 3, 4, 5, 7, 9, 11, 14, 22]\n",
      "排序过程： [-1, 0, 1, 1, 1, 3, 3, 4, 5, 7, 9, 11, 14, 22]\n"
     ]
    },
    {
     "data": {
      "text/plain": [
       "[-1, 0, 1, 1, 1, 3, 3, 4, 5, 7, 9, 11, 14, 22]"
      ]
     },
     "execution_count": 10,
     "metadata": {},
     "output_type": "execute_result"
    }
   ],
   "source": [
    "my_array=list([3,4,14,22,1,5,7,3,1,-1,0,9,11,1])\n",
    "quick_sort(0,len(my_array)-1,my_array)\n",
    "my_array"
   ]
  },
  {
   "cell_type": "markdown",
   "metadata": {},
   "source": [
    "### >>> 二叉堆实现排序\n",
    "时间复杂度 O（n logn），空间复杂度 O（1）"
   ]
  },
  {
   "cell_type": "code",
   "execution_count": 11,
   "metadata": {},
   "outputs": [],
   "source": [
    "def heap_sort(array=[]):\n",
    "    # 1. 把无序数组构建成最大堆\n",
    "    for i in range((len(array)-2)//2,-1,-1): # 树的深度递减循环\n",
    "        down_adjust(i,len(array),array)\n",
    "    print('原数列转换为最大二叉堆存储：')\n",
    "    print(array)\n",
    "    print('='*50)\n",
    "    # 2. 循环交换集合尾部元素到堆顶，并调节堆产生新的堆顶\n",
    "    for i in range(len(array)-1,0,-1):\n",
    "        # 最后一个元素和第一个元素进行交换\n",
    "        temp=array[i]\n",
    "        array[i]=array[0]\n",
    "        array[0]=temp\n",
    "        # 下沉调整最大堆\n",
    "        down_adjust(0,i,array)\n",
    "        print('下沉调整堆排序:',array)\n",
    "\n",
    "def down_adjust(parent_index,length,array=[]):\n",
    "    # temp 保存父节点的值，用于最后的赋值\n",
    "    temp=array[parent_index]\n",
    "    child_index=2*parent_index + 1\n",
    "    while child_index < length:\n",
    "        # 如果有右孩子，且右孩子的值小于左孩子，则定位到右孩子\n",
    "        if child_index + 1 < length and array[child_index +1] < array[child_index]:\n",
    "            child_index += 1\n",
    "        # 如果父节点的值小于任何一个孩子的值，直接跳出\n",
    "        if temp <= array[child_index]:\n",
    "            break\n",
    "        # 无须真正交换，单向赋值即可\n",
    "        array[parent_index]=array[child_index]\n",
    "        parent_index=child_index\n",
    "        child_index= 2*child_index +1\n",
    "    array[parent_index]=temp"
   ]
  },
  {
   "cell_type": "code",
   "execution_count": 12,
   "metadata": {},
   "outputs": [
    {
     "name": "stdout",
     "output_type": "stream",
     "text": [
      "原数列转换为最大二叉堆存储：\n",
      "[-1, 0, 1, 1, 1, 5, 7, 3, 22, 3, 4, 9, 11, 14]\n",
      "==================================================\n",
      "下沉调整堆排序: [0, 1, 1, 3, 1, 5, 7, 14, 22, 3, 4, 9, 11, -1]\n",
      "下沉调整堆排序: [1, 1, 1, 3, 3, 5, 7, 14, 22, 11, 4, 9, 0, -1]\n",
      "下沉调整堆排序: [1, 3, 1, 9, 3, 5, 7, 14, 22, 11, 4, 1, 0, -1]\n",
      "下沉调整堆排序: [1, 3, 4, 9, 3, 5, 7, 14, 22, 11, 1, 1, 0, -1]\n",
      "下沉调整堆排序: [3, 3, 4, 9, 11, 5, 7, 14, 22, 1, 1, 1, 0, -1]\n",
      "下沉调整堆排序: [3, 9, 4, 14, 11, 5, 7, 22, 3, 1, 1, 1, 0, -1]\n",
      "下沉调整堆排序: [4, 9, 5, 14, 11, 22, 7, 3, 3, 1, 1, 1, 0, -1]\n",
      "下沉调整堆排序: [5, 9, 7, 14, 11, 22, 4, 3, 3, 1, 1, 1, 0, -1]\n",
      "下沉调整堆排序: [7, 9, 22, 14, 11, 5, 4, 3, 3, 1, 1, 1, 0, -1]\n",
      "下沉调整堆排序: [9, 11, 22, 14, 7, 5, 4, 3, 3, 1, 1, 1, 0, -1]\n",
      "下沉调整堆排序: [11, 14, 22, 9, 7, 5, 4, 3, 3, 1, 1, 1, 0, -1]\n",
      "下沉调整堆排序: [14, 22, 11, 9, 7, 5, 4, 3, 3, 1, 1, 1, 0, -1]\n",
      "下沉调整堆排序: [22, 14, 11, 9, 7, 5, 4, 3, 3, 1, 1, 1, 0, -1]\n"
     ]
    },
    {
     "data": {
      "text/plain": [
       "[22, 14, 11, 9, 7, 5, 4, 3, 3, 1, 1, 1, 0, -1]"
      ]
     },
     "execution_count": 12,
     "metadata": {},
     "output_type": "execute_result"
    }
   ],
   "source": [
    "my_array=list([3,4,14,22,1,5,7,3,1,-1,0,9,11,1])\n",
    "heap_sort(my_array)\n",
    "my_array"
   ]
  },
  {
   "cell_type": "markdown",
   "metadata": {},
   "source": [
    "### >>> 计数排序\n",
    "适用于一定范围内的整数排序，时间复杂度为O（n+m），空间复杂度为 O（m），其中 m 为最大值和最小值的差值"
   ]
  },
  {
   "cell_type": "code",
   "execution_count": 13,
   "metadata": {},
   "outputs": [],
   "source": [
    "def count_sort(array=[]):\n",
    "    # 1. 得到数列的最大值、最小值，并算出差值 d\n",
    "    max_value=array[0]\n",
    "    min_value=array[0]\n",
    "    for i in range(1,len(array)):\n",
    "        if array[i]>max_value:\n",
    "            max_value=array[i]\n",
    "        if array[i]<min_value:\n",
    "            min_value=array[i]\n",
    "    d=max_value-min_value\n",
    "    print('最大值:',max_value)\n",
    "    print('最小值:',min_value)\n",
    "    print('差值:',d)\n",
    "    print('='*30)\n",
    "    # 2. 创建统计数组并统计对应元素个数\n",
    "    count_array=[0]*(d+1)\n",
    "    for i in range(0,len(array)):\n",
    "        count_array[array[i]-min_value]+=1\n",
    "    print('按数值从小到大，统计其出现频次：')\n",
    "    print(count_array)\n",
    "    print('='*50)\n",
    "    # 3. 统计数组做变形，后面的元素等于前面的元素之和\n",
    "    for i in range(1,d+1):\n",
    "        count_array[i]+=count_array[i-1]\n",
    "    print('为保障相同数值的先后顺序不变，对统计数组变形：')\n",
    "    print(count_array)\n",
    "    print('='*70)\n",
    "    # 4. 倒序遍历原始数列，从统计数组找到正确位置，输出到结果数组\n",
    "    sorted_array=[0]*len(array)\n",
    "    for i in range(len(array)-1,-1,-1):\n",
    "        sorted_array[count_array[array[i]-min_value]-1]=array[i]\n",
    "        count_array[array[i]-min_value]-=1\n",
    "    return sorted_array"
   ]
  },
  {
   "cell_type": "code",
   "execution_count": 14,
   "metadata": {},
   "outputs": [
    {
     "name": "stdout",
     "output_type": "stream",
     "text": [
      "最大值: 22\n",
      "最小值: -1\n",
      "差值: 23\n",
      "==============================\n",
      "按数值从小到大，统计其出现频次：\n",
      "[1, 1, 3, 0, 2, 1, 1, 0, 1, 0, 1, 0, 1, 0, 0, 1, 0, 0, 0, 0, 0, 0, 0, 1]\n",
      "==================================================\n",
      "为保障相同数值的先后顺序不变，对统计数组变形：\n",
      "[1, 2, 5, 5, 7, 8, 9, 9, 10, 10, 11, 11, 12, 12, 12, 13, 13, 13, 13, 13, 13, 13, 13, 14]\n",
      "======================================================================\n",
      "最终输出有序数列： \n",
      " [-1, 0, 1, 1, 1, 3, 3, 4, 5, 7, 9, 11, 14, 22]\n"
     ]
    }
   ],
   "source": [
    "my_array=list([3,4,14,22,1,5,7,3,1,0,-1,9,11,1])\n",
    "print('最终输出有序数列：','\\n',count_sort(my_array))"
   ]
  },
  {
   "cell_type": "code",
   "execution_count": 15,
   "metadata": {},
   "outputs": [
    {
     "name": "stdout",
     "output_type": "stream",
     "text": [
      "7\n",
      "12\n",
      "18\n",
      "25\n"
     ]
    }
   ],
   "source": [
    "a=[3,4,5,6,7]\n",
    "for i in range(1,5):\n",
    "    a[i]+=a[i-1]\n",
    "    print(a[i])"
   ]
  },
  {
   "cell_type": "markdown",
   "metadata": {},
   "source": [
    "### >>> 桶排序\n",
    "由于计数排序仅适合整数型数据，且最大值和最小值之间差距不宜过大的情况   \n",
    "\n",
    "桶排序类似计数排序，先将数据分成不同区间范围，每个区间范围即一个桶（bucket）   \n",
    "\n",
    "每个元素在桶内进行排序，最后遍历所有桶，输出所有元素"
   ]
  },
  {
   "cell_type": "code",
   "execution_count": 16,
   "metadata": {},
   "outputs": [],
   "source": [
    "def bucket_sort(array=[]):\n",
    "    # 1. 得到数列的最大值和最小值，并算出差值 d\n",
    "    max_value=array[0]\n",
    "    min_value=array[0]\n",
    "    for i in range(1,len(array)):\n",
    "        if array[i]>max_value:\n",
    "            max_value=array[i]\n",
    "        if array[i]<min_value:\n",
    "            min_value=array[i]\n",
    "    d=max_value-min_value\n",
    "    print('最大值:',max_value)\n",
    "    print('最小值:',min_value)\n",
    "    print('差值:',d)\n",
    "    print('='*30)\n",
    "    \n",
    "    # 2. 初始化桶\n",
    "    bucket_num=len(array)\n",
    "    bucket_list=[]\n",
    "    for i in range(0,bucket_num):\n",
    "        bucket_list.append([])\n",
    "    \n",
    "    # 3. 遍历原始数组，将每个元素放入桶中\n",
    "    for i in range(0,len(array)):\n",
    "        num=int((array[i]-min_value)*(bucket_num-1)/d)\n",
    "        print('桶编号：',num)\n",
    "        bucket=bucket_list[num]\n",
    "        bucket.append(array[i])\n",
    "        print(bucket)\n",
    "        \n",
    "    # 4. 对每个桶内部进行排序\n",
    "    for i in range(0,len(bucket_list)):\n",
    "        # list 采用了归并排序的优化版本\n",
    "        bucket_list[i].sort()\n",
    "    print('='*50)\n",
    "    print('对桶进行排序：')\n",
    "    print(bucket_list)\n",
    "        \n",
    "    # 5. 输出全部元素\n",
    "    sorted_array=[]\n",
    "    for sub_list in bucket_list:\n",
    "        for element in sub_list:\n",
    "            sorted_array.append(element)\n",
    "    return sorted_array"
   ]
  },
  {
   "cell_type": "code",
   "execution_count": 17,
   "metadata": {},
   "outputs": [
    {
     "name": "stdout",
     "output_type": "stream",
     "text": [
      "最大值: 22\n",
      "最小值: -1\n",
      "差值: 23\n",
      "==============================\n",
      "桶编号： 2\n",
      "[3]\n",
      "桶编号： 2\n",
      "[3, 4]\n",
      "桶编号： 8\n",
      "[14]\n",
      "桶编号： 13\n",
      "[22]\n",
      "桶编号： 1\n",
      "[1]\n",
      "桶编号： 3\n",
      "[5]\n",
      "桶编号： 4\n",
      "[7]\n",
      "桶编号： 2\n",
      "[3, 4, 3]\n",
      "桶编号： 1\n",
      "[1, 1]\n",
      "桶编号： 0\n",
      "[0]\n",
      "桶编号： 0\n",
      "[0, -1]\n",
      "桶编号： 5\n",
      "[9]\n",
      "桶编号： 6\n",
      "[11]\n",
      "桶编号： 1\n",
      "[1, 1, 1]\n",
      "==================================================\n",
      "对桶进行排序：\n",
      "[[-1, 0], [1, 1, 1], [3, 3, 4], [5], [7], [9], [11], [], [14], [], [], [], [], [22]]\n",
      "输出最终排序结果： \n",
      " [-1, 0, 1, 1, 1, 3, 3, 4, 5, 7, 9, 11, 14, 22]\n"
     ]
    }
   ],
   "source": [
    "my_array=list([3,4,14,22,1,5,7,3,1,0,-1,9,11,1])\n",
    "print('输出最终排序结果：','\\n',bucket_sort(my_array))"
   ]
  },
  {
   "cell_type": "code",
   "execution_count": 18,
   "metadata": {},
   "outputs": [
    {
     "data": {
      "text/plain": [
       "2"
      ]
     },
     "execution_count": 18,
     "metadata": {},
     "output_type": "execute_result"
    }
   ],
   "source": [
    "int(2.8)"
   ]
  }
 ],
 "metadata": {
  "kernelspec": {
   "display_name": "Python 3",
   "language": "python",
   "name": "python3"
  },
  "language_info": {
   "codemirror_mode": {
    "name": "ipython",
    "version": 3
   },
   "file_extension": ".py",
   "mimetype": "text/x-python",
   "name": "python",
   "nbconvert_exporter": "python",
   "pygments_lexer": "ipython3",
   "version": "3.7.0"
  }
 },
 "nbformat": 4,
 "nbformat_minor": 2
}
