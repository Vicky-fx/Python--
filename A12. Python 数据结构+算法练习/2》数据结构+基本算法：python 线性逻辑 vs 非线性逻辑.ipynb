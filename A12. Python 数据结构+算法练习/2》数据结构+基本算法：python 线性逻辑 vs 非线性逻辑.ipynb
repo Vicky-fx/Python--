{
 "cells": [
  {
   "cell_type": "markdown",
   "metadata": {},
   "source": [
    "### Python 基础算法练习（Hadoop + Spark + MySQL + Python）\n",
    "## <center>2 >>> 数据结构+基本算法：python 线性逻辑 vs 非线性逻辑</center>\n",
    "### <center>算法验证：张君颖  ； 报告日期：2021.1.21</center>\n",
    "  <font color=blue><center>作者邮箱：zhang.jun.ying@outlook.com</center></font>   \n",
    "  \n",
    "  <font color=blue><center>项目源代码、数据、自定义函数已上传GitHub：</center></font>   \n",
    "    \n",
    "<font color=blue><center>https://github.com/lotbear/Python-Financial-investment-strategy</center></font>"
   ]
  },
  {
   "cell_type": "markdown",
   "metadata": {},
   "source": [
    "### >>> 线性逻辑结构 + 顺序存储 or 链式存储 （数据的物理结构）\n",
    "线性逻辑数据：栈、队列、哈希表，可选择顺序存储 或 链式存储    \n",
    "\n",
    "线性逻辑 + 顺序存储 ：数组    \n",
    "\n",
    "线性逻辑 + 链式存储 ： 链表"
   ]
  },
  {
   "cell_type": "markdown",
   "metadata": {},
   "source": [
    "### >>> 栈  vs 队列\n",
    "栈 LIFO ：last in first out 后进先出，栈底封闭，数据从栈顶进出。   \n",
    "\n",
    "栈的应用：由于数据输入顺序和输出顺序相反，栈常被用于“历史回溯”场景，如“面包屑导航”，使用户浏览页面时可以轻松回溯到上一级页面。  \n",
    "\n",
    "队列 FIFO：first in first out 先进先出，数据队尾进，队头出。   \n",
    "\n",
    "队列的应用：由于数据输入和输出顺序相同，队列常用于“历史重演”；在多线程任务中，公平锁的等待队列就是按访问顺序决定线程在队列中的次序。\n",
    "\n",
    "### >>> 我们自定义一个队列类 MyQueue:\n",
    "python 中 collection.deque 双边队列（同时具有队列和栈的性质）   \n",
    "\n",
    "官方文档：https://docs.python.org/2/library/collections.html#collections.deque"
   ]
  },
  {
   "cell_type": "code",
   "execution_count": 1,
   "metadata": {},
   "outputs": [],
   "source": [
    "class MyQueue:\n",
    "    def __init__(self,capacity):\n",
    "        self.list=[None]*capacity\n",
    "        self.front=0\n",
    "        self.rear=0\n",
    "        \n",
    "    def enqueue(self,element):\n",
    "        if (self.rear+1)%len(self.list)==self.front:\n",
    "            raise Exception('队列已满！')\n",
    "        self.list[self.rear]=element\n",
    "        self.rear=(self.rear+1)%len(self.list)\n",
    "        \n",
    "    def dequeue(self):\n",
    "        if self.rear==self.front:\n",
    "            raise Exception('队列已满！')\n",
    "        dequeue_element=self.list[self.front]\n",
    "        self.front=(self.front+1)%len(self.list)\n",
    "        return dequeue_element\n",
    "    \n",
    "    def output(self):\n",
    "        i=self.front\n",
    "        while i !=self.rear:\n",
    "            print(self.list[i])\n",
    "            i=(i+1)%len(self.list)"
   ]
  },
  {
   "cell_type": "code",
   "execution_count": 2,
   "metadata": {},
   "outputs": [
    {
     "name": "stdout",
     "output_type": "stream",
     "text": [
      "初始队列size： 6\n",
      "插入后队列size： 6\n",
      "1\n",
      "3\n",
      "5\n",
      "lotbear\n",
      "lotbear\n",
      "None\n",
      "==============================\n",
      "5\n",
      "lotbear\n",
      "lotbear\n",
      "8\n",
      "9\n"
     ]
    }
   ],
   "source": [
    "myQueue=MyQueue(6)\n",
    "print('初始队列size：',len(myQueue.list))\n",
    "myQueue.enqueue(1)\n",
    "myQueue.enqueue(3)\n",
    "myQueue.enqueue(5)\n",
    "myQueue.enqueue('lotbear')\n",
    "myQueue.enqueue('lotbear')\n",
    "print('插入后队列size：',len(myQueue.list))\n",
    "print(myQueue.output())\n",
    "print('='*30)\n",
    "myQueue.dequeue()\n",
    "myQueue.dequeue()\n",
    "myQueue.enqueue(8)\n",
    "myQueue.enqueue(9)\n",
    "myQueue.output()"
   ]
  },
  {
   "cell_type": "markdown",
   "metadata": {},
   "source": [
    "### >>> 哈希表（字典）\n",
    "key-value 的函数关系映射，使得哈希表查询数据的时间复杂度接近于 O（1）   \n",
    "\n",
    "哈希表本质上也是一个数组，数组是通过顺序下标查询数据，而哈希表是通过数据对应的key（通常为字符串）来锁定。   \n",
    "\n",
    "在 python 中，哈希表对应的集合叫 字典（dict）  \n",
    "\n",
    "哈希函数 将 value 的 key 转变为一个整型变量 hash值，再将 hash值进行取模运算，获得数组的下标 index k  \n",
    "\n",
    "key-value 数组按 index 进行存储，若遇到 “ 撞衫 ”——> “ 哈希冲突 ”，将通过 “ 开发寻址法 ” 或 “ 链表法 ” 进行存储"
   ]
  },
  {
   "cell_type": "code",
   "execution_count": 3,
   "metadata": {},
   "outputs": [
    {
     "name": "stdout",
     "output_type": "stream",
     "text": [
      "\"lotbear\" 的哈希值：\n"
     ]
    },
    {
     "data": {
      "text/plain": [
       "-1527740003696082476"
      ]
     },
     "execution_count": 3,
     "metadata": {},
     "output_type": "execute_result"
    }
   ],
   "source": [
    "print('\"lotbear\" 的哈希值：')\n",
    "hash('lotbear')"
   ]
  },
  {
   "cell_type": "code",
   "execution_count": 4,
   "metadata": {},
   "outputs": [
    {
     "name": "stdout",
     "output_type": "stream",
     "text": [
      "对\"lotbear\" 哈希值取模运算：\n"
     ]
    },
    {
     "data": {
      "text/plain": [
       "4"
      ]
     },
     "execution_count": 4,
     "metadata": {},
     "output_type": "execute_result"
    }
   ],
   "source": [
    "print('对\"lotbear\" 哈希值取模运算：')\n",
    "index=hash('lotbear')%6\n",
    "index"
   ]
  },
  {
   "cell_type": "code",
   "execution_count": 5,
   "metadata": {},
   "outputs": [
    {
     "name": "stdout",
     "output_type": "stream",
     "text": [
      "\"2020-01-22\" 的哈希值：\n"
     ]
    },
    {
     "data": {
      "text/plain": [
       "-6537018285809882149"
      ]
     },
     "execution_count": 5,
     "metadata": {},
     "output_type": "execute_result"
    }
   ],
   "source": [
    "print('\"2020-01-22\" 的哈希值：')\n",
    "hash('2020-01-22')"
   ]
  },
  {
   "cell_type": "code",
   "execution_count": 6,
   "metadata": {},
   "outputs": [
    {
     "name": "stdout",
     "output_type": "stream",
     "text": [
      "对\"2020-01-22\" 哈希值取模运算：\n"
     ]
    },
    {
     "data": {
      "text/plain": [
       "5"
      ]
     },
     "execution_count": 6,
     "metadata": {},
     "output_type": "execute_result"
    }
   ],
   "source": [
    "print('对\"2020-01-22\" 哈希值取模运算：')\n",
    "index=hash('2020-01-22')%6\n",
    "index"
   ]
  },
  {
   "cell_type": "markdown",
   "metadata": {},
   "source": [
    "python 中的 “ 字典 dict ” 创建及操作"
   ]
  },
  {
   "cell_type": "code",
   "execution_count": 7,
   "metadata": {},
   "outputs": [
    {
     "name": "stdout",
     "output_type": "stream",
     "text": [
      "<class 'dict'>\n"
     ]
    },
    {
     "data": {
      "text/plain": [
       "{'lotbaer': '长尾熊', '2020-01-22': 'Friday', 'python': 119}"
      ]
     },
     "execution_count": 7,
     "metadata": {},
     "output_type": "execute_result"
    }
   ],
   "source": [
    "a={'lotbaer':'长尾熊','2020-01-22':'Friday','python':119}\n",
    "print(type(a))\n",
    "a"
   ]
  },
  {
   "cell_type": "code",
   "execution_count": 8,
   "metadata": {},
   "outputs": [
    {
     "data": {
      "text/plain": [
       "119"
      ]
     },
     "execution_count": 8,
     "metadata": {},
     "output_type": "execute_result"
    }
   ],
   "source": [
    "a['python'] # 通过 key 查找 value"
   ]
  },
  {
   "cell_type": "code",
   "execution_count": 9,
   "metadata": {},
   "outputs": [
    {
     "name": "stdout",
     "output_type": "stream",
     "text": [
      "a 字典 key-value 数据对数： 6\n"
     ]
    },
    {
     "data": {
      "text/plain": [
       "dict_items([('lotbaer', '长尾熊'), ('2020-01-22', 'Friday'), ('python', 120), (1, 1), (2, 2), (3, 3)])"
      ]
     },
     "execution_count": 9,
     "metadata": {},
     "output_type": "execute_result"
    }
   ],
   "source": [
    "a['python']=120 # 更新数值\n",
    "a[1]=1 # 插入新的 key-value\n",
    "a[2]=2\n",
    "a[3]=3\n",
    "print('a 字典 key-value 数据对数：',len(a))\n",
    "a.items() # 也可分别查 a.keys() ； a.values()"
   ]
  },
  {
   "cell_type": "markdown",
   "metadata": {},
   "source": [
    "### >>> 非线性逻辑（二叉树）+ 顺序存储 or 链式存储 \n",
    "二叉树 + 链式存储：每个节点包含三个部分 —— data变量，left 指针，right 指针  \n",
    "\n",
    "二叉树 + 顺序存储：如二叉堆（一种特殊的完全二叉树），按层级顺序，将树节点放到数组中对应的位置上：    \n",
    "\n",
    "<center> 父节点的下标为 n , 左孩子节点下标为 2 * n + 1</center>    \n",
    "\n",
    "<center> 左孩子节点的下标为 n , 父节点下标为 （n + 1）/ 2</center>    \n",
    "\n",
    "二叉树的应用：二叉查找树（时间复杂度为 O ( log n )），机器学习中的决策树、随机森林、Xgboost等"
   ]
  },
  {
   "cell_type": "code",
   "execution_count": 10,
   "metadata": {},
   "outputs": [],
   "source": [
    "class Tree:\n",
    "    def __init__(self,kids,next=None):\n",
    "        self.kids=self.val=kids\n",
    "        self.next=next"
   ]
  },
  {
   "cell_type": "code",
   "execution_count": 11,
   "metadata": {},
   "outputs": [
    {
     "data": {
      "text/plain": [
       "'O'"
      ]
     },
     "execution_count": 11,
     "metadata": {},
     "output_type": "execute_result"
    }
   ],
   "source": [
    "t=Tree(Tree('L',Tree('O',Tree('T',Tree('B',Tree('E',Tree('A',Tree('R'))))))))\n",
    "t.kids.next.val"
   ]
  },
  {
   "cell_type": "code",
   "execution_count": 12,
   "metadata": {},
   "outputs": [
    {
     "data": {
      "text/plain": [
       "'T'"
      ]
     },
     "execution_count": 12,
     "metadata": {},
     "output_type": "execute_result"
    }
   ],
   "source": [
    "t.kids.next.next.val"
   ]
  },
  {
   "cell_type": "markdown",
   "metadata": {},
   "source": [
    "### >>> 自定义二叉查找树，功能实现 前、中、后需遍历"
   ]
  },
  {
   "cell_type": "code",
   "execution_count": 13,
   "metadata": {},
   "outputs": [
    {
     "name": "stdout",
     "output_type": "stream",
     "text": [
      "1\n",
      "2\n",
      "3\n"
     ]
    }
   ],
   "source": [
    "a=[1,2,3,4,5]\n",
    "print(a.pop(0))\n",
    "print(a.pop(0))\n",
    "print(a.pop(0))"
   ]
  },
  {
   "cell_type": "code",
   "execution_count": 14,
   "metadata": {},
   "outputs": [],
   "source": [
    "class TreeNode:\n",
    "    def __init__(self,data):\n",
    "        self.data=data\n",
    "        self.left=None\n",
    "        self.right=None\n",
    "\n",
    "def create_binary_tree(input_list=[]):\n",
    "    \"\"\"\n",
    "    构建二叉树\n",
    "    \"\"\"\n",
    "    if input_list is None or len(input_list)==0:\n",
    "        return None\n",
    "    data=input_list.pop(0)\n",
    "    if data is None:\n",
    "        return None\n",
    "    node=TreeNode(data)\n",
    "    node.left=create_binary_tree(input_list)\n",
    "    node.right=create_binary_tree(input_list)\n",
    "    return node\n",
    "\n",
    "def pre_order_traversal(node):\n",
    "    \"\"\"\n",
    "    前序遍历：根节点 -> 左子树 -> 右子树\n",
    "    \"\"\"\n",
    "    if node is None:\n",
    "        return\n",
    "    print(node.data)\n",
    "    pre_order_traversal(node.left)\n",
    "    pre_order_traversal(node.right)\n",
    "    return node\n",
    "\n",
    "def in_order_traversal(node):\n",
    "    \"\"\"\n",
    "    中序遍历：左子树 -> 根节点 -> 右子树\n",
    "    \"\"\"\n",
    "    if node is None:\n",
    "        return\n",
    "    in_order_traversal(node.left)\n",
    "    print(node.data)\n",
    "    in_order_traversal(node.right)\n",
    "    return node\n",
    "\n",
    "def post_order_traversal(node):\n",
    "    \"\"\"\n",
    "    后序遍历：左子树 -> 右子树 -> 根节点 \n",
    "    \"\"\"\n",
    "    if node is None:\n",
    "        return\n",
    "    post_order_traversal(node.left)\n",
    "    post_order_traversal(node.right)\n",
    "    print(node.data)\n",
    "    return node"
   ]
  },
  {
   "cell_type": "code",
   "execution_count": 15,
   "metadata": {},
   "outputs": [
    {
     "name": "stdout",
     "output_type": "stream",
     "text": [
      "前序遍历：\n",
      "L\n",
      "O\n",
      "T\n",
      "B\n",
      "E\n",
      "A\n",
      "R\n",
      "2021\n",
      "0122\n",
      "==============================\n",
      "中序遍历：\n",
      "R\n",
      "0122\n",
      "2021\n",
      "A\n",
      "E\n",
      "B\n",
      "T\n",
      "O\n",
      "L\n",
      "==============================\n",
      "后序遍历：\n",
      "0122\n",
      "2021\n",
      "R\n",
      "A\n",
      "E\n",
      "B\n",
      "T\n",
      "O\n",
      "L\n"
     ]
    },
    {
     "data": {
      "text/plain": [
       "<__main__.TreeNode at 0x1e07352c1d0>"
      ]
     },
     "execution_count": 15,
     "metadata": {},
     "output_type": "execute_result"
    }
   ],
   "source": [
    "my_input_list=list(['L','O','T','B','E','A','R',None,'2021','0122'])\n",
    "root=create_binary_tree(my_input_list)\n",
    "print('前序遍历：')\n",
    "pre_order_traversal(root)\n",
    "print('='*30)\n",
    "print('中序遍历：')\n",
    "in_order_traversal(root)\n",
    "print('='*30)\n",
    "print('后序遍历：')\n",
    "post_order_traversal(root)"
   ]
  },
  {
   "cell_type": "markdown",
   "metadata": {},
   "source": [
    "###  非递归法实现二叉树 前序遍历 ( 利用 栈 数据结构 )"
   ]
  },
  {
   "cell_type": "code",
   "execution_count": 16,
   "metadata": {},
   "outputs": [],
   "source": [
    "def pre_oder_traversal_with_stack(node):\n",
    "    stack=[]\n",
    "    while node is not None or len(stack)>0:\n",
    "        print(node.data)\n",
    "        stack.append(node)\n",
    "        node=node.left\n",
    "    if len(stack)>0:\n",
    "        node=stack.pop()\n",
    "        node=node.right\n",
    "    return node"
   ]
  },
  {
   "cell_type": "markdown",
   "metadata": {},
   "source": [
    "### >>> 二叉堆\n",
    "最大堆：任何一个父节点的值，都大于等于它左孩子/右孩子节点的值。   \n",
    "\n",
    "最小堆：任何一个父节点的值，都小于等于它左孩子/右孩子节点的值。   \n",
    "\n",
    "二叉堆的插入、删除操作的时间复杂度为 O（log n）; 二叉堆的构建操作时间复杂度为 O（ n ）"
   ]
  },
  {
   "cell_type": "markdown",
   "metadata": {},
   "source": [
    "### 自定义函数，实现二叉堆插入 / 删除节点功能"
   ]
  },
  {
   "cell_type": "code",
   "execution_count": 17,
   "metadata": {},
   "outputs": [],
   "source": [
    "def up_adjust(array=[]):\n",
    "    \"\"\"\n",
    "    二叉堆的尾节点上浮操作\n",
    "    \"\"\"\n",
    "    child_index=len(array)-1\n",
    "    parent_index=(child_index -1)//2\n",
    "    # temp 保存插入的叶子节点值，用于最后的赋值\n",
    "    temp=array[child_index]\n",
    "    while child_index > 0 and temp < array[parent_index]:\n",
    "        # 无须真正交换，单向赋值即可\n",
    "        array[child_index]=array[parent_index]\n",
    "        child_index=parent_index\n",
    "        parent_index=(parent_index -1)//2\n",
    "    array[child_index]=temp\n",
    "    \n",
    "def down_adjust(parent_index,length,array=[]):\n",
    "    \"\"\"\n",
    "    二叉堆的节点下沉操作\n",
    "    \"\"\"\n",
    "    # temp 保存父节点的值，用于最后的赋值\n",
    "    temp=array[parent_index]\n",
    "    child_index=2*parent_index + 1\n",
    "    while child_index < length:\n",
    "        # 如果有右孩子，且右孩子的值小于左孩子，则定位到右孩子\n",
    "        if child_index + 1 < length and array[child_index +1] < array[child_index]:\n",
    "            child_index += 1\n",
    "        # 如果父节点的值小于任何一个孩子的值，直接跳出\n",
    "        if temp <= array[child_index]:\n",
    "            break\n",
    "        # 无须真正交换，单向赋值即可\n",
    "        array[parent_index]=array[child_index]\n",
    "        parent_index=child_index\n",
    "        child_index= 2*child_index +1\n",
    "    array[parent_index]=temp\n",
    "    \n",
    "def build_heap(array=[]):\n",
    "    \"\"\"\n",
    "    二叉堆的构建操作\n",
    "    \"\"\"\n",
    "    # 从最后一个非子叶节点开始，依次下沉调整\n",
    "    for i in range((len(array)-2)//2,-1,-1):\n",
    "        down_adjust(i,len(array),array)"
   ]
  },
  {
   "cell_type": "code",
   "execution_count": 18,
   "metadata": {},
   "outputs": [
    {
     "name": "stdout",
     "output_type": "stream",
     "text": [
      "[2, 7, 9, 8, 3, 5, 6]\n",
      "[1, 3, 7, 5, 8]\n"
     ]
    }
   ],
   "source": [
    "my_array=list([9,7,6,8,3,5,2])\n",
    "up_adjust(my_array)\n",
    "print(my_array)\n",
    "my_array=list([7,3,1,5,8])\n",
    "build_heap(my_array)\n",
    "print(my_array)"
   ]
  },
  {
   "cell_type": "code",
   "execution_count": 19,
   "metadata": {},
   "outputs": [
    {
     "name": "stdout",
     "output_type": "stream",
     "text": [
      "2\n",
      "1\n",
      "0\n"
     ]
    }
   ],
   "source": [
    "for i in range(5//2,-1,-1):\n",
    "    print(i)"
   ]
  },
  {
   "cell_type": "markdown",
   "metadata": {},
   "source": [
    "### 二叉堆实现：最大优先队列 vs 最小优先队列\n",
    "最大优先队列：无论入队顺序，最大的元素优先出队   \n",
    "\n",
    "最小优先队列：无论入队顺序，最小的元素优先出队   \n",
    "\n",
    "### 优先队列代码实现"
   ]
  },
  {
   "cell_type": "code",
   "execution_count": 20,
   "metadata": {},
   "outputs": [],
   "source": [
    "class PriortyQueue:\n",
    "        \n",
    "    def __init__(self):\n",
    "        self.array=[]\n",
    "        self.size=0\n",
    "        \n",
    "    def enqueue(self,element):\n",
    "        self.array.append(element)\n",
    "        self.size += 1\n",
    "        self.up_adjust()\n",
    "        \n",
    "    def dequeue(self):\n",
    "        if self.size < 0:\n",
    "            raise Exception('队列为空！')\n",
    "        head=self.array[0]\n",
    "        self.array[0]=self.array[self.size-1]\n",
    "        self.size -=1\n",
    "        self.down_adjust()\n",
    "        return head\n",
    "    \n",
    "    def up_adjust(self):\n",
    "        child_index=self.size-1\n",
    "        parent_index=(child_index -1)//2\n",
    "        # temp 保存插入的叶子节点值，用于最后的赋值\n",
    "        temp=self.array[child_index]\n",
    "        while child_index > 0 and temp < self.array[parent_index]:\n",
    "            # 无须真正交换，单向赋值即可\n",
    "            self.array[child_index]=self.array[parent_index]\n",
    "            child_index=parent_index\n",
    "            parent_index=(parent_index -1)//2\n",
    "        self.array[child_index]=temp  \n",
    "        \n",
    "    def down_adjust(self):\n",
    "        parent_index=0\n",
    "        # temp 保存父节点的值，用于最后的赋值\n",
    "        temp=self.array[parent_index]\n",
    "        child_index=1\n",
    "        while child_index < self.size:\n",
    "            # 如果有右孩子，且右孩子的值大于左孩子，则定位到右孩子\n",
    "            if child_index + 1 < self.size and self.array[child_index +1] > self.array[child_index]:\n",
    "                child_index += 1\n",
    "            # 如果父节点的值大于任何一个孩子的值，直接跳出\n",
    "            if temp >= self.array[child_index]:\n",
    "                break\n",
    "            # 无须真正交换，单向赋值即可\n",
    "            self.array[parent_index]=self.array[child_index]\n",
    "            parent_index=child_index\n",
    "            child_index= 2*child_index +1\n",
    "        self.array[parent_index]=temp"
   ]
  },
  {
   "cell_type": "code",
   "execution_count": 21,
   "metadata": {},
   "outputs": [
    {
     "name": "stdout",
     "output_type": "stream",
     "text": [
      "队列输出： [2, 5, 3, 12, 9]\n",
      "循环 LIFO: 2\n",
      "循环 LIFO: 9\n",
      "循环 LIFO: 12\n"
     ]
    }
   ],
   "source": [
    "queue=PriortyQueue()\n",
    "queue.enqueue(3)\n",
    "queue.enqueue(9)\n",
    "queue.enqueue(2)\n",
    "queue.enqueue(12)\n",
    "queue.enqueue(5)\n",
    "print('队列输出：',queue.array)\n",
    "print('循环 LIFO:',queue.dequeue())\n",
    "print('循环 LIFO:',queue.dequeue())\n",
    "print('循环 LIFO:',queue.dequeue())"
   ]
  }
 ],
 "metadata": {
  "kernelspec": {
   "display_name": "Python 3",
   "language": "python",
   "name": "python3"
  },
  "language_info": {
   "codemirror_mode": {
    "name": "ipython",
    "version": 3
   },
   "file_extension": ".py",
   "mimetype": "text/x-python",
   "name": "python",
   "nbconvert_exporter": "python",
   "pygments_lexer": "ipython3",
   "version": "3.7.0"
  }
 },
 "nbformat": 4,
 "nbformat_minor": 2
}
