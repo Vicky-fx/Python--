{
 "cells": [
  {
   "cell_type": "markdown",
   "metadata": {},
   "source": [
    "### Python 基础算法练习（Hadoop + Spark + MySQL + Python）\n",
    "## <center>4 >>> 面试中的算法题（A）：Python 实战</center>\n",
    "### <center>算法验证：张君颖  ； 报告日期：2021.1.26</center>\n",
    "  <font color=blue><center>作者邮箱：zhang.jun.ying@outlook.com</center></font>   \n",
    "  \n",
    "  <font color=blue><center>项目源代码、数据、自定义函数已上传GitHub：</center></font>   \n",
    "    \n",
    "<font color=blue><center>https://github.com/lotbear/Python-Financial-investment-strategy</center></font>"
   ]
  },
  {
   "cell_type": "markdown",
   "metadata": {},
   "source": [
    "### >>> 题一：如何判断链表有环\n",
    "A. 创建一个哈希表，以节点 ID 为 Key，用来存储曾经遍历过的节点，当哈希表中同一 ID 出现第二次时证明有环。（时间复杂度 O（n），空间复杂度 O（n））    \n",
    "\n",
    "B. 创建两个指针 P1 和 P2，用追击问题求解。P1 每次前进1步，P2每次前进2步，如果链表有环，P2 会与 P1相遇。（时间复杂度 O（n），空间复杂度 O（1））"
   ]
  },
  {
   "cell_type": "code",
   "execution_count": 1,
   "metadata": {},
   "outputs": [],
   "source": [
    "# 以 B 解题思路实现代码\n",
    "\n",
    "class Node:\n",
    "    def __init__(self,data):\n",
    "        self.data=data\n",
    "        self.next=None\n",
    "        \n",
    "def is_cycle(head):\n",
    "    P1=head\n",
    "    P2=head\n",
    "    while P2 is not None and P2.next is not None:\n",
    "        P1=P1.next\n",
    "        P2=P2.next.next\n",
    "        if P1==P2:\n",
    "            return True\n",
    "    return False"
   ]
  },
  {
   "cell_type": "code",
   "execution_count": 2,
   "metadata": {},
   "outputs": [
    {
     "name": "stdout",
     "output_type": "stream",
     "text": [
      "链表是否有环？ True\n"
     ]
    }
   ],
   "source": [
    "node1=Node(5)\n",
    "node2=Node(3)\n",
    "node3=Node(7)\n",
    "node4=Node(2)\n",
    "node5=Node(6)\n",
    "\n",
    "node1.next=node2\n",
    "node2.next=node3\n",
    "node3.next=node4\n",
    "node4.next=node5\n",
    "node5.next=node2\n",
    "\n",
    "print('链表是否有环？',is_cycle(node1))"
   ]
  },
  {
   "cell_type": "markdown",
   "metadata": {},
   "source": [
    "### >>> 题二：实现一个最小栈，带有出栈 pop，入栈 push，取最小元素 get_min，这 3 个功能\n",
    "\n",
    "需要保证所有功能实现的时间复杂度为 O（1），且出栈操作不影响寻找站内最小元素   \n",
    "\n",
    "为解决元素出栈后，依然能快速找到最小值，我们需要一个主栈 main_stack，一个辅助栈 min_stack。"
   ]
  },
  {
   "cell_type": "code",
   "execution_count": 3,
   "metadata": {},
   "outputs": [],
   "source": [
    "class MinStack:\n",
    "    def __init__(self):\n",
    "        self.main_stack=[]\n",
    "        self.min_stack=[]\n",
    "        \n",
    "    def push(self,element):\n",
    "        self.main_stack.append(element)\n",
    "        # 若辅助栈为空，或新元素的值小于或等于辅助栈栈顶元素的值\n",
    "        # 将新元素压入辅助栈\n",
    "        if len(self.min_stack)==0 or element <= self.min_stack[len(self.min_stack)-1]:\n",
    "            self.min_stack.append(element)\n",
    "    \n",
    "    def pop(self):\n",
    "        # 如果出栈元素和辅助栈栈顶元素的值相等\n",
    "        # 辅助栈的栈顶元素出栈\n",
    "        if self.main_stack[len(self.main_stack)-1]==self.min_stack[len(self.min_stack)-1]:\n",
    "            self.min_stack.pop()\n",
    "        return self.main_stack.pop()\n",
    "    \n",
    "    def get_min(self):\n",
    "        if len(self.main_stack)==0:\n",
    "            return None\n",
    "        return self.min_stack[len(self.min_stack)-1]"
   ]
  },
  {
   "cell_type": "code",
   "execution_count": 4,
   "metadata": {},
   "outputs": [
    {
     "name": "stdout",
     "output_type": "stream",
     "text": [
      "栈中数据： [4, 9, 7, 3, 8, 5]\n",
      "栈中最小值： 3\n"
     ]
    }
   ],
   "source": [
    "my_stack=MinStack()\n",
    "my_stack.push(4)\n",
    "my_stack.push(9)\n",
    "my_stack.push(7)\n",
    "my_stack.push(3)\n",
    "my_stack.push(8)\n",
    "my_stack.push(5)\n",
    "print('栈中数据：',my_stack.main_stack)\n",
    "print('栈中最小值：',my_stack.get_min())"
   ]
  },
  {
   "cell_type": "code",
   "execution_count": 5,
   "metadata": {},
   "outputs": [
    {
     "name": "stdout",
     "output_type": "stream",
     "text": [
      "出栈： 5\n",
      "出栈： 8\n",
      "出栈： 3\n",
      "栈中数据： [4, 9, 7]\n",
      "栈中最小值： 4\n"
     ]
    }
   ],
   "source": [
    "print('出栈：',my_stack.pop())\n",
    "print('出栈：',my_stack.pop())\n",
    "print('出栈：',my_stack.pop())\n",
    "print('栈中数据：',my_stack.main_stack)\n",
    "print('栈中最小值：',my_stack.get_min())"
   ]
  },
  {
   "cell_type": "markdown",
   "metadata": {},
   "source": [
    "### >>> 题三：求最大公约数\n",
    "\n",
    "###  0. 暴力枚举法\n",
    "两个正整数 a 和 b ( a>b )，若 a%b=0，则最大公约数为 b，否则循环枚举 b//2 至 1的值，使得 a、b可以整除该值"
   ]
  },
  {
   "cell_type": "code",
   "execution_count": 6,
   "metadata": {},
   "outputs": [],
   "source": [
    "def get_greatest_common_divisor0(a,b):\n",
    "    big=max(a,b)\n",
    "    small=min(a,b)\n",
    "    if big%small==0:\n",
    "        return small\n",
    "    for i in range(small//2,1,-1):\n",
    "        if small%1==0 and big%1==0:\n",
    "            return i\n",
    "    return 1"
   ]
  },
  {
   "cell_type": "code",
   "execution_count": 7,
   "metadata": {},
   "outputs": [
    {
     "name": "stdout",
     "output_type": "stream",
     "text": [
      "25 和 5 最大公约数： 5\n",
      "13 和 5 最大公约数： 2\n",
      "3 和 24 最大公约数： 3\n"
     ]
    }
   ],
   "source": [
    "print('25 和 5 最大公约数：',get_greatest_common_divisor0(25,5))\n",
    "print('13 和 5 最大公约数：',get_greatest_common_divisor0(13,5))\n",
    "print('3 和 24 最大公约数：',get_greatest_common_divisor0(3,24))"
   ]
  },
  {
   "cell_type": "markdown",
   "metadata": {},
   "source": [
    "###  1. 辗转相除法\n",
    "两个正整数 a 和 b ( a>b )，它们的最大公约数等于 a 除以 b 的余数 c 和 b 之间的最大公约数"
   ]
  },
  {
   "cell_type": "code",
   "execution_count": 8,
   "metadata": {},
   "outputs": [],
   "source": [
    "def get_greatest_common_divisor1(a,b):\n",
    "    big=max(a,b)\n",
    "    small=min(a,b)\n",
    "    if big % small==0:\n",
    "        return small\n",
    "    return get_greatest_common_divisor1(big%small,small)"
   ]
  },
  {
   "cell_type": "code",
   "execution_count": 9,
   "metadata": {},
   "outputs": [
    {
     "name": "stdout",
     "output_type": "stream",
     "text": [
      "25 和 5 最大公约数： 5\n",
      "13 和 5 最大公约数： 1\n",
      "3 和 24 最大公约数： 3\n"
     ]
    }
   ],
   "source": [
    "print('25 和 5 最大公约数：',get_greatest_common_divisor1(25,5))\n",
    "print('13 和 5 最大公约数：',get_greatest_common_divisor1(13,5))\n",
    "print('3 和 24 最大公约数：',get_greatest_common_divisor1(3,24))"
   ]
  },
  {
   "cell_type": "markdown",
   "metadata": {},
   "source": [
    "### 2. 更相减损术\n",
    "两个正整数 a 和 b ( a>b )，它们的最大公约数等于 a-b 的差值 c 和 b 之间的最大公约数"
   ]
  },
  {
   "cell_type": "code",
   "execution_count": 10,
   "metadata": {},
   "outputs": [],
   "source": [
    "def get_greatest_common_divisor2(a,b):\n",
    "    if a==b:\n",
    "        return a\n",
    "    big=max(a,b)\n",
    "    small=min(a,b)\n",
    "    return get_greatest_common_divisor2(big-small,small)"
   ]
  },
  {
   "cell_type": "code",
   "execution_count": 11,
   "metadata": {},
   "outputs": [
    {
     "name": "stdout",
     "output_type": "stream",
     "text": [
      "25 和 5 最大公约数： 5\n",
      "13 和 5 最大公约数： 1\n",
      "3 和 24 最大公约数： 3\n"
     ]
    }
   ],
   "source": [
    "print('25 和 5 最大公约数：',get_greatest_common_divisor2(25,5))\n",
    "print('13 和 5 最大公约数：',get_greatest_common_divisor2(13,5))\n",
    "print('3 和 24 最大公约数：',get_greatest_common_divisor2(3,24))"
   ]
  },
  {
   "cell_type": "markdown",
   "metadata": {},
   "source": [
    "### 3. 将 辗转相除法 + 更相减损术 融合，使用位移运算：     \n",
    "\n",
    "gcd() = get_greatest_common_divisor()\n",
    "\n",
    "当 a、b 均为偶数，gcd(a,b)= 2\\*gcd(a/2,b/2)= 2\\*gcd(a>>1,b>>1)  \n",
    "\n",
    "当 a 为偶数，b 为奇数，gcd(a,b)= gcd(a/2,b)= gcd(a>>1,b)    \n",
    "\n",
    "当 a 为奇数，b 为偶数，gcd(a,b)= gcd(a,b/2)= gcd(a,b>>1)    \n",
    "\n",
    "当 a、b 均为奇数，先利用 更相减损术 运算一次，gcd(a,b)= gcd(b,a-b)，此时 a-b 必然为偶数，再继续用位移运算。   "
   ]
  },
  {
   "cell_type": "code",
   "execution_count": 12,
   "metadata": {},
   "outputs": [],
   "source": [
    "def get_greatest_common_divisor3(a,b):\n",
    "    if a==b:\n",
    "        return a\n",
    "    # （ a = 偶，b = 偶）\n",
    "    if (a & 1)==0 and (b & 1)==0:\n",
    "        return get_greatest_common_divisor3(a>>1,b>>1)<<1\n",
    "    # （ a = 偶，b = 奇）\n",
    "    elif (a & 1)==0 and (b & 1)!=0: \n",
    "        return get_greatest_common_divisor3(a>>1,b)\n",
    "    # （ a = 奇，b = 偶）\n",
    "    elif (a & 1)!=0 and (b & 1)==0: \n",
    "        return get_greatest_common_divisor3(a,b>>1)\n",
    "    # （ a = 奇，b = 奇）\n",
    "    else:\n",
    "        big=max(a,b)\n",
    "        small=min(a,b)\n",
    "        return get_greatest_common_divisor3(big-small,small)"
   ]
  },
  {
   "cell_type": "code",
   "execution_count": 13,
   "metadata": {},
   "outputs": [
    {
     "name": "stdout",
     "output_type": "stream",
     "text": [
      "25 和 5 最大公约数： 5\n",
      "13 和 5 最大公约数： 1\n",
      "3 和 24 最大公约数： 3\n"
     ]
    }
   ],
   "source": [
    "print('25 和 5 最大公约数：',get_greatest_common_divisor3(25,5))\n",
    "print('13 和 5 最大公约数：',get_greatest_common_divisor3(13,5))\n",
    "print('3 和 24 最大公约数：',get_greatest_common_divisor3(3,24))"
   ]
  },
  {
   "cell_type": "markdown",
   "metadata": {},
   "source": [
    "位移运算：   \n",
    "\n",
    "x<<y 返回 x 位向左移 y 个位，相当于将 x 乘以 2**y   \n",
    "\n",
    "x>>y 返回 x 位向右移 y 个位，相当于将 x 除以 2**y   "
   ]
  },
  {
   "cell_type": "code",
   "execution_count": 14,
   "metadata": {
    "scrolled": true
   },
   "outputs": [
    {
     "name": "stdout",
     "output_type": "stream",
     "text": [
      "3 << 5 = 96\n",
      "3*2**5 = 96\n"
     ]
    }
   ],
   "source": [
    "print('3 << 5 =',3<<5)\n",
    "print('3*2**5 =',3*2**5)"
   ]
  },
  {
   "cell_type": "code",
   "execution_count": 15,
   "metadata": {},
   "outputs": [
    {
     "name": "stdout",
     "output_type": "stream",
     "text": [
      "5 >> 3 = 0\n",
      "5/2**3 = 0.625\n"
     ]
    }
   ],
   "source": [
    "print('5 >> 3 =',5>>3) # 取整\n",
    "print('5/2**3 =',5/2**3)"
   ]
  },
  {
   "cell_type": "markdown",
   "metadata": {},
   "source": [
    "& 是按位逻辑运算符，比如5 & 6，5和6转换为二进制是101和110，此时101 & 110=100，100转换为十进制是4，所以5 & 6=4"
   ]
  },
  {
   "cell_type": "code",
   "execution_count": 16,
   "metadata": {},
   "outputs": [
    {
     "name": "stdout",
     "output_type": "stream",
     "text": [
      "5 的二进制: 0b101\n",
      "6 的二进制: 0b110\n",
      "5 & 6的二进制: 0b100\n",
      "5 & 6 = 4\n"
     ]
    }
   ],
   "source": [
    "print('5 的二进制:',bin(5))\n",
    "print('6 的二进制:',bin(6))\n",
    "print('5 & 6的二进制:',bin(5 & 6))\n",
    "print('5 & 6 =',5 & 6)"
   ]
  },
  {
   "cell_type": "markdown",
   "metadata": {},
   "source": [
    "奇数 & 1= 1   \n",
    "偶数 & 1= 0"
   ]
  },
  {
   "cell_type": "code",
   "execution_count": 17,
   "metadata": {},
   "outputs": [
    {
     "name": "stdout",
     "output_type": "stream",
     "text": [
      "5 & 1 = 1\n",
      "6 & 1 = 0\n"
     ]
    }
   ],
   "source": [
    "print('5 & 1 =',5 & 1)\n",
    "print('6 & 1 =',6 & 1)"
   ]
  },
  {
   "cell_type": "markdown",
   "metadata": {},
   "source": [
    "### >>> 题四：如何判断一个数是否是 2 的整数次幂？\n",
    "如：16 是 2 的 4次方，判断返回 True   \n",
    "\n",
    "18 是偶数，但不是 2 的整数次幂，判断返回 False  "
   ]
  },
  {
   "cell_type": "markdown",
   "metadata": {},
   "source": [
    "思路1：创建一个变量 temp 初始值 1，若 temp<= 输入值，则 temp 进入 2的幂次方循环，并将其与输入数值做对比，若相等，输出判断 True，若 temp > 输入值，依然不相等，则输出判断 Flase。    \n",
    "\n",
    "该方法的时间复杂度为 O（logn）"
   ]
  },
  {
   "cell_type": "code",
   "execution_count": 18,
   "metadata": {},
   "outputs": [],
   "source": [
    "def is_power_of_2_1(num):\n",
    "    temp=1\n",
    "    while temp<=num:\n",
    "        if temp==num:\n",
    "            return True\n",
    "        temp=temp*2\n",
    "    return False"
   ]
  },
  {
   "cell_type": "code",
   "execution_count": 19,
   "metadata": {},
   "outputs": [
    {
     "name": "stdout",
     "output_type": "stream",
     "text": [
      "32 是 2 的整数次幂？ True\n",
      "66 是 2 的整数次幂？ False\n"
     ]
    }
   ],
   "source": [
    "print('32 是 2 的整数次幂？',is_power_of_2_1(32))\n",
    "print('66 是 2 的整数次幂？',is_power_of_2_1(66))"
   ]
  },
  {
   "cell_type": "markdown",
   "metadata": {},
   "source": [
    "思路2：如果把 2 的整数次幂转换为二进制数，则它们的共同点为，除首位为 1 其余位为 0，若将所有 2 的整数次幂减 1，则它们所有位上的数值均为 1。此时用原值 n 的二进制数、n-1 后的二进制数，进行位运算 n & (n-1) 是否为 0 即可判断输入值是否为此 2 的整数次方幂。   \n",
    "\n",
    "该算法的时间复杂度为 O（1）"
   ]
  },
  {
   "cell_type": "code",
   "execution_count": 20,
   "metadata": {},
   "outputs": [],
   "source": [
    "def is_power_of_2_2(num):\n",
    "    return ( num & num-1 )==0"
   ]
  },
  {
   "cell_type": "code",
   "execution_count": 21,
   "metadata": {},
   "outputs": [
    {
     "name": "stdout",
     "output_type": "stream",
     "text": [
      "32 是 2 的整数次幂？ True\n",
      "66 是 2 的整数次幂？ False\n"
     ]
    }
   ],
   "source": [
    "print('32 是 2 的整数次幂？',is_power_of_2_2(32))\n",
    "print('66 是 2 的整数次幂？',is_power_of_2_2(66))"
   ]
  },
  {
   "cell_type": "markdown",
   "metadata": {},
   "source": [
    "### >>> 题五：找出无序数组排序后的最大相邻差\n",
    "使用桶排序，将原长度为 n 的数组放到 n-1 个桶中，桶之间的跨度为（max_value - min_value）/n-1   \n",
    "\n",
    "记录每个桶中的最大值和最小值，若桶右侧为空桶，取出该桶的最大值；   \n",
    "\n",
    "若桶的左侧为空桶，取出桶的最小值；   \n",
    "\n",
    "用最大值减去最小值，得到相邻值的差值，再对差值取最大值。  \n",
    "\n",
    "该方法的时间复杂度稳定在 O(n)"
   ]
  },
  {
   "cell_type": "code",
   "execution_count": 22,
   "metadata": {},
   "outputs": [],
   "source": [
    "class Bucket:\n",
    "    def __init__(self):\n",
    "        self.min=None\n",
    "        self.max=None\n",
    "        \n",
    "def get_max_sorted_distance(array=[]):\n",
    "    # 1. 得到数列的最大值和最小值\n",
    "    max_value=array[0]\n",
    "    min_value=array[0]\n",
    "    for i in range(1,len(array)):\n",
    "        if array[i]>max_value:\n",
    "            max_value=array[i]\n",
    "        if array[i]<min_value:\n",
    "            min_value=array[i]\n",
    "    d=max_value-min_value\n",
    "    # 如果 max_value 和 min_value 相等，说明所有元素相等，返回 0\n",
    "    if d==0:\n",
    "        return 0\n",
    "    print('数组最大值:',max_value)\n",
    "    print('数组最小值:',min_value)\n",
    "    print('最大最小差值:',d)\n",
    "    print('='*35)\n",
    "    \n",
    "    # 2. 初始化桶\n",
    "    bucket_num=len(array)\n",
    "    buckets=[]\n",
    "    for i in range(0,bucket_num):\n",
    "        buckets.append(Bucket())\n",
    "        \n",
    "    # 3. 遍历原始数组，确定每个桶的最大值和最小值\n",
    "    for i in range(0,len(array)):\n",
    "        # 确定数组元素所归属的桶下标\n",
    "        index=int((array[i]-min_value)*(bucket_num-1)/d)\n",
    "        if buckets[index].min is None or buckets[index].min > array[i]:\n",
    "            buckets[index].min=array[i]\n",
    "        if buckets[index].max is None or buckets[index].max < array[i]:\n",
    "            buckets[index].max=array[i]\n",
    "        print('桶编号:',index,' 最大值:',buckets[index].max,' 最小值:',buckets[index].min)\n",
    "    print('='*35)\n",
    "        \n",
    "    # 4. 遍历桶，找到最大值\n",
    "    left_max=buckets[0].max\n",
    "    max_distance=0\n",
    "    for i in range(1,len(buckets)):\n",
    "        if buckets[i].min is None:\n",
    "            continue\n",
    "        if buckets[i].min-left_max > max_distance:\n",
    "            max_distance=buckets[i].min-left_max\n",
    "        left_max=buckets[i].max\n",
    "    return max_distance"
   ]
  },
  {
   "cell_type": "code",
   "execution_count": 23,
   "metadata": {},
   "outputs": [
    {
     "name": "stdout",
     "output_type": "stream",
     "text": [
      "数组最大值: 33\n",
      "数组最小值: -5\n",
      "最大最小差值: 38\n",
      "===================================\n",
      "桶编号: 1  最大值: 2  最小值: 2\n",
      "桶编号: 2  最大值: 6  最小值: 6\n",
      "桶编号: 1  最大值: 3  最小值: 2\n",
      "桶编号: 1  最大值: 4  最小值: 2\n",
      "桶编号: 2  最大值: 10  最小值: 6\n",
      "桶编号: 7  最大值: 33  最小值: 33\n",
      "桶编号: 0  最大值: 0  最小值: 0\n",
      "桶编号: 0  最大值: 0  最小值: -5\n",
      "===================================\n",
      "排序后相邻两数的最大差值为： 23\n"
     ]
    }
   ],
   "source": [
    "my_array=list([2,6,3,4,10,33,0,-5])\n",
    "print('排序后相邻两数的最大差值为：',get_max_sorted_distance(my_array))"
   ]
  },
  {
   "cell_type": "markdown",
   "metadata": {},
   "source": [
    "### >>> 题六：用栈来模拟一个队列，实现入队、出队\n",
    "思路：栈只能后入先出，而队列是先入先出，要用栈实现队列的功能，需要用两个栈，一个负责入队，一个负责出队，两个栈之间需要关联起来。  \n",
    "\n",
    "关联方法：用 A 栈负责元素入队，元素依次向栈底靠近，然后再以 pop() 的方式，元素从后往前出 A 栈并入 B 栈，这样元素在栈 B 中的顺序和 A 栈中相反，再利用栈 B 出栈，实现效果上的先入先出。"
   ]
  },
  {
   "cell_type": "code",
   "execution_count": 24,
   "metadata": {},
   "outputs": [],
   "source": [
    "class StackQueue:\n",
    "    def __init__(self):\n",
    "        self.stackA=[]\n",
    "        self.stackB=[]\n",
    "    \n",
    "    def en_queue(self,element):\n",
    "        self.stackA.append(element)\n",
    "    \n",
    "    def de_queue(self):\n",
    "        if len(self.stackB)==0:\n",
    "            if len(self.stackA)==0:\n",
    "                raise Exception('栈已经空了！')\n",
    "            self.transfer()\n",
    "        return self.stackB.pop()\n",
    "    \n",
    "    def transfer(self):\n",
    "        while len(self.stackA)>0:\n",
    "            self.stackB.append(self.stackA.pop())"
   ]
  },
  {
   "cell_type": "code",
   "execution_count": 25,
   "metadata": {},
   "outputs": [
    {
     "name": "stdout",
     "output_type": "stream",
     "text": [
      "A栈: [3, 7, 21, 8, 0, -5]\n",
      "B栈: []\n",
      "==============================\n",
      "出栈: 3\n",
      "出栈: 7\n",
      "A栈: []\n",
      "B栈: [-5, 0, 8, 21]\n"
     ]
    }
   ],
   "source": [
    "stack_queue=StackQueue()\n",
    "stack_queue.en_queue(3)\n",
    "stack_queue.en_queue(7)\n",
    "stack_queue.en_queue(21)\n",
    "stack_queue.en_queue(8)\n",
    "stack_queue.en_queue(0)\n",
    "stack_queue.en_queue(-5)\n",
    "print('A栈:',stack_queue.stackA)\n",
    "print('B栈:',stack_queue.stackB)\n",
    "\n",
    "print('='*30)\n",
    "print('出栈:',stack_queue.de_queue())\n",
    "print('出栈:',stack_queue.de_queue())\n",
    "print('A栈:',stack_queue.stackA)\n",
    "print('B栈:',stack_queue.stackB)"
   ]
  },
  {
   "cell_type": "markdown",
   "metadata": {},
   "source": [
    "### >>> 题七：寻找全排列的下一个数\n",
    "给出一个正整数，对其每个位数上的值进行全排列后，找出仅大于原整数的一个整数。   \n",
    "\n",
    "如输入：12345，返回：12354  \n",
    "\n",
    "如输入：12354，返回：12435  \n",
    "\n",
    "思路：数字全排列的整数中，逆序排序为最大，顺序排列为最小。   \n",
    "\n",
    "步骤：整数从后向前查看逆序区域，找到逆序区域的前一位，和逆序中大于它的最小数字交换位置，再将原来的逆序区域转为顺序状态。"
   ]
  },
  {
   "cell_type": "code",
   "execution_count": 26,
   "metadata": {},
   "outputs": [],
   "source": [
    "def find_nearest_number(numbers=[]):\n",
    "    # 1. 从后向前查看逆序区域，找到逆序区域的前一位\n",
    "    index=find_transfer_point(numbers)\n",
    "    # 如果数字置换边界是 0，说明整个数组已经逆序\n",
    "    # 是全排列中最大整数，返回 null\n",
    "    if index==0:\n",
    "        return None\n",
    "    \n",
    "    # 2. 把逆序区域的前一位和逆序区域中大于它的最小数字交换位置\n",
    "    # 复制入参，避免直接修改入参\n",
    "    numbers_copy=numbers.copy()\n",
    "    exchange_head(index,numbers_copy)\n",
    "    \n",
    "    # 3. 把原来的逆序区域转为顺序\n",
    "    reverse(index,numbers_copy)\n",
    "    return numbers_copy\n",
    "\n",
    "def find_transfer_point(numbers=[]):\n",
    "    for i in range(len(numbers)-1,0,-1):\n",
    "        if numbers[i]>numbers[i-1]:\n",
    "            return i\n",
    "    return 0\n",
    "\n",
    "def exchange_head(index,numbers=[]):\n",
    "    head=numbers[index-1]\n",
    "    for i in range(len(numbers)-1,0,-1):\n",
    "        if head<numbers[i]:\n",
    "            numbers[index-1]=numbers[i]\n",
    "            numbers[i]=head\n",
    "            break\n",
    "    return numbers\n",
    "\n",
    "def reverse(index,numbers=[]):\n",
    "    i=index\n",
    "    j=len(numbers)-1\n",
    "    while i<j:\n",
    "        temp=numbers[i]\n",
    "        numbers[i]=numbers[j]\n",
    "        numbers[j]=temp\n",
    "        i+=1\n",
    "        j-=1\n",
    "    return numbers\n",
    "\n",
    "def output_numbers(numbers=[]):\n",
    "    for i in numbers:\n",
    "        print(i,end='')\n",
    "    print()"
   ]
  },
  {
   "cell_type": "code",
   "execution_count": 27,
   "metadata": {},
   "outputs": [
    {
     "name": "stdout",
     "output_type": "stream",
     "text": [
      "3657\n",
      "3675\n",
      "3756\n",
      "3765\n",
      "5367\n",
      "5376\n",
      "5637\n",
      "5673\n",
      "5736\n",
      "5763\n"
     ]
    }
   ],
   "source": [
    "my_numbers=list([3,5,7,6])\n",
    "# 打印 3576 之后的 10 个全排列整数\n",
    "for k in range(0,10):\n",
    "    my_numbers=find_nearest_number(my_numbers)\n",
    "    output_numbers(my_numbers)"
   ]
  }
 ],
 "metadata": {
  "kernelspec": {
   "display_name": "Python 3",
   "language": "python",
   "name": "python3"
  },
  "language_info": {
   "codemirror_mode": {
    "name": "ipython",
    "version": 3
   },
   "file_extension": ".py",
   "mimetype": "text/x-python",
   "name": "python",
   "nbconvert_exporter": "python",
   "pygments_lexer": "ipython3",
   "version": "3.7.0"
  }
 },
 "nbformat": 4,
 "nbformat_minor": 2
}
