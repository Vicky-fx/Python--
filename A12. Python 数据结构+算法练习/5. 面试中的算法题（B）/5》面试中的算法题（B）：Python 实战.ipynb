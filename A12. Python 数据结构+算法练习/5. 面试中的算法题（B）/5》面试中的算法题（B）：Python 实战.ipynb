{
 "cells": [
  {
   "cell_type": "markdown",
   "metadata": {},
   "source": [
    "### Python 基础算法练习（Hadoop + Spark + MySQL + Python）\n",
    "## <center>5 >>> 面试中的算法题（B）：Python 实战</center>\n",
    "### <center>算法验证：张君颖  ； 报告日期：2021.1.27</center>\n",
    "  <font color=blue><center>作者邮箱：zhang.jun.ying@outlook.com</center></font>   \n",
    "  \n",
    "  <font color=blue><center>项目源代码、数据、自定义函数已上传GitHub：</center></font>   \n",
    "    \n",
    "<font color=blue><center>https://github.com/lotbear/Python-Financial-investment-strategy</center></font>"
   ]
  },
  {
   "cell_type": "markdown",
   "metadata": {},
   "source": [
    "### >>> 题一：删除 K 个数字后的最小值\n",
    "给出一个整数，从该整数中去掉 K 个数字，要求剩下的数字形成的新整数尽可能小。   \n",
    "\n",
    "<font color=red>》》》贪心算法思路：</font>将整数从高位数字向低位数字进行左右比较，若高位数字大于它右边的数字，那么删除该高位数字，经历 K 次删除即可得到最小值。    \n",
    "\n",
    "该算法时间复杂度为<font color=blue> O（kn）</font>"
   ]
  },
  {
   "cell_type": "code",
   "execution_count": 1,
   "metadata": {},
   "outputs": [],
   "source": [
    "def remove_k_digits(num,k):\n",
    "    for i in range(0,k):\n",
    "        has_cut=False\n",
    "        # 从左向右遍历，找到比自己右侧数字大的数字并删除\n",
    "        for j in range(0,len(num)-1):\n",
    "            if num[j]>num[j+1]:\n",
    "                num=num[0:j]+num[j+1:len(num)]\n",
    "                has_cut=True\n",
    "                break\n",
    "        # 如果没有找到要删除的数字，则删除最后一个数字\n",
    "        if not has_cut:\n",
    "            num=num[0:len(num)-1]\n",
    "    # 清除整数左侧的数字 0\n",
    "    for j in range(0,len(num)-1):\n",
    "        if num[0] !='0':\n",
    "            break\n",
    "        num=num[1:len(num)]\n",
    "    # 如果整数的所有数字都被删除了，直接返回 0\n",
    "    if len(num)==0:\n",
    "        return '0'\n",
    "    return num"
   ]
  },
  {
   "cell_type": "code",
   "execution_count": 2,
   "metadata": {},
   "outputs": [
    {
     "name": "stdout",
     "output_type": "stream",
     "text": [
      "30200 删 1 个数字后的最小值： 200\n",
      "\n",
      "10 删 2 个数字后的最小值： 0\n",
      "\n",
      "1527386 删 4 个数字后的最小值： 1236\n"
     ]
    }
   ],
   "source": [
    "print('30200 删 1 个数字后的最小值：',remove_k_digits('30200',1))\n",
    "print()\n",
    "print('10 删 2 个数字后的最小值：',remove_k_digits('10',2))\n",
    "print()\n",
    "print('1527386 删 4 个数字后的最小值：',remove_k_digits('1527386',3))"
   ]
  },
  {
   "cell_type": "markdown",
   "metadata": {},
   "source": [
    "<font color=red>》》》优化贪心算法：</font>每一轮比较高低位数字大小时，均基于上一次发现高位大于低位数字的位置开始，并优化字符串截取方法。以遍历数字作为外循环，以 K 作为内循环。    \n",
    "\n",
    "优化算法的时间复杂度为<font color=blue> O（n）</font>"
   ]
  },
  {
   "cell_type": "code",
   "execution_count": 3,
   "metadata": {},
   "outputs": [],
   "source": [
    "def remove_k_digits_v2(num,k):\n",
    "    # 新整数的最终长度=原整数长度-k\n",
    "    new_length=len(num)-k\n",
    "    # 创建一个栈，用于接收所有数字\n",
    "    stack=[]\n",
    "    for i in range(0,len(num)):\n",
    "        # 遍历当前数字\n",
    "        c=num[i]\n",
    "        # 当栈顶数字大于遍历到当前数字时，栈顶数字出栈\n",
    "        while len(stack)>0 and stack[len(stack)-1]>c and k>0:\n",
    "            stack.pop()\n",
    "            k -=1\n",
    "        # 如果遇到数字 0，且栈为空，0 不入栈\n",
    "        if '0'==c and len(stack)==0:\n",
    "            new_length -=1\n",
    "            if new_length <=0:\n",
    "                return '0'\n",
    "            continue\n",
    "        # 遍历到的当前数字入栈\n",
    "        stack.append(c)\n",
    "    # 找到栈中第一个非零数字的位置，依次构建新的整数字符串\n",
    "    if new_length <=0:\n",
    "        return '0'\n",
    "    return ''.join(stack)"
   ]
  },
  {
   "cell_type": "code",
   "execution_count": 4,
   "metadata": {},
   "outputs": [
    {
     "name": "stdout",
     "output_type": "stream",
     "text": [
      "30200 删 1 个数字后的最小值： 200\n",
      "\n",
      "10 删 2 个数字后的最小值： 0\n",
      "\n",
      "1527386 删 4 个数字后的最小值： 1236\n"
     ]
    }
   ],
   "source": [
    "print('30200 删 1 个数字后的最小值：',remove_k_digits('30200',1))\n",
    "print()\n",
    "print('10 删 2 个数字后的最小值：',remove_k_digits('10',2))\n",
    "print()\n",
    "print('1527386 删 4 个数字后的最小值：',remove_k_digits('1527386',3))"
   ]
  },
  {
   "cell_type": "markdown",
   "metadata": {},
   "source": [
    "### >>> 题二：找到两个升序数组合并后的中位数\n",
    "两个升序数组长度可不相同，在合并后形成一个新的升序数组，找到新数组的中位数。   \n",
    "\n",
    "若新数组长度为奇数，则居中的一位为中位数，若新数组长度为偶数，则居中的两个数的均值为中位数。   \n",
    "\n",
    "<font color=blue>设定条件：</font>两个有序数组 A、B 均可分为两部分，前半部分贡献给新数组的前半部分，后半部分贡献给新数组的后半部分，两个数组各自的分界点为 i、j，数组长度为 m、n。   \n",
    "\n",
    "则<font color=blue> i+j = ( m+n+1 ) / 2   ；  max（ A[ i-1 ] , B[ j-1 ] ）<= min（A[ i ],B[ j ]）</font>   \n",
    "\n",
    "a ) 若新数组长度为偶数，中位数为<font color=red> Max（ A[ i-1 ] , B[ j-1 ] ）</font>    \n",
    "\n",
    "b ) 若新数组长度为奇数，中位数为<font color=red> ( Max( A[ i-1 ] , B[ j-1 ] ) + Min( A[ i ], B[ j ] ) ) / 2</font> "
   ]
  },
  {
   "cell_type": "code",
   "execution_count": 5,
   "metadata": {},
   "outputs": [],
   "source": [
    "def find_median_sorted_array(arrayA,arrayB):\n",
    "    m,n=len(arrayA),len(arrayB)\n",
    "    # 如果数组 A 的长度大于等于数组 B 的长度，则交换数组\n",
    "    if m>n:\n",
    "        arrayA, arrayB, m, n =arrayB, arrayA, n, m\n",
    "    if n==0:\n",
    "        raise ValueError\n",
    "    start, end, half_len =0, m, (m+n+1)//2\n",
    "    while start <= end:\n",
    "        i=(start+end)//2 # 二分法定位 i\n",
    "        j=half_len-i\n",
    "        if i<m and arrayB[j-1]>arrayA[i]:\n",
    "            # i 偏小，需要右移\n",
    "            start=i+1\n",
    "        elif i>0 and arrayA[i-1]>arrayB[j]:\n",
    "            # i 偏大需要左移\n",
    "            end=i-1\n",
    "        else:\n",
    "            # i 刚好合适，或 i 已达到数组边界\n",
    "            if i ==0:\n",
    "                max_of_left=arrayB[j-1]\n",
    "            elif j==0:\n",
    "                max_of_left=arrayA[i-1]\n",
    "            else:\n",
    "                max_of_left=max(arrayA[i-1],arrayB[j-1])\n",
    "            if (m+n)%2==1:\n",
    "                # 如果大数组的长度是奇数，中位数就是左半部分的最大值\n",
    "                return max_of_left\n",
    "            if i==m:\n",
    "                min_of_right=arrayB[j]\n",
    "            elif j==n:\n",
    "                min_of_right=arrayA[i]\n",
    "            else:\n",
    "                min_of_right=min(arrayA[i],arrayB[j])\n",
    "            # 如果大数组的长度是偶数，则取左侧最大值和右侧最小值的平均\n",
    "            return (max_of_left+min_of_right)/2"
   ]
  },
  {
   "cell_type": "code",
   "execution_count": 6,
   "metadata": {},
   "outputs": [
    {
     "name": "stdout",
     "output_type": "stream",
     "text": [
      "合并新数组: [1, 2, 3, 5, 7, 9, 10, 13, 17, 28]\n",
      "新数组中位数: 8.0\n"
     ]
    }
   ],
   "source": [
    "my_arrayA=[2,3,5,7,9,13]\n",
    "my_arrayB=[1,10,17,28]\n",
    "new_array=my_arrayA+my_arrayB\n",
    "new_array.sort()\n",
    "print('合并新数组:',new_array)\n",
    "print('新数组中位数:',find_median_sorted_array(my_arrayA,my_arrayB))"
   ]
  },
  {
   "cell_type": "markdown",
   "metadata": {},
   "source": [
    "### >>> 题三：求解金矿掘金规划问题\n",
    "与“背包问题”类似，金矿掘金规划问题要求解决用工数和金矿存储量的动态规划问题，一般的贪心算法只能得到局部最优解，不能得到全局最优解。   \n",
    "\n",
    "动态规划要求我们把复杂问题简化成较小的子问题，再从简单的子问题自底向上一步步递推，最终得到复杂问题的最优解。   \n",
    "\n",
    "》》》分解具体问题思路：  \n",
    "\n",
    "<font color=blue>金矿数量：n ; 工人数量: w   \n",
    "\n",
    "不同金矿大小：数组 g[ ] ; 不同金矿需要工人数：数组p[ ]  \n",
    "\n",
    "n 个金矿，w 个工人开采的最优收益函数：F（n, w）</font>   \n",
    "\n",
    "a ) 当金矿数为 0 或工人数为 0：<font color=red> F（n, w）= 0</font> ( n=0 或 w=0 )  \n",
    "\n",
    "b ) 当剩余工人数不够开采当前金矿时，只有一种最优子结构：    \n",
    "\n",
    "<center><font color=red>F（n, w）= F（n-1, w）</font></center>    \n",
    "\n",
    "<center>( n>=1, w< p[ n-1 ] ) </center>   \n",
    "    \n",
    "c ) 其他情况下，掘金规划具有两种最优子结构（不挖当前金矿 或 挖当前金矿）   \n",
    "\n",
    "<center><font color=red>F（n, w）= max( F（n-1, w）, F（n-1, w-p[ n-1 ]）+ g[ n-1 ])</font></center>    \n",
    "\n",
    "<center>( n>=1, w>= p[ n-1 ] ) </center> "
   ]
  },
  {
   "cell_type": "markdown",
   "metadata": {},
   "source": [
    "### 版本一 : 时间复杂度 O（ 2^n ）"
   ]
  },
  {
   "cell_type": "code",
   "execution_count": 7,
   "metadata": {},
   "outputs": [],
   "source": [
    "def get_best_gold_mining(w,n,p=[],g=[]):\n",
    "    \"\"\"\n",
    "    :param w: 工人数量\n",
    "    :param n: 可选金矿数量\n",
    "    :param p: 金矿开采所需工人数量\n",
    "    :param g: 金矿大小（储量 kg）\n",
    "    :return: 最优收益\n",
    "    \"\"\"\n",
    "    if w==0 or n==0:\n",
    "        return 0\n",
    "    if w < p[n-1]:\n",
    "        return get_best_gold_mining(w,n-1,p,g)\n",
    "    return max(get_best_gold_mining(w,n-1,p,g),get_best_gold_mining(w-p[n-1],n-1,p,g)+g[n-1])"
   ]
  },
  {
   "cell_type": "code",
   "execution_count": 8,
   "metadata": {},
   "outputs": [
    {
     "name": "stdout",
     "output_type": "stream",
     "text": [
      "最优掘金收益: 900 kg 黄金\n"
     ]
    }
   ],
   "source": [
    "print('最优掘金收益:',get_best_gold_mining(w=10,n=5,p=[3,4,3,5,5],g=[200,300,350,400,500]),'kg 黄金')"
   ]
  },
  {
   "cell_type": "markdown",
   "metadata": {},
   "source": [
    "### 版本二：时间复杂度 & 空间复杂度 O（nw）\n",
    "在版本一的基础上，以表格存储规划方案来剔除重复计算"
   ]
  },
  {
   "cell_type": "code",
   "execution_count": 9,
   "metadata": {},
   "outputs": [],
   "source": [
    "# List 演示\n",
    "\n",
    "def get_best_gold_mining_v2(w,n,p=[],g=[]):\n",
    "    \"\"\"\n",
    "    :param w: 工人数量\n",
    "    :param n: 可选金矿数量\n",
    "    :param p: 金矿开采所需工人数量\n",
    "    :param g: 金矿大小（储量 kg）\n",
    "    :return: 最优收益\n",
    "    \"\"\"\n",
    "    result_table=[[0 for i in range(w+1)] for i in range(len(g)+1)]\n",
    "    # 填充表格\n",
    "    for i in range(1,len(g)+1):\n",
    "        for j in range(1,w+1):\n",
    "            if j<p[i-1]:\n",
    "                result_table[i][j]=result_table[i-1][j]\n",
    "            else:\n",
    "                result_table[i][j]=max(result_table[i-1][j],result_table[i-1][j-p[i-1]]+g[i-1])\n",
    "    print('金矿开采规划表：')\n",
    "    for k in range(len(g)+1):\n",
    "        print(result_table[k])\n",
    "    print('='*50)\n",
    "    return result_table[len(g)][w]"
   ]
  },
  {
   "cell_type": "code",
   "execution_count": 10,
   "metadata": {},
   "outputs": [
    {
     "name": "stdout",
     "output_type": "stream",
     "text": [
      "金矿开采规划表：\n",
      "[0, 0, 0, 0, 0, 0, 0, 0, 0, 0, 0]\n",
      "[0, 0, 0, 200, 200, 200, 200, 200, 200, 200, 200]\n",
      "[0, 0, 0, 200, 300, 300, 300, 500, 500, 500, 500]\n",
      "[0, 0, 0, 350, 350, 350, 550, 650, 650, 650, 850]\n",
      "[0, 0, 0, 350, 350, 400, 550, 650, 750, 750, 850]\n",
      "[0, 0, 0, 350, 350, 500, 550, 650, 850, 850, 900]\n",
      "==================================================\n",
      "最优掘金收益: 900 kg 黄金\n"
     ]
    }
   ],
   "source": [
    "print('最优掘金收益:',get_best_gold_mining_v2(w=10,n=5,p=[3,4,3,5,5],g=[200,300,350,400,500]),'kg 黄金')"
   ]
  },
  {
   "cell_type": "code",
   "execution_count": 11,
   "metadata": {},
   "outputs": [],
   "source": [
    "# pandas 演示\n",
    "\n",
    "import numpy as np\n",
    "import pandas as pd\n",
    "def get_best_gold_mining_v2(w,n,p=[],g=[]):\n",
    "    \"\"\"\n",
    "    :param w: 工人数量\n",
    "    :param n: 可选金矿数量\n",
    "    :param p: 金矿开采所需工人数量\n",
    "    :param g: 金矿大小（储量 kg）\n",
    "    :return: 最优收益\n",
    "    \"\"\"\n",
    "    result_table=pd.DataFrame({'各金矿开采效率':['0kg黄金/0人','200kg黄金/3人','300kg黄金/4人',\n",
    "                                                '350kg黄金/3人','400kg黄金/5人','500kg黄金/5人'],\n",
    "                            '0个工人':np.zeros([n+1]),\n",
    "                            '1个工人':np.zeros([n+1]),\n",
    "                            '2个工人':np.zeros([n+1]),\n",
    "                            '3个工人':np.zeros([n+1]),\n",
    "                            '4个工人':np.zeros([n+1]),\n",
    "                            '5个工人':np.zeros([n+1]),\n",
    "                            '6个工人':np.zeros([n+1]),\n",
    "                            '7个工人':np.zeros([n+1]),\n",
    "                            '8个工人':np.zeros([n+1]),\n",
    "                            '9个工人':np.zeros([n+1]),\n",
    "                            '10个工人':np.zeros([n+1])})\n",
    "    # 填充表格\n",
    "    for i in range(1,n+1):\n",
    "        for j in range(1,w+1):\n",
    "            if j<p[i-1]:\n",
    "                result_table.iloc[i,j+1]=result_table.iloc[i-1,j+1]\n",
    "            else:\n",
    "                result_table.iloc[i,j+1]=max(int(result_table.iloc[i-1,j+1]),\n",
    "                                           int(result_table.iloc[i-1,j+1-p[i-1]])+g[i-1])\n",
    "    return result_table"
   ]
  },
  {
   "cell_type": "code",
   "execution_count": 12,
   "metadata": {},
   "outputs": [
    {
     "name": "stdout",
     "output_type": "stream",
     "text": [
      "最优掘金收益: 900.0 kg 黄金\n",
      "==================================================\n"
     ]
    },
    {
     "data": {
      "text/html": [
       "<div>\n",
       "<style scoped>\n",
       "    .dataframe tbody tr th:only-of-type {\n",
       "        vertical-align: middle;\n",
       "    }\n",
       "\n",
       "    .dataframe tbody tr th {\n",
       "        vertical-align: top;\n",
       "    }\n",
       "\n",
       "    .dataframe thead th {\n",
       "        text-align: right;\n",
       "    }\n",
       "</style>\n",
       "<table border=\"1\" class=\"dataframe\">\n",
       "  <thead>\n",
       "    <tr style=\"text-align: right;\">\n",
       "      <th></th>\n",
       "      <th>各金矿开采效率</th>\n",
       "      <th>0个工人</th>\n",
       "      <th>1个工人</th>\n",
       "      <th>2个工人</th>\n",
       "      <th>3个工人</th>\n",
       "      <th>4个工人</th>\n",
       "      <th>5个工人</th>\n",
       "      <th>6个工人</th>\n",
       "      <th>7个工人</th>\n",
       "      <th>8个工人</th>\n",
       "      <th>9个工人</th>\n",
       "      <th>10个工人</th>\n",
       "    </tr>\n",
       "  </thead>\n",
       "  <tbody>\n",
       "    <tr>\n",
       "      <th>0</th>\n",
       "      <td>0kg黄金/0人</td>\n",
       "      <td>0.0</td>\n",
       "      <td>0.0</td>\n",
       "      <td>0.0</td>\n",
       "      <td>0.0</td>\n",
       "      <td>0.0</td>\n",
       "      <td>0.0</td>\n",
       "      <td>0.0</td>\n",
       "      <td>0.0</td>\n",
       "      <td>0.0</td>\n",
       "      <td>0.0</td>\n",
       "      <td>0.0</td>\n",
       "    </tr>\n",
       "    <tr>\n",
       "      <th>1</th>\n",
       "      <td>200kg黄金/3人</td>\n",
       "      <td>0.0</td>\n",
       "      <td>0.0</td>\n",
       "      <td>0.0</td>\n",
       "      <td>200.0</td>\n",
       "      <td>200.0</td>\n",
       "      <td>200.0</td>\n",
       "      <td>200.0</td>\n",
       "      <td>200.0</td>\n",
       "      <td>200.0</td>\n",
       "      <td>200.0</td>\n",
       "      <td>200.0</td>\n",
       "    </tr>\n",
       "    <tr>\n",
       "      <th>2</th>\n",
       "      <td>300kg黄金/4人</td>\n",
       "      <td>0.0</td>\n",
       "      <td>0.0</td>\n",
       "      <td>0.0</td>\n",
       "      <td>200.0</td>\n",
       "      <td>300.0</td>\n",
       "      <td>300.0</td>\n",
       "      <td>300.0</td>\n",
       "      <td>500.0</td>\n",
       "      <td>500.0</td>\n",
       "      <td>500.0</td>\n",
       "      <td>500.0</td>\n",
       "    </tr>\n",
       "    <tr>\n",
       "      <th>3</th>\n",
       "      <td>350kg黄金/3人</td>\n",
       "      <td>0.0</td>\n",
       "      <td>0.0</td>\n",
       "      <td>0.0</td>\n",
       "      <td>350.0</td>\n",
       "      <td>350.0</td>\n",
       "      <td>350.0</td>\n",
       "      <td>550.0</td>\n",
       "      <td>650.0</td>\n",
       "      <td>650.0</td>\n",
       "      <td>650.0</td>\n",
       "      <td>850.0</td>\n",
       "    </tr>\n",
       "    <tr>\n",
       "      <th>4</th>\n",
       "      <td>400kg黄金/5人</td>\n",
       "      <td>0.0</td>\n",
       "      <td>0.0</td>\n",
       "      <td>0.0</td>\n",
       "      <td>350.0</td>\n",
       "      <td>350.0</td>\n",
       "      <td>400.0</td>\n",
       "      <td>550.0</td>\n",
       "      <td>650.0</td>\n",
       "      <td>750.0</td>\n",
       "      <td>750.0</td>\n",
       "      <td>850.0</td>\n",
       "    </tr>\n",
       "    <tr>\n",
       "      <th>5</th>\n",
       "      <td>500kg黄金/5人</td>\n",
       "      <td>0.0</td>\n",
       "      <td>0.0</td>\n",
       "      <td>0.0</td>\n",
       "      <td>350.0</td>\n",
       "      <td>350.0</td>\n",
       "      <td>500.0</td>\n",
       "      <td>550.0</td>\n",
       "      <td>650.0</td>\n",
       "      <td>850.0</td>\n",
       "      <td>850.0</td>\n",
       "      <td>900.0</td>\n",
       "    </tr>\n",
       "  </tbody>\n",
       "</table>\n",
       "</div>"
      ],
      "text/plain": [
       "      各金矿开采效率  0个工人  1个工人  2个工人   3个工人   4个工人   5个工人   6个工人   7个工人   8个工人  \\\n",
       "0    0kg黄金/0人   0.0   0.0   0.0    0.0    0.0    0.0    0.0    0.0    0.0   \n",
       "1  200kg黄金/3人   0.0   0.0   0.0  200.0  200.0  200.0  200.0  200.0  200.0   \n",
       "2  300kg黄金/4人   0.0   0.0   0.0  200.0  300.0  300.0  300.0  500.0  500.0   \n",
       "3  350kg黄金/3人   0.0   0.0   0.0  350.0  350.0  350.0  550.0  650.0  650.0   \n",
       "4  400kg黄金/5人   0.0   0.0   0.0  350.0  350.0  400.0  550.0  650.0  750.0   \n",
       "5  500kg黄金/5人   0.0   0.0   0.0  350.0  350.0  500.0  550.0  650.0  850.0   \n",
       "\n",
       "    9个工人  10个工人  \n",
       "0    0.0    0.0  \n",
       "1  200.0  200.0  \n",
       "2  500.0  500.0  \n",
       "3  650.0  850.0  \n",
       "4  750.0  850.0  \n",
       "5  850.0  900.0  "
      ]
     },
     "execution_count": 12,
     "metadata": {},
     "output_type": "execute_result"
    }
   ],
   "source": [
    "print('最优掘金收益:',get_best_gold_mining_v2(w=10,n=5,p=[3,4,3,5,5],\n",
    "                                        g=[200,300,350,400,500]).iloc[5,11],'kg 黄金')\n",
    "print('='*50)\n",
    "get_best_gold_mining_v2(w=10,n=5,p=[3,4,3,5,5],g=[200,300,350,400,500])"
   ]
  },
  {
   "cell_type": "markdown",
   "metadata": {},
   "source": [
    "### 版本三：时间复杂度 O（n）\n",
    "基于版本二，剔除表中不需要保存的行数据   \n",
    "\n",
    "计算下一行时，从右往左统计，把旧的数据替换掉"
   ]
  },
  {
   "cell_type": "code",
   "execution_count": 13,
   "metadata": {},
   "outputs": [],
   "source": [
    "def get_best_gold_mining_v3(w,n,p=[],g=[]):\n",
    "    \"\"\"\n",
    "    :param w: 工人数量\n",
    "    :param n: 可选金矿数量\n",
    "    :param p: 金矿开采所需工人数量\n",
    "    :param g: 金矿大小（储量 kg）\n",
    "    :return: 最优收益\n",
    "    \"\"\"\n",
    "    # 创建当前结果\n",
    "    results=[0]*(w+1)\n",
    "    # 填充一维数组\n",
    "    for i in range(1,len(g)+1):\n",
    "        for j in range(w,0,-1):\n",
    "            if j>=p[i-1]:\n",
    "                results[j]=max(results[j],results[j-p[i-1]]+g[i-1])\n",
    "    print('规划求解过程：')\n",
    "    print(results)\n",
    "    print('='*50)\n",
    "    return results[w]"
   ]
  },
  {
   "cell_type": "code",
   "execution_count": 14,
   "metadata": {},
   "outputs": [
    {
     "name": "stdout",
     "output_type": "stream",
     "text": [
      "规划求解过程：\n",
      "[0, 0, 0, 350, 350, 500, 550, 650, 850, 850, 900]\n",
      "==================================================\n",
      "最优掘金收益: 900 kg 黄金\n"
     ]
    }
   ],
   "source": [
    "print('最优掘金收益:',get_best_gold_mining_v3(w=10,n=5,p=[3,4,3,5,5],\n",
    "                                        g=[200,300,350,400,500]),'kg 黄金')"
   ]
  },
  {
   "cell_type": "markdown",
   "metadata": {},
   "source": [
    "### >>> 题四：寻找缺失的整数\n",
    "a ) 在一个无序的整数数组 A 中，数值范围 B(start,stop)，怎么找到属于数值范围 B 但数组 A 中缺失的整数？   \n",
    "\n",
    "思路：创建一个哈希表，key=(start,stop），遍历整个数组 A，每读到一个整数，就定位哈希表中的 key，然后删除这个 key，最终剩余的 key 即为缺失的整数。   \n",
    "\n",
    "该算法的时间复杂度 & 空间复杂度 均为 O（n）"
   ]
  },
  {
   "cell_type": "code",
   "execution_count": 15,
   "metadata": {},
   "outputs": [],
   "source": [
    "def find_miss_int(start,stop,my_list=[]):\n",
    "    key=list(range(start,stop+1))\n",
    "    no_value=[0]*len(key)\n",
    "    hash_table=dict(zip(key,no_value))\n",
    "    for i in range(len(my_list)):\n",
    "        if my_list[i] in list(hash_table):\n",
    "            hash_table.pop(my_list[i])\n",
    "    return list(hash_table.keys())"
   ]
  },
  {
   "cell_type": "code",
   "execution_count": 16,
   "metadata": {},
   "outputs": [
    {
     "name": "stdout",
     "output_type": "stream",
     "text": [
      "缺失的整数为： [6, 8]\n"
     ]
    }
   ],
   "source": [
    "print('缺失的整数为：',find_miss_int(start=1,stop=8,my_list=[2,4,2,1,3,5,7]))"
   ]
  },
  {
   "cell_type": "markdown",
   "metadata": {},
   "source": [
    "b ) 在一个无序数组里 A 中，只有 2 个整数出现了奇数次，其他整数均出现了偶数次，怎么找到这 2 个出现奇数次的整数？  \n",
    "\n",
    "思路：用异或运算（XOR）进行位运算时，相同位得 0，不同位得 1。  \n",
    "\n",
    "把这两个奇数次的整数命名为 j 和 k，遍历整个数组，依次做异或运算，得到的最终结果是 j 和 k 的异或运算值（偶数次整数异或运算值为0）。   \n",
    "\n",
    "查看 j 和 k 的异或运算值，从后向前第一个非 0 位说明这两个整数的二进制数在此，一个为 0，一个为 1。  \n",
    "\n",
    "再将整体数组分为该‘二进制分歧位’上，为 0 派，为 1 派，这样两个整数 j 和 k 就被单独分在两个派别中，最后两个派别分别进行一次异或运算，找到这两个奇数次整数 j 和 k。"
   ]
  },
  {
   "cell_type": "code",
   "execution_count": 17,
   "metadata": {},
   "outputs": [],
   "source": [
    "def find_lost_num(array=[]):\n",
    "    # 用于存储两个出现奇数次的整数\n",
    "    result = [0, 0]\n",
    "    # 第一次整体异或\n",
    "    xor_result = 0\n",
    "    for i in range(0, len(array)):\n",
    "        xor_result ^= array[i]\n",
    "    # 如果异或结果为0，说明输入数组不符合题目\n",
    "    if xor_result == 0:\n",
    "        raise ValueError\n",
    "    # 确定两个整数的不同位，以此来做分组\n",
    "    separator = 1\n",
    "    while 0 == (xor_result & separator):\n",
    "        separator <<= 1\n",
    "    # 第二次分组异或\n",
    "    for i in range(0, len(array)):\n",
    "        if 0 == (array[i] & separator):\n",
    "            result[0] ^= array[i]\n",
    "        else:\n",
    "            result[1] ^= array[i]\n",
    "    return result"
   ]
  },
  {
   "cell_type": "code",
   "execution_count": 18,
   "metadata": {},
   "outputs": [
    {
     "name": "stdout",
     "output_type": "stream",
     "text": [
      "列表中出现奇数次的两个整数; [5, 3]\n"
     ]
    }
   ],
   "source": [
    "my_array=list([4,1,2,2,5,1,4,3])\n",
    "print('列表中出现奇数次的两个整数;',find_lost_num(my_array))"
   ]
  }
 ],
 "metadata": {
  "kernelspec": {
   "display_name": "Python 3",
   "language": "python",
   "name": "python3"
  },
  "language_info": {
   "codemirror_mode": {
    "name": "ipython",
    "version": 3
   },
   "file_extension": ".py",
   "mimetype": "text/x-python",
   "name": "python",
   "nbconvert_exporter": "python",
   "pygments_lexer": "ipython3",
   "version": "3.7.0"
  }
 },
 "nbformat": 4,
 "nbformat_minor": 2
}
