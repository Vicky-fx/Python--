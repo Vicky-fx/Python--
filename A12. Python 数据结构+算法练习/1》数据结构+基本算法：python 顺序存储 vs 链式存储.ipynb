{
 "cells": [
  {
   "cell_type": "markdown",
   "metadata": {},
   "source": [
    "### Python 基础算法练习（Hadoop + Spark + MySQL + Python）\n",
    "## <center>1 >>> 数据结构+基本算法：python 顺序存储 vs 链式存储</center>\n",
    "### <center>算法验证：张君颖  ； 报告日期：2021.1.20</center>\n",
    "  <font color=blue><center>作者邮箱：zhang.jun.ying@outlook.com</center></font>   \n",
    "  \n",
    "  <font color=blue><center>项目源代码、数据、自定义函数已上传GitHub：</center></font>   \n",
    "    \n",
    "<font color=blue><center>https://github.com/lotbear/Python-Financial-investment-strategy</center></font>"
   ]
  },
  {
   "cell_type": "markdown",
   "metadata": {},
   "source": [
    "### >>> 数据结构的组成方式   \n",
    "\n",
    "1） 线性结构 ： 数组 、 链表 、 栈 、 队列 、 哈希表   \n",
    "\n",
    "2） 树结构 ： 二叉树 、 二叉堆   \n",
    "\n",
    "3） 图 ： 多对多的关联关系   \n",
    "\n",
    "4） 其他结构 ： 由基本数据结构变形而来的 跳表 、 哈希链表 、 位图 等   "
   ]
  },
  {
   "cell_type": "markdown",
   "metadata": {},
   "source": [
    "### >>> 算法选择不同数据结构，解决不同问题\n",
    "\n",
    "1） 运算 ： 求最大公约数，超大整数和   \n",
    "\n",
    "2） 查找 ： 在数据库中执行 SQL 语句  \n",
    "\n",
    "3） 排序 ： 冒泡排序 、 快速排序 、 堆排序 、 计数排序 、 桶排序   \n",
    "\n",
    "4） 最优决策 ： A星寻路算法 、 动态规划算法  "
   ]
  },
  {
   "cell_type": "markdown",
   "metadata": {},
   "source": [
    "### >>> 算法的好坏  :  时间复杂度\n",
    "\n",
    "基本操作的执行次数 T ( n ) : 常数 3 < 对数 3 log n < 线性 3 n < 多项式 3 n^2 + 3 n\n",
    "\n",
    "对应的时间复杂度 O ( f ( n ) ) : 1 < log n < n < n^2"
   ]
  },
  {
   "cell_type": "code",
   "execution_count": 1,
   "metadata": {},
   "outputs": [],
   "source": [
    "# 时间复杂度 T (n) = 3 ; O( 1 ) 顺序执行\n",
    "def eat1(n):\n",
    "    print(\"等待1min\")\n",
    "    print(\"等待1min\")\n",
    "    print(\"吃1cm面包\")"
   ]
  },
  {
   "cell_type": "code",
   "execution_count": 2,
   "metadata": {},
   "outputs": [
    {
     "name": "stdout",
     "output_type": "stream",
     "text": [
      "等待1min\n",
      "等待1min\n",
      "吃1cm面包\n"
     ]
    }
   ],
   "source": [
    "eat1(3)"
   ]
  },
  {
   "cell_type": "code",
   "execution_count": 3,
   "metadata": {},
   "outputs": [],
   "source": [
    "# 时间复杂度 T（n）= 3 log n ; O( log n ) while 判断执行\n",
    "def eat2(n):\n",
    "    while n > 1:\n",
    "        print(\"等待1min\")\n",
    "        print(\"等待1min\")\n",
    "        print(\"吃 1/2 面包\")\n",
    "        n /= 2"
   ]
  },
  {
   "cell_type": "code",
   "execution_count": 4,
   "metadata": {},
   "outputs": [
    {
     "name": "stdout",
     "output_type": "stream",
     "text": [
      "等待1min\n",
      "等待1min\n",
      "吃 1/2 面包\n",
      "等待1min\n",
      "等待1min\n",
      "吃 1/2 面包\n"
     ]
    }
   ],
   "source": [
    "eat2(3)"
   ]
  },
  {
   "cell_type": "code",
   "execution_count": 5,
   "metadata": {},
   "outputs": [],
   "source": [
    "# 时间复杂度 T（n）= 3 n ; O( n ) for in 单循环\n",
    "def eat3(n):\n",
    "    for i in range(n):\n",
    "        print(\"等待1min\")\n",
    "        print(\"等待1min\")\n",
    "        print(\"吃1cm面包\")"
   ]
  },
  {
   "cell_type": "code",
   "execution_count": 6,
   "metadata": {},
   "outputs": [
    {
     "name": "stdout",
     "output_type": "stream",
     "text": [
      "等待1min\n",
      "等待1min\n",
      "吃1cm面包\n",
      "等待1min\n",
      "等待1min\n",
      "吃1cm面包\n",
      "等待1min\n",
      "等待1min\n",
      "吃1cm面包\n"
     ]
    }
   ],
   "source": [
    "eat3(3)"
   ]
  },
  {
   "cell_type": "code",
   "execution_count": 7,
   "metadata": {},
   "outputs": [],
   "source": [
    "# 时间复杂度 T（n）= 3 n^2 + 3 n ; O( n^2 ) for in 双循环\n",
    "def eat4(n):\n",
    "    for i in range(n):\n",
    "        for j in range(i):\n",
    "            print(\"等待1min\")\n",
    "            print(\"等待1min\")\n",
    "            print(\"等待1min\")\n",
    "            print(\"等待1min\")\n",
    "            print(\"等待1min\")\n",
    "            print(\"等待1min\")\n",
    "        print(\"吃1cm面包\")"
   ]
  },
  {
   "cell_type": "code",
   "execution_count": 8,
   "metadata": {
    "scrolled": true
   },
   "outputs": [
    {
     "name": "stdout",
     "output_type": "stream",
     "text": [
      "0\n",
      "1\n",
      "2\n"
     ]
    }
   ],
   "source": [
    "for i in range(3):\n",
    "    print(i)"
   ]
  },
  {
   "cell_type": "code",
   "execution_count": 9,
   "metadata": {},
   "outputs": [
    {
     "name": "stdout",
     "output_type": "stream",
     "text": [
      "吃1cm面包\n",
      "等待1min\n",
      "等待1min\n",
      "等待1min\n",
      "等待1min\n",
      "等待1min\n",
      "等待1min\n",
      "吃1cm面包\n",
      "等待1min\n",
      "等待1min\n",
      "等待1min\n",
      "等待1min\n",
      "等待1min\n",
      "等待1min\n",
      "等待1min\n",
      "等待1min\n",
      "等待1min\n",
      "等待1min\n",
      "等待1min\n",
      "等待1min\n",
      "吃1cm面包\n"
     ]
    }
   ],
   "source": [
    "eat4(3)"
   ]
  },
  {
   "cell_type": "markdown",
   "metadata": {},
   "source": [
    "### >>> 算法的好坏  :  空间复杂度\n",
    "\n",
    "算法占用的临时内存空间 S ( n ) :  常数 3 < 线性 3 n < 幂次方 3 n^2  \n",
    "\n",
    "对应的空间复杂度 O ( f ( n ) ) : 1 < n < n^2"
   ]
  },
  {
   "cell_type": "code",
   "execution_count": 10,
   "metadata": {},
   "outputs": [],
   "source": [
    "# 空间复杂度 S（n）=  3 ; O( 1 ) 常量空间\n",
    "def fun1(n):\n",
    "    i = 1\n",
    "    j = 2\n",
    "    k = 3\n",
    "    print(i,j,k)"
   ]
  },
  {
   "cell_type": "code",
   "execution_count": 11,
   "metadata": {},
   "outputs": [
    {
     "name": "stdout",
     "output_type": "stream",
     "text": [
      "1 2 3\n"
     ]
    }
   ],
   "source": [
    "fun1(3)"
   ]
  },
  {
   "cell_type": "code",
   "execution_count": 12,
   "metadata": {},
   "outputs": [],
   "source": [
    "# 空间复杂度 S（n）= 3 n ; O( n ) 线性空间\n",
    "def fun2(n):\n",
    "    array1 = [[1]*n]\n",
    "    array2 = [[2]*n]\n",
    "    array3 = [[3]*n]\n",
    "    print(array1,array2,array3)"
   ]
  },
  {
   "cell_type": "code",
   "execution_count": 13,
   "metadata": {},
   "outputs": [
    {
     "name": "stdout",
     "output_type": "stream",
     "text": [
      "[[1, 1, 1]] [[2, 2, 2]] [[3, 3, 3]]\n"
     ]
    }
   ],
   "source": [
    "fun2(3)"
   ]
  },
  {
   "cell_type": "code",
   "execution_count": 14,
   "metadata": {},
   "outputs": [],
   "source": [
    "# 空间复杂度 S（n）= 3 n^2 ; O( n^2 ) 二维空间\n",
    "def fun3(n):\n",
    "    matrix1 = [[1]*n]*n\n",
    "    matrix2 = [[2]*n]*n\n",
    "    matrix3 = [[3]*n]*n\n",
    "    print(matrix1)\n",
    "    print(matrix2)\n",
    "    print(matrix3)"
   ]
  },
  {
   "cell_type": "code",
   "execution_count": 15,
   "metadata": {},
   "outputs": [
    {
     "name": "stdout",
     "output_type": "stream",
     "text": [
      "[[1, 1, 1], [1, 1, 1], [1, 1, 1]]\n",
      "[[2, 2, 2], [2, 2, 2], [2, 2, 2]]\n",
      "[[3, 3, 3], [3, 3, 3], [3, 3, 3]]\n"
     ]
    }
   ],
   "source": [
    "fun3(3)"
   ]
  },
  {
   "cell_type": "markdown",
   "metadata": {},
   "source": [
    "递归空间： 函数调用栈  \n",
    "\n",
    "当函数不断调用本身运算时，将调用的函数和参数信息压入栈中；   \n",
    "\n",
    "当函数返回值后，执行出栈操作，调用的函数和参数信息从栈中弹出。"
   ]
  },
  {
   "cell_type": "code",
   "execution_count": 16,
   "metadata": {},
   "outputs": [],
   "source": [
    "# 空间复杂度 S（n）= n ; O( n ) 递归空间\n",
    "def fun4(n):\n",
    "    if n > 0:\n",
    "        matrix = [[1]*n]*n\n",
    "        print(matrix)\n",
    "        print('函数调用一次')\n",
    "        fun4(n-1)"
   ]
  },
  {
   "cell_type": "code",
   "execution_count": 17,
   "metadata": {},
   "outputs": [
    {
     "name": "stdout",
     "output_type": "stream",
     "text": [
      "[[1, 1, 1], [1, 1, 1], [1, 1, 1]]\n",
      "函数调用一次\n",
      "[[1, 1], [1, 1]]\n",
      "函数调用一次\n",
      "[[1]]\n",
      "函数调用一次\n"
     ]
    }
   ],
   "source": [
    "fun4(3)"
   ]
  },
  {
   "cell_type": "markdown",
   "metadata": {},
   "source": [
    "### >>> 数组 list / tuple / array / ndarray / series / DataFrame\n",
    "由于数组元素是紧密存储在内存的，因此拥有高效的随机访问能力，只要给出下标 ，就可以用常量时间找到对应的元素。   \n",
    "\n",
    "查找+更新数据，时间复杂度为 O(1)；插入+删除数据，时间复杂度为 O(n)  "
   ]
  },
  {
   "cell_type": "markdown",
   "metadata": {},
   "source": [
    "List [ ]"
   ]
  },
  {
   "cell_type": "code",
   "execution_count": 18,
   "metadata": {},
   "outputs": [
    {
     "name": "stdout",
     "output_type": "stream",
     "text": [
      "lotbear\n",
      "e\n",
      "<class 'list'>\n"
     ]
    }
   ],
   "source": [
    "list1=[1,2,'lotbear',4,5.5]\n",
    "print(list1[2])\n",
    "print(list1[2][4])\n",
    "print(type(list1))"
   ]
  },
  {
   "cell_type": "markdown",
   "metadata": {},
   "source": [
    "tuple ( )"
   ]
  },
  {
   "cell_type": "code",
   "execution_count": 19,
   "metadata": {},
   "outputs": [
    {
     "name": "stdout",
     "output_type": "stream",
     "text": [
      "2020-01-21\n",
      "10\n",
      "<class 'tuple'>\n"
     ]
    }
   ],
   "source": [
    "tuple1=(1,2,'2020-01-21',4,5*2)\n",
    "print(tuple1[2])\n",
    "print(tuple1[4])\n",
    "print(type(tuple1))"
   ]
  },
  {
   "cell_type": "markdown",
   "metadata": {},
   "source": [
    "<font color=red>查看 numpy 的数组操作 ：ndarray</font>"
   ]
  },
  {
   "cell_type": "code",
   "execution_count": 20,
   "metadata": {},
   "outputs": [
    {
     "name": "stdout",
     "output_type": "stream",
     "text": [
      "[0 1 2 3 4 5 6 7 8 9]\n",
      "<class 'numpy.ndarray'>\n"
     ]
    },
    {
     "data": {
      "text/plain": [
       "2"
      ]
     },
     "execution_count": 20,
     "metadata": {},
     "output_type": "execute_result"
    }
   ],
   "source": [
    "import numpy as np\n",
    "\n",
    "a=np.arange(10)\n",
    "print(a)\n",
    "print(type(a))\n",
    "a[2]"
   ]
  },
  {
   "cell_type": "code",
   "execution_count": 21,
   "metadata": {},
   "outputs": [
    {
     "name": "stdout",
     "output_type": "stream",
     "text": [
      "['1' '2' 'lotbear' '4.8' '25']\n",
      "<class 'numpy.ndarray'>\n"
     ]
    },
    {
     "data": {
      "text/plain": [
       "'lotbear'"
      ]
     },
     "execution_count": 21,
     "metadata": {},
     "output_type": "execute_result"
    }
   ],
   "source": [
    "b=np.array([1,2,'lotbear',4.8,5*5])\n",
    "print(b)\n",
    "print(type(b))\n",
    "b[2]"
   ]
  },
  {
   "cell_type": "code",
   "execution_count": 22,
   "metadata": {},
   "outputs": [
    {
     "name": "stdout",
     "output_type": "stream",
     "text": [
      "[[2.45231065 4.65022315 3.11417536 3.33873916]\n",
      " [1.2633383  1.87332936 2.55891245 1.73028932]]\n",
      "<class 'numpy.ndarray'>\n"
     ]
    },
    {
     "data": {
      "text/plain": [
       "array([4.65022315, 1.87332936])"
      ]
     },
     "execution_count": 22,
     "metadata": {},
     "output_type": "execute_result"
    }
   ],
   "source": [
    "c=np.random.randn(2,4)+3  # randn 为（0,1）正态分布\n",
    "print(c)\n",
    "print(type(c))\n",
    "c[:,1]"
   ]
  },
  {
   "cell_type": "code",
   "execution_count": 23,
   "metadata": {},
   "outputs": [
    {
     "name": "stdout",
     "output_type": "stream",
     "text": [
      "[[0. 0. 0. 0.]\n",
      " [0. 0. 0. 0.]]\n",
      "<class 'numpy.ndarray'>\n"
     ]
    },
    {
     "data": {
      "text/plain": [
       "0.0"
      ]
     },
     "execution_count": 23,
     "metadata": {},
     "output_type": "execute_result"
    }
   ],
   "source": [
    "d=np.zeros_like(c)\n",
    "print(d)\n",
    "print(type(d))\n",
    "d[1][1]"
   ]
  },
  {
   "cell_type": "markdown",
   "metadata": {},
   "source": [
    "<font color=red>查看 pandas 的数组 array / series / DataFrame 的操作</font>"
   ]
  },
  {
   "cell_type": "code",
   "execution_count": 24,
   "metadata": {},
   "outputs": [
    {
     "name": "stdout",
     "output_type": "stream",
     "text": [
      "<PandasArray>\n",
      "['1', '2.2', '3', 'lotbear', '25']\n",
      "Length: 5, dtype: str1024\n",
      "<class 'pandas.core.arrays.numpy_.PandasArray'>\n"
     ]
    }
   ],
   "source": [
    "import pandas as pd\n",
    "\n",
    "a=pd.array([1,2.2,3,'lotbear',5*5])\n",
    "print(a)\n",
    "print(type(a))"
   ]
  },
  {
   "cell_type": "code",
   "execution_count": 25,
   "metadata": {},
   "outputs": [
    {
     "data": {
      "text/html": [
       "<div>\n",
       "<style scoped>\n",
       "    .dataframe tbody tr th:only-of-type {\n",
       "        vertical-align: middle;\n",
       "    }\n",
       "\n",
       "    .dataframe tbody tr th {\n",
       "        vertical-align: top;\n",
       "    }\n",
       "\n",
       "    .dataframe thead th {\n",
       "        text-align: right;\n",
       "    }\n",
       "</style>\n",
       "<table border=\"1\" class=\"dataframe\">\n",
       "  <thead>\n",
       "    <tr style=\"text-align: right;\">\n",
       "      <th></th>\n",
       "      <th>column1</th>\n",
       "      <th>column2</th>\n",
       "      <th>column3</th>\n",
       "      <th>column4</th>\n",
       "    </tr>\n",
       "  </thead>\n",
       "  <tbody>\n",
       "    <tr>\n",
       "      <th>0</th>\n",
       "      <td>0</td>\n",
       "      <td>1.0</td>\n",
       "      <td>3</td>\n",
       "      <td>a</td>\n",
       "    </tr>\n",
       "    <tr>\n",
       "      <th>1</th>\n",
       "      <td>1</td>\n",
       "      <td>1.0</td>\n",
       "      <td>5</td>\n",
       "      <td>b</td>\n",
       "    </tr>\n",
       "    <tr>\n",
       "      <th>2</th>\n",
       "      <td>2</td>\n",
       "      <td>1.0</td>\n",
       "      <td>2</td>\n",
       "      <td>c</td>\n",
       "    </tr>\n",
       "    <tr>\n",
       "      <th>3</th>\n",
       "      <td>3</td>\n",
       "      <td>1.0</td>\n",
       "      <td>3</td>\n",
       "      <td>d</td>\n",
       "    </tr>\n",
       "    <tr>\n",
       "      <th>4</th>\n",
       "      <td>4</td>\n",
       "      <td>1.0</td>\n",
       "      <td>5</td>\n",
       "      <td>e</td>\n",
       "    </tr>\n",
       "  </tbody>\n",
       "</table>\n",
       "</div>"
      ],
      "text/plain": [
       "   column1  column2  column3 column4\n",
       "0        0      1.0        3       a\n",
       "1        1      1.0        5       b\n",
       "2        2      1.0        2       c\n",
       "3        3      1.0        3       d\n",
       "4        4      1.0        5       e"
      ]
     },
     "execution_count": 25,
     "metadata": {},
     "output_type": "execute_result"
    }
   ],
   "source": [
    "b=pd.DataFrame({'column1':np.arange(5),\n",
    "                'column2':np.ones(5),\n",
    "                'column3':np.random.randint(2,9,5), # (low,high,num)\n",
    "                'column4':['a','b','c','d','e']})\n",
    "b"
   ]
  },
  {
   "cell_type": "code",
   "execution_count": 26,
   "metadata": {},
   "outputs": [
    {
     "name": "stdout",
     "output_type": "stream",
     "text": [
      "0    0\n",
      "1    1\n",
      "2    2\n",
      "3    3\n",
      "4    4\n",
      "Name: column1, dtype: int32\n",
      "<class 'pandas.core.series.Series'>\n"
     ]
    },
    {
     "data": {
      "text/plain": [
       "3"
      ]
     },
     "execution_count": 26,
     "metadata": {},
     "output_type": "execute_result"
    }
   ],
   "source": [
    "print(b['column1'])\n",
    "print(type(b['column1']))\n",
    "b['column1'][3]"
   ]
  },
  {
   "cell_type": "code",
   "execution_count": 27,
   "metadata": {},
   "outputs": [
    {
     "data": {
      "text/html": [
       "<div>\n",
       "<style scoped>\n",
       "    .dataframe tbody tr th:only-of-type {\n",
       "        vertical-align: middle;\n",
       "    }\n",
       "\n",
       "    .dataframe tbody tr th {\n",
       "        vertical-align: top;\n",
       "    }\n",
       "\n",
       "    .dataframe thead th {\n",
       "        text-align: right;\n",
       "    }\n",
       "</style>\n",
       "<table border=\"1\" class=\"dataframe\">\n",
       "  <thead>\n",
       "    <tr style=\"text-align: right;\">\n",
       "      <th></th>\n",
       "      <th>column1</th>\n",
       "      <th>column2</th>\n",
       "      <th>column3</th>\n",
       "      <th>column4</th>\n",
       "    </tr>\n",
       "  </thead>\n",
       "  <tbody>\n",
       "    <tr>\n",
       "      <th>1</th>\n",
       "      <td>1</td>\n",
       "      <td>1.0</td>\n",
       "      <td>5</td>\n",
       "      <td>b</td>\n",
       "    </tr>\n",
       "    <tr>\n",
       "      <th>4</th>\n",
       "      <td>4</td>\n",
       "      <td>1.0</td>\n",
       "      <td>5</td>\n",
       "      <td>e</td>\n",
       "    </tr>\n",
       "  </tbody>\n",
       "</table>\n",
       "</div>"
      ],
      "text/plain": [
       "   column1  column2  column3 column4\n",
       "1        1      1.0        5       b\n",
       "4        4      1.0        5       e"
      ]
     },
     "execution_count": 27,
     "metadata": {},
     "output_type": "execute_result"
    }
   ],
   "source": [
    "b.loc[b.column3 > 3]"
   ]
  },
  {
   "cell_type": "code",
   "execution_count": 28,
   "metadata": {},
   "outputs": [
    {
     "data": {
      "text/plain": [
       "5"
      ]
     },
     "execution_count": 28,
     "metadata": {},
     "output_type": "execute_result"
    }
   ],
   "source": [
    "b.iloc[1,2]"
   ]
  },
  {
   "cell_type": "code",
   "execution_count": 29,
   "metadata": {
    "scrolled": true
   },
   "outputs": [
    {
     "data": {
      "text/html": [
       "<div>\n",
       "<style scoped>\n",
       "    .dataframe tbody tr th:only-of-type {\n",
       "        vertical-align: middle;\n",
       "    }\n",
       "\n",
       "    .dataframe tbody tr th {\n",
       "        vertical-align: top;\n",
       "    }\n",
       "\n",
       "    .dataframe thead th {\n",
       "        text-align: right;\n",
       "    }\n",
       "</style>\n",
       "<table border=\"1\" class=\"dataframe\">\n",
       "  <thead>\n",
       "    <tr style=\"text-align: right;\">\n",
       "      <th></th>\n",
       "      <th>column1</th>\n",
       "      <th>column2</th>\n",
       "      <th>column3</th>\n",
       "      <th>column4</th>\n",
       "    </tr>\n",
       "  </thead>\n",
       "  <tbody>\n",
       "    <tr>\n",
       "      <th>1</th>\n",
       "      <td>1</td>\n",
       "      <td>1.0</td>\n",
       "      <td>5</td>\n",
       "      <td>b</td>\n",
       "    </tr>\n",
       "    <tr>\n",
       "      <th>2</th>\n",
       "      <td>2</td>\n",
       "      <td>1.0</td>\n",
       "      <td>2</td>\n",
       "      <td>c</td>\n",
       "    </tr>\n",
       "  </tbody>\n",
       "</table>\n",
       "</div>"
      ],
      "text/plain": [
       "   column1  column2  column3 column4\n",
       "1        1      1.0        5       b\n",
       "2        2      1.0        2       c"
      ]
     },
     "execution_count": 29,
     "metadata": {},
     "output_type": "execute_result"
    }
   ],
   "source": [
    "b.iloc[[1,2]]"
   ]
  },
  {
   "cell_type": "markdown",
   "metadata": {},
   "source": [
    "<font color=red>numpy 和 pandas 之间的数据结构转换</font>"
   ]
  },
  {
   "cell_type": "code",
   "execution_count": 30,
   "metadata": {},
   "outputs": [
    {
     "name": "stdout",
     "output_type": "stream",
     "text": [
      "[1. 1. 1. 1. 1.]\n",
      "<class 'numpy.ndarray'>\n"
     ]
    }
   ],
   "source": [
    "c=np.array(b['column2'])\n",
    "print(c)\n",
    "print(type(c))"
   ]
  },
  {
   "cell_type": "code",
   "execution_count": 31,
   "metadata": {},
   "outputs": [
    {
     "name": "stdout",
     "output_type": "stream",
     "text": [
      "     0\n",
      "0  1.0\n",
      "1  1.0\n",
      "2  1.0\n",
      "3  1.0\n",
      "4  1.0\n",
      "<class 'pandas.core.frame.DataFrame'>\n"
     ]
    }
   ],
   "source": [
    "d=pd.DataFrame(c)\n",
    "print(d)\n",
    "print(type(d))"
   ]
  },
  {
   "cell_type": "markdown",
   "metadata": {},
   "source": [
    "### 数组插入元素\n",
    "\n",
    "尾部插入 append  \n",
    "\n",
    "中间插入 insert  \n",
    "\n",
    "超范围插入"
   ]
  },
  {
   "cell_type": "code",
   "execution_count": 32,
   "metadata": {},
   "outputs": [
    {
     "name": "stdout",
     "output_type": "stream",
     "text": [
      "插入前： [1, 2, 3, 4, 5]\n",
      "插入后： [1, 2, 3, 4, 5, 'lotbear']\n"
     ]
    }
   ],
   "source": [
    "a=[1,2,3,4,5]\n",
    "print('插入前：',a)\n",
    "a.append('lotbear')\n",
    "print('插入后：',a)\n",
    "a.remove('lotbear')"
   ]
  },
  {
   "cell_type": "code",
   "execution_count": 33,
   "metadata": {},
   "outputs": [
    {
     "name": "stdout",
     "output_type": "stream",
     "text": [
      "中间插入: [1, 2, 'lotbear', 3, 4, 5]\n"
     ]
    }
   ],
   "source": [
    "a.insert(2,'lotbear')\n",
    "print('中间插入:',a)\n",
    "a.remove('lotbear')"
   ]
  },
  {
   "cell_type": "code",
   "execution_count": 34,
   "metadata": {},
   "outputs": [
    {
     "name": "stdout",
     "output_type": "stream",
     "text": [
      "5\n",
      "4\n",
      "3\n",
      "2\n"
     ]
    }
   ],
   "source": [
    "for i in range(5,1,-1):\n",
    "    print(i)"
   ]
  },
  {
   "cell_type": "markdown",
   "metadata": {},
   "source": [
    "### 自定义一个数组类 MyArray，实现元素插入 & 删除功能\n",
    "  \n",
    "数组适合读取和查询，但在插入 / 删除场景中并没有优势 ——> 引出 链表数据结构"
   ]
  },
  {
   "cell_type": "code",
   "execution_count": 35,
   "metadata": {},
   "outputs": [],
   "source": [
    "class MyArray:\n",
    "    def __init__(self,capacity):\n",
    "        self.array=[None]*capacity\n",
    "        self.size=capacity\n",
    "    \n",
    "    def insert(self,index,element):\n",
    "        if index < 0 or index >= self.size:\n",
    "            raise Exception('超出数组元素数量范围！')\n",
    "        if self.size >= len(self.array):\n",
    "            self.resize()\n",
    "        # 从右往左循环，逐个元素向右移一位\n",
    "        for i in range(self.size-1,-1,-1):\n",
    "            self.array[i+1]=self.array[i]\n",
    "        self.array[index]=element\n",
    "        self.size +=1\n",
    "    \n",
    "    def resize(self):\n",
    "        array_new=[None]*len(self.array)*2\n",
    "        # 从旧数组复制到新数组\n",
    "        for i in range(self.size):\n",
    "            array_new[i]=self.array[i]\n",
    "        self.array=array_new\n",
    "        \n",
    "    def output(self):\n",
    "        for i in range(self.size):\n",
    "            print(self.array[i])\n",
    "            \n",
    "    def remove(self,index):\n",
    "        if index < 0 or index >= self.size:\n",
    "            raise Exception('超出数组元素数量范围！')\n",
    "        for i in range(index,self.size):\n",
    "            self.array[i]=self.array[i+1]\n",
    "        self.size -= 1"
   ]
  },
  {
   "cell_type": "code",
   "execution_count": 36,
   "metadata": {},
   "outputs": [
    {
     "name": "stdout",
     "output_type": "stream",
     "text": [
      "初始size: 6\n",
      "更新size: 9\n",
      "None\n",
      "None\n",
      "7\n",
      "8\n",
      "9\n",
      "None\n",
      "None\n",
      "None\n",
      "None\n"
     ]
    }
   ],
   "source": [
    "array = MyArray(6)\n",
    "print('初始size:',array.size)\n",
    "array.insert(2,9)\n",
    "array.insert(2,8)\n",
    "array.insert(2,7)\n",
    "print('更新size:',array.size)\n",
    "array.output()"
   ]
  },
  {
   "cell_type": "code",
   "execution_count": 37,
   "metadata": {},
   "outputs": [
    {
     "name": "stdout",
     "output_type": "stream",
     "text": [
      "None\n",
      "None\n",
      "7\n",
      "9\n",
      "None\n",
      "None\n",
      "None\n",
      "None\n"
     ]
    }
   ],
   "source": [
    "array.remove(3)\n",
    "array.output()"
   ]
  },
  {
   "cell_type": "markdown",
   "metadata": {},
   "source": [
    "### >>> 链表 linked list  （适合增删数据，随机存储）\n",
    "链表是一种在物理上非连续、非顺序的数据结构，由若干节点组成，<font color=red>存储方式为随机存储</font>   \n",
    "\n",
    "单向链表：每个节点含存放的数据data + 指向下一个节点的指针   \n",
    "\n",
    "双向链表：每个节点含存放的数据data + 前向 prev 指针 + 后向 next 指针 "
   ]
  },
  {
   "cell_type": "code",
   "execution_count": 38,
   "metadata": {},
   "outputs": [],
   "source": [
    "class Node:\n",
    "    def __init__(self,data):\n",
    "        self.data = data\n",
    "        self.next = None\n",
    "        self.prev = None"
   ]
  },
  {
   "cell_type": "markdown",
   "metadata": {},
   "source": [
    "由于链表不能向数组一样通过下标快速定位，只能从头节点开始向后一个个节点逐一查找    \n",
    "\n",
    "查找数据，时间复杂度最坏为 O( n ) ; 更新 / 插入 / 删除数据，时间复杂度为 O(1)  "
   ]
  },
  {
   "cell_type": "code",
   "execution_count": 39,
   "metadata": {},
   "outputs": [],
   "source": [
    "class LinkedList:\n",
    "    def __init__(self):\n",
    "        self.size=0\n",
    "        self.head=None\n",
    "        self.last=None\n",
    "    \n",
    "    def get(self,index):\n",
    "        if index < 0 or index >= self.size:\n",
    "            raise Exception('超出链表节点范围！')\n",
    "        p=self.head\n",
    "        for i in range(index):\n",
    "            p=p.next\n",
    "        print('get p=p.next:',p)\n",
    "        return p\n",
    "    \n",
    "    def insert(self,data,index):\n",
    "        if index < 0 or index > self.size:\n",
    "            raise Exception('超出链表节点范围！')\n",
    "        node=Node(data)\n",
    "        if self.size==0:\n",
    "            # 空链表\n",
    "            self.head=node\n",
    "        elif index==0:\n",
    "            # 插入头部\n",
    "            node.next=self.head\n",
    "            self.head=node\n",
    "        elif self.size==index:\n",
    "            # 插入尾部\n",
    "            # self.last.next=node\n",
    "            self.last=node;\n",
    "        else:\n",
    "            # 插入中间\n",
    "            prev_node=self.get(index-1)\n",
    "            node.next=prev_node.next\n",
    "            prev_node.next=node\n",
    "        self.size +=1\n",
    "    \n",
    "    def remove(self,index):\n",
    "        if index < 0 or index >= self.size:\n",
    "            raise Exception('超出链表节点范围！')\n",
    "        # 暂存被删除的节点，用于返回\n",
    "        if index==0:\n",
    "            # 删除头节点\n",
    "            removed_node=self.head\n",
    "            self.head=self.head.next\n",
    "        elif index == self.size-1:\n",
    "            # 删除尾节点\n",
    "            prev_node=self.get(index-1)\n",
    "            removed_node=prev_node.next\n",
    "            prev_node.next=None\n",
    "            self.last=prev_node\n",
    "        else:\n",
    "            # 删除中间节点\n",
    "            prev_node=self.get(index-1)\n",
    "            next_node=prev_node.next.next\n",
    "            removed_node=prev_node.next\n",
    "            prev_node.next=next_node\n",
    "            self.size -= 1\n",
    "            return removed_node\n",
    "    \n",
    "    def output(self):\n",
    "        p=self.head\n",
    "        while p is not None:\n",
    "            print(p.data)\n",
    "            p=p.next"
   ]
  },
  {
   "cell_type": "code",
   "execution_count": 40,
   "metadata": {},
   "outputs": [
    {
     "name": "stdout",
     "output_type": "stream",
     "text": [
      "3\n",
      "==============================\n",
      "4\n",
      "3\n",
      "==============================\n",
      "get p=p.next: <__main__.Node object at 0x000001E017848828>\n",
      "4\n",
      "9\n",
      "3\n",
      "==============================\n",
      "4\n",
      "9\n",
      "3\n",
      "==============================\n",
      "get p=p.next: <__main__.Node object at 0x000001E017848828>\n",
      "整体插入数据后：\n",
      "4\n",
      "6\n",
      "9\n",
      "3\n",
      "get p=p.next: <__main__.Node object at 0x000001E017848828>\n",
      "删除数据后：\n",
      "4\n",
      "9\n",
      "3\n"
     ]
    }
   ],
   "source": [
    "linkedList=LinkedList()\n",
    "linkedList.insert(3,0)\n",
    "linkedList.output()\n",
    "print('='*30)\n",
    "linkedList.insert(4,0)\n",
    "linkedList.output()\n",
    "print('='*30)\n",
    "linkedList.insert(9,1)\n",
    "linkedList.output()\n",
    "print('='*30)\n",
    "linkedList.insert(5,3)\n",
    "linkedList.output()\n",
    "print('='*30)\n",
    "linkedList.insert(6,1)\n",
    "print('整体插入数据后：')\n",
    "linkedList.output()\n",
    "linkedList.remove(1)\n",
    "print('删除数据后：')\n",
    "linkedList.output()"
   ]
  },
  {
   "cell_type": "markdown",
   "metadata": {},
   "source": [
    "### >>> python 中 collection.deque 双边队列（具有队列和栈的性质）\n",
    "\n",
    "官方文档：https://docs.python.org/2/library/collections.html#collections.deque"
   ]
  },
  {
   "cell_type": "code",
   "execution_count": 41,
   "metadata": {},
   "outputs": [
    {
     "name": "stdout",
     "output_type": "stream",
     "text": [
      "deque(['1', '2', '3', '4', '5', '6', '7'])\n",
      "deque(['lotbear', '1', '2', '3', '4', '5', '6', '7'])\n"
     ]
    }
   ],
   "source": [
    "from collections import deque \n",
    "\n",
    "a=deque('1234567')\n",
    "print(a)\n",
    "a.insert(0,'lotbear')\n",
    "print(a)"
   ]
  },
  {
   "cell_type": "code",
   "execution_count": 42,
   "metadata": {},
   "outputs": [
    {
     "data": {
      "text/plain": [
       "'7'"
      ]
     },
     "execution_count": 42,
     "metadata": {},
     "output_type": "execute_result"
    }
   ],
   "source": [
    "a.pop()"
   ]
  },
  {
   "cell_type": "code",
   "execution_count": 43,
   "metadata": {},
   "outputs": [
    {
     "name": "stdout",
     "output_type": "stream",
     "text": [
      "deque(['5', '6', 'lotbear', '1', '2', '3', '4'])\n"
     ]
    }
   ],
   "source": [
    "a.rotate(2) # 链表向右循环前进 2步\n",
    "print(a)"
   ]
  },
  {
   "cell_type": "code",
   "execution_count": 44,
   "metadata": {},
   "outputs": [
    {
     "name": "stdout",
     "output_type": "stream",
     "text": [
      "deque(['1', '2', '3', '4', '5', '6', 'lotbear'])\n"
     ]
    }
   ],
   "source": [
    "a.rotate(-3) # 链表向左循环前进 3步\n",
    "print(a)"
   ]
  },
  {
   "cell_type": "code",
   "execution_count": 45,
   "metadata": {},
   "outputs": [
    {
     "name": "stdout",
     "output_type": "stream",
     "text": [
      "True\n",
      "False\n"
     ]
    }
   ],
   "source": [
    "# 查看数据是否存在\n",
    "print('2' in a)\n",
    "print('7' in a)"
   ]
  },
  {
   "cell_type": "code",
   "execution_count": 46,
   "metadata": {},
   "outputs": [
    {
     "data": {
      "text/plain": [
       "6"
      ]
     },
     "execution_count": 46,
     "metadata": {},
     "output_type": "execute_result"
    }
   ],
   "source": [
    "# 指定空间查找数据位置\n",
    "# D.index(value, [start, [stop]])\n",
    "a.index('lotbear',0,7)"
   ]
  },
  {
   "cell_type": "code",
   "execution_count": 47,
   "metadata": {},
   "outputs": [
    {
     "data": {
      "text/plain": [
       "1"
      ]
     },
     "execution_count": 47,
     "metadata": {},
     "output_type": "execute_result"
    }
   ],
   "source": [
    "a.count('3') # 数值出现过几次"
   ]
  }
 ],
 "metadata": {
  "kernelspec": {
   "display_name": "Python 3",
   "language": "python",
   "name": "python3"
  },
  "language_info": {
   "codemirror_mode": {
    "name": "ipython",
    "version": 3
   },
   "file_extension": ".py",
   "mimetype": "text/x-python",
   "name": "python",
   "nbconvert_exporter": "python",
   "pygments_lexer": "ipython3",
   "version": "3.7.0"
  }
 },
 "nbformat": 4,
 "nbformat_minor": 2
}
