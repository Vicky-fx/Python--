{
 "cells": [
  {
   "cell_type": "markdown",
   "metadata": {},
   "source": [
    "### Hadoop3.3 + Spark3.0 + IPython3.7 机器学习与大数据实战\n",
    "## <center>RDD / Spark DataFrame / Spark SQL >>> 数据类型比较</center>\n",
    "## <center>基于 Hadoop + Spark 大数据分布式存储及运算</center>\n",
    "### <center>策略制定及验证：张君颖  ； 报告日期：2020.12.22</center>  \n",
    "  \n",
    "<font color=blue><center>作者邮箱：zhang.jun.ying@outlook.com</center></font>   \n",
    "  \n",
    "<font color=blue><center>项目源代码、数据、自定义函数已上传GitHub：</center></font>   \n",
    "    \n",
    "<font color=blue><center>https://github.com/lotbear/Python-Financial-investment-strategy</center></font>"
   ]
  },
  {
   "cell_type": "code",
   "execution_count": 1,
   "metadata": {},
   "outputs": [
    {
     "data": {
      "text/plain": [
       "'yarn'"
      ]
     },
     "execution_count": 1,
     "metadata": {},
     "output_type": "execute_result"
    }
   ],
   "source": [
    "# 查看 Spark 的运行模式，本次算法基于 Hadoop-yarn 架构\n",
    "# 实现 4 台虚拟机同步进行的分布式运算\n",
    "sc.master"
   ]
  },
  {
   "cell_type": "code",
   "execution_count": 2,
   "metadata": {},
   "outputs": [],
   "source": [
    "# 设置全局数据集的路径\n",
    "# 若 sc.master 查看显示的运行模式为 \"local\",则使用本地数据集\n",
    "# 若 sc.master 查看显示的运行模式为其他，如 \"yarn\"，\"spark://master:7077\"(Standalone模式)\n",
    "# 则选择 HDFS 上的数据集\n",
    "global Path    \n",
    "if sc.master[0:5]==\"local\" :\n",
    "   Path=\"/home/lotbear/Big-Data/\"\n",
    "else:   \n",
    "   Path=\"hdfs://master:9000/user/lotbear/data/\""
   ]
  },
  {
   "cell_type": "markdown",
   "metadata": {},
   "source": [
    "### <font color=blue>建立 RDD 数据</font>\n",
    "\n",
    "RDD 是未定义 字段名 及 数据属性的数据类型，我们只能使用位置来指定每一个字段   \n",
    "\n",
    "在数据处理上，RDD 需用 map-reduce 思想，需要有较高的编程能力   \n",
    "\n",
    "RDD 也是 Spark 功能中最强大的数据类型   "
   ]
  },
  {
   "cell_type": "code",
   "execution_count": 3,
   "metadata": {},
   "outputs": [],
   "source": [
    "# 读取文本文件,建立RDD\n",
    "rawUserData = sc.textFile(Path+\"u.user\")"
   ]
  },
  {
   "cell_type": "code",
   "execution_count": 4,
   "metadata": {},
   "outputs": [
    {
     "data": {
      "text/plain": [
       "943"
      ]
     },
     "execution_count": 4,
     "metadata": {},
     "output_type": "execute_result"
    }
   ],
   "source": [
    "rawUserData.count()"
   ]
  },
  {
   "cell_type": "code",
   "execution_count": 5,
   "metadata": {},
   "outputs": [
    {
     "data": {
      "text/plain": [
       "['1|24|M|technician|85711',\n",
       " '2|53|F|other|94043',\n",
       " '3|23|M|writer|32067',\n",
       " '4|24|M|technician|43537',\n",
       " '5|33|F|other|15213']"
      ]
     },
     "execution_count": 5,
     "metadata": {},
     "output_type": "execute_result"
    }
   ],
   "source": [
    "# 读取 rawUserData 前 5 行数据\n",
    "rawUserData.take(5)"
   ]
  },
  {
   "cell_type": "code",
   "execution_count": 6,
   "metadata": {},
   "outputs": [
    {
     "data": {
      "text/plain": [
       "[['1', '24', 'M', 'technician', '85711'],\n",
       " ['2', '53', 'F', 'other', '94043'],\n",
       " ['3', '23', 'M', 'writer', '32067'],\n",
       " ['4', '24', 'M', 'technician', '43537'],\n",
       " ['5', '33', 'F', 'other', '15213']]"
      ]
     },
     "execution_count": 6,
     "metadata": {},
     "output_type": "execute_result"
    }
   ],
   "source": [
    "userRDD =rawUserData.map(lambda line: line.split(\"|\"))\n",
    "userRDD .take(5)"
   ]
  },
  {
   "cell_type": "markdown",
   "metadata": {},
   "source": [
    "### <font color=blue>将 RDD 数据转变为 DataFrame 数据</font>\n",
    "\n",
    "Spark-DataFrame 创建时，需要定义 Schema (字段名 + 数据类型)   \n",
    "\n",
    "DataFrame API 定义了很多类似 SQL 的方法，只需具备基础编程能力即可进行数据处理   \n",
    "\n",
    "且 Spark-DataFrame 和 Pandas-DataFrame 之间可无缝转换，方便使用更丰富的工具包   "
   ]
  },
  {
   "cell_type": "code",
   "execution_count": 7,
   "metadata": {},
   "outputs": [
    {
     "data": {
      "text/plain": [
       "[Row(userid=1, age=24, gender='M', occupation='technician', zipcode='85711'),\n",
       " Row(userid=2, age=53, gender='F', occupation='other', zipcode='94043'),\n",
       " Row(userid=3, age=23, gender='M', occupation='writer', zipcode='32067'),\n",
       " Row(userid=4, age=24, gender='M', occupation='technician', zipcode='43537'),\n",
       " Row(userid=5, age=33, gender='F', occupation='other', zipcode='15213')]"
      ]
     },
     "execution_count": 7,
     "metadata": {},
     "output_type": "execute_result"
    }
   ],
   "source": [
    "# 定义 Schema (字段名 + 数据类型)\n",
    "from pyspark.sql import Row\n",
    "user_Rows = userRDD.map(lambda p:Row(userid=int(p[0]), \n",
    "                       age=int(p[1]),\n",
    "                       gender=p[2],\n",
    "                       occupation=p[3],\n",
    "                       zipcode=p[4]))\n",
    "user_Rows.take(5)"
   ]
  },
  {
   "cell_type": "code",
   "execution_count": 8,
   "metadata": {},
   "outputs": [
    {
     "name": "stdout",
     "output_type": "stream",
     "text": [
      "root\n",
      " |-- userid: long (nullable = true)\n",
      " |-- age: long (nullable = true)\n",
      " |-- gender: string (nullable = true)\n",
      " |-- occupation: string (nullable = true)\n",
      " |-- zipcode: string (nullable = true)\n",
      "\n"
     ]
    }
   ],
   "source": [
    "# 创建 DataFrame 数据\n",
    "user_df = sqlContext.createDataFrame(user_Rows)\n",
    "# 查看 Schema (字段名 + 数据类型) long 为数值型， string 为字符型\n",
    "user_df.printSchema()"
   ]
  },
  {
   "cell_type": "code",
   "execution_count": 9,
   "metadata": {},
   "outputs": [
    {
     "name": "stdout",
     "output_type": "stream",
     "text": [
      "+------+---+------+----------+-------+\n",
      "|userid|age|gender|occupation|zipcode|\n",
      "+------+---+------+----------+-------+\n",
      "|     1| 24|     M|technician|  85711|\n",
      "|     2| 53|     F|     other|  94043|\n",
      "|     3| 23|     M|    writer|  32067|\n",
      "|     4| 24|     M|technician|  43537|\n",
      "|     5| 33|     F|     other|  15213|\n",
      "+------+---+------+----------+-------+\n",
      "only showing top 5 rows\n",
      "\n"
     ]
    }
   ],
   "source": [
    "# 查看前 5 行\n",
    "user_df.show(5)"
   ]
  },
  {
   "cell_type": "code",
   "execution_count": 10,
   "metadata": {},
   "outputs": [
    {
     "name": "stdout",
     "output_type": "stream",
     "text": [
      "+------+---+------+----------+-------+\n",
      "|userid|age|gender|occupation|zipcode|\n",
      "+------+---+------+----------+-------+\n",
      "|     1| 24|     M|technician|  85711|\n",
      "|     2| 53|     F|     other|  94043|\n",
      "|     3| 23|     M|    writer|  32067|\n",
      "|     4| 24|     M|technician|  43537|\n",
      "|     5| 33|     F|     other|  15213|\n",
      "+------+---+------+----------+-------+\n",
      "only showing top 5 rows\n",
      "\n"
     ]
    }
   ],
   "source": [
    "# 使用 .alias(）方法为 DataFrame 创建别名\n",
    "df=user_df.alias(\"df\")\n",
    "df.show(5)"
   ]
  },
  {
   "cell_type": "markdown",
   "metadata": {},
   "source": [
    "### <font color=blue> 将 DataFrame 数据转变为 SQL-table 数据</font>   \n",
    "\n",
    "Spark-SQL 是由 Spark-DataFrame 派生出来的，我们必须先创建 DataFrame   \n",
    "\n",
    "然后让 DataFrame 登陆 Spark SQL tempTable，就可以使用 SQL 语句了   \n",
    "\n",
    "Spark-SQL 是最简单的数据类型，非程序设计人员也可以轻松上手      \n",
    "\n",
    "另外，SparkSession 可以同时具备 Spark context / sqlContext / HiveContext 的功能"
   ]
  },
  {
   "cell_type": "code",
   "execution_count": 11,
   "metadata": {},
   "outputs": [],
   "source": [
    "# 用 SparkSession 指令，创建 sqlContext\n",
    "sqlContext = SparkSession.builder.getOrCreate()"
   ]
  },
  {
   "cell_type": "code",
   "execution_count": 12,
   "metadata": {},
   "outputs": [],
   "source": [
    "# 让 DataFrame 登陆 Spark SQL tempTable\n",
    "# 创建临时表 user_table\n",
    "user_df.registerTempTable(\"user_table\")"
   ]
  },
  {
   "cell_type": "code",
   "execution_count": 13,
   "metadata": {},
   "outputs": [
    {
     "name": "stdout",
     "output_type": "stream",
     "text": [
      "+------+\n",
      "|counts|\n",
      "+------+\n",
      "|   943|\n",
      "+------+\n",
      "\n"
     ]
    }
   ],
   "source": [
    "# 用 Spark SQL 查看项数\n",
    "# 如果 SQL 语句过长，为方便阅读，可用 \"\"\" 三个引号多行书写\n",
    "sqlContext.sql(\" SELECT count(*) counts FROM user_table\").show()"
   ]
  },
  {
   "cell_type": "code",
   "execution_count": 14,
   "metadata": {},
   "outputs": [
    {
     "name": "stdout",
     "output_type": "stream",
     "text": [
      "+------+---+------+-------------+-------+\n",
      "|userid|age|gender|   occupation|zipcode|\n",
      "+------+---+------+-------------+-------+\n",
      "|     1| 24|     M|   technician|  85711|\n",
      "|     2| 53|     F|        other|  94043|\n",
      "|     3| 23|     M|       writer|  32067|\n",
      "|     4| 24|     M|   technician|  43537|\n",
      "|     5| 33|     F|        other|  15213|\n",
      "|     6| 42|     M|    executive|  98101|\n",
      "|     7| 57|     M|administrator|  91344|\n",
      "|     8| 36|     M|administrator|  05201|\n",
      "|     9| 29|     M|      student|  01002|\n",
      "|    10| 53|     M|       lawyer|  90703|\n",
      "+------+---+------+-------------+-------+\n",
      "only showing top 10 rows\n",
      "\n"
     ]
    }
   ],
   "source": [
    "sqlContext.sql(\" SELECT *  FROM user_table \").show(10)"
   ]
  },
  {
   "cell_type": "code",
   "execution_count": 15,
   "metadata": {},
   "outputs": [
    {
     "name": "stdout",
     "output_type": "stream",
     "text": [
      "+------+---+------+----------+-------+\n",
      "|userid|age|gender|occupation|zipcode|\n",
      "+------+---+------+----------+-------+\n",
      "|     1| 24|     M|technician|  85711|\n",
      "|     2| 53|     F|     other|  94043|\n",
      "|     3| 23|     M|    writer|  32067|\n",
      "|     4| 24|     M|technician|  43537|\n",
      "|     5| 33|     F|     other|  15213|\n",
      "+------+---+------+----------+-------+\n",
      "only showing top 5 rows\n",
      "\n"
     ]
    }
   ],
   "source": [
    "sqlContext.sql(\" SELECT *  FROM user_table\").show(5)"
   ]
  },
  {
   "cell_type": "code",
   "execution_count": 16,
   "metadata": {},
   "outputs": [
    {
     "name": "stdout",
     "output_type": "stream",
     "text": [
      "+------+---+------+----------+-------+\n",
      "|userid|age|gender|occupation|zipcode|\n",
      "+------+---+------+----------+-------+\n",
      "|     1| 24|     M|technician|  85711|\n",
      "|     2| 53|     F|     other|  94043|\n",
      "|     3| 23|     M|    writer|  32067|\n",
      "|     4| 24|     M|technician|  43537|\n",
      "|     5| 33|     F|     other|  15213|\n",
      "+------+---+------+----------+-------+\n",
      "\n"
     ]
    }
   ],
   "source": [
    "sqlContext.sql(\" SELECT *  FROM user_table LIMIT 5\").show()"
   ]
  },
  {
   "cell_type": "markdown",
   "metadata": {},
   "source": [
    "### <font color=blue>RDD / DataFrame / Spark SQL 显示部分字段</font>"
   ]
  },
  {
   "cell_type": "code",
   "execution_count": 17,
   "metadata": {},
   "outputs": [
    {
     "data": {
      "text/plain": [
       "[('1', 'technician', 'M', '24'),\n",
       " ('2', 'other', 'F', '53'),\n",
       " ('3', 'writer', 'M', '23'),\n",
       " ('4', 'technician', 'M', '24'),\n",
       " ('5', 'other', 'F', '33')]"
      ]
     },
     "execution_count": 17,
     "metadata": {},
     "output_type": "execute_result"
    }
   ],
   "source": [
    "# RDD 操作\n",
    "userRDDnew= userRDD.map(lambda x: (x[0],x[3],x[2] ,x[1]) )\n",
    "userRDDnew.take(5)"
   ]
  },
  {
   "cell_type": "code",
   "execution_count": 18,
   "metadata": {},
   "outputs": [
    {
     "name": "stdout",
     "output_type": "stream",
     "text": [
      "+------+----------+------+---+\n",
      "|userid|occupation|gender|age|\n",
      "+------+----------+------+---+\n",
      "|     1|technician|     M| 24|\n",
      "|     2|     other|     F| 53|\n",
      "|     3|    writer|     M| 23|\n",
      "|     4|technician|     M| 24|\n",
      "|     5|     other|     F| 33|\n",
      "+------+----------+------+---+\n",
      "only showing top 5 rows\n",
      "\n"
     ]
    }
   ],
   "source": [
    "# DataFrame 操作\n",
    "user_df.select(\"userid\",\"occupation\",\"gender\",\"age\").show(5)"
   ]
  },
  {
   "cell_type": "code",
   "execution_count": 19,
   "metadata": {},
   "outputs": [
    {
     "name": "stdout",
     "output_type": "stream",
     "text": [
      "+------+----------+------+---+\n",
      "|userid|occupation|gender|age|\n",
      "+------+----------+------+---+\n",
      "|     1|technician|     M| 24|\n",
      "|     2|     other|     F| 53|\n",
      "|     3|    writer|     M| 23|\n",
      "|     4|technician|     M| 24|\n",
      "|     5|     other|     F| 33|\n",
      "+------+----------+------+---+\n",
      "only showing top 5 rows\n",
      "\n"
     ]
    }
   ],
   "source": [
    "df.select(df.userid,df.occupation,df.gender,df.age  ).show(5)"
   ]
  },
  {
   "cell_type": "code",
   "execution_count": 20,
   "metadata": {},
   "outputs": [
    {
     "name": "stdout",
     "output_type": "stream",
     "text": [
      "+------+----------+------+---+\n",
      "|userid|occupation|gender|age|\n",
      "+------+----------+------+---+\n",
      "|     1|technician|     M| 24|\n",
      "|     2|     other|     F| 53|\n",
      "|     3|    writer|     M| 23|\n",
      "|     4|technician|     M| 24|\n",
      "|     5|     other|     F| 33|\n",
      "+------+----------+------+---+\n",
      "only showing top 5 rows\n",
      "\n"
     ]
    }
   ],
   "source": [
    "df[df['userid'],df['occupation'],df['gender'],df['age']  ].show(5)"
   ]
  },
  {
   "cell_type": "code",
   "execution_count": 21,
   "metadata": {},
   "outputs": [
    {
     "name": "stdout",
     "output_type": "stream",
     "text": [
      "+------+----------+------+---+\n",
      "|userid|occupation|gender|age|\n",
      "+------+----------+------+---+\n",
      "|     1|technician|     M| 24|\n",
      "|     2|     other|     F| 53|\n",
      "|     3|    writer|     M| 23|\n",
      "|     4|technician|     M| 24|\n",
      "|     5|     other|     F| 33|\n",
      "+------+----------+------+---+\n",
      "only showing top 5 rows\n",
      "\n"
     ]
    }
   ],
   "source": [
    "# SQL 操作\n",
    "sqlContext.sql(\" SELECT userid,occupation,gender,age  FROM user_table\").show(5)"
   ]
  },
  {
   "cell_type": "markdown",
   "metadata": {},
   "source": [
    "### <font color=blue>RDD / DataFrame / Spark SQL 增加计算字段</font>"
   ]
  },
  {
   "cell_type": "markdown",
   "metadata": {},
   "source": [
    "数据中，我们只知道今年用户的年龄 age   \n",
    "\n",
    "如果我们想知道用户的出生年份，只需增加字段 2021- int(x[1])"
   ]
  },
  {
   "cell_type": "code",
   "execution_count": 22,
   "metadata": {},
   "outputs": [
    {
     "data": {
      "text/plain": [
       "[('1', 'technician', 'M', '24', 1997),\n",
       " ('2', 'other', 'F', '53', 1968),\n",
       " ('3', 'writer', 'M', '23', 1998),\n",
       " ('4', 'technician', 'M', '24', 1997),\n",
       " ('5', 'other', 'F', '33', 1988)]"
      ]
     },
     "execution_count": 22,
     "metadata": {},
     "output_type": "execute_result"
    }
   ],
   "source": [
    "# RDD 操作\n",
    "userRDDnew= userRDD.map(lambda x: (x[0],x[3],x[2],x[1] ,2021-int(x[1])) )\n",
    "userRDDnew.take(5)"
   ]
  },
  {
   "cell_type": "code",
   "execution_count": 23,
   "metadata": {},
   "outputs": [
    {
     "name": "stdout",
     "output_type": "stream",
     "text": [
      "+------+----------+------+---+------------+\n",
      "|userid|occupation|gender|age|(2021 - age)|\n",
      "+------+----------+------+---+------------+\n",
      "|     1|technician|     M| 24|        1997|\n",
      "|     2|     other|     F| 53|        1968|\n",
      "|     3|    writer|     M| 23|        1998|\n",
      "|     4|technician|     M| 24|        1997|\n",
      "|     5|     other|     F| 33|        1988|\n",
      "+------+----------+------+---+------------+\n",
      "only showing top 5 rows\n",
      "\n"
     ]
    }
   ],
   "source": [
    "# DataFrame 操作\n",
    "df.select(\"userid\",\"occupation\",\"gender\",\"age\",2021-df.age).show(5)"
   ]
  },
  {
   "cell_type": "code",
   "execution_count": 24,
   "metadata": {},
   "outputs": [
    {
     "name": "stdout",
     "output_type": "stream",
     "text": [
      "+------+----------+------+---+---------+\n",
      "|userid|occupation|gender|age|birthyear|\n",
      "+------+----------+------+---+---------+\n",
      "|     1|technician|     M| 24|     1997|\n",
      "|     2|     other|     F| 53|     1968|\n",
      "|     3|    writer|     M| 23|     1998|\n",
      "|     4|technician|     M| 24|     1997|\n",
      "|     5|     other|     F| 33|     1988|\n",
      "+------+----------+------+---+---------+\n",
      "only showing top 5 rows\n",
      "\n"
     ]
    }
   ],
   "source": [
    "df.select(\"userid\",\"occupation\",\"gender\",\"age\",(2021-df.age).alias(\"birthyear\")).show(5)"
   ]
  },
  {
   "cell_type": "code",
   "execution_count": 25,
   "metadata": {},
   "outputs": [
    {
     "name": "stdout",
     "output_type": "stream",
     "text": [
      "+------+----------+------+---+---------+\n",
      "|userid|occupation|gender|age|birthyear|\n",
      "+------+----------+------+---+---------+\n",
      "|     1|technician|     M| 24|     1992|\n",
      "|     2|     other|     F| 53|     1963|\n",
      "|     3|    writer|     M| 23|     1993|\n",
      "|     4|technician|     M| 24|     1992|\n",
      "|     5|     other|     F| 33|     1983|\n",
      "+------+----------+------+---+---------+\n",
      "only showing top 5 rows\n",
      "\n"
     ]
    }
   ],
   "source": [
    "sqlContext.sql(\"\"\"\n",
    "SELECT userid,occupation,gender,age,2016-age birthyear \n",
    "FROM user_table\"\"\").show(5)"
   ]
  },
  {
   "cell_type": "markdown",
   "metadata": {},
   "source": [
    "### <font color=blue>RDD / DataFrame / Spark SQL 筛选数据</font>"
   ]
  },
  {
   "cell_type": "code",
   "execution_count": 26,
   "metadata": {},
   "outputs": [
    {
     "data": {
      "text/plain": [
       "[['1', '24', 'M', 'technician', '85711'],\n",
       " ['4', '24', 'M', 'technician', '43537'],\n",
       " ['456', '24', 'M', 'technician', '31820'],\n",
       " ['717', '24', 'M', 'technician', '84105'],\n",
       " ['832', '24', 'M', 'technician', '77042'],\n",
       " ['889', '24', 'M', 'technician', '78704']]"
      ]
     },
     "execution_count": 26,
     "metadata": {},
     "output_type": "execute_result"
    }
   ],
   "source": [
    "# RDD 操作\n",
    "userRDD.filter(lambda r:r[3]=='technician' and r[2]=='M' and r[1]=='24').take(6)    "
   ]
  },
  {
   "cell_type": "code",
   "execution_count": 27,
   "metadata": {},
   "outputs": [
    {
     "name": "stdout",
     "output_type": "stream",
     "text": [
      "+------+---+------+----------+-------+\n",
      "|userid|age|gender|occupation|zipcode|\n",
      "+------+---+------+----------+-------+\n",
      "|     1| 24|     M|technician|  85711|\n",
      "|     4| 24|     M|technician|  43537|\n",
      "|   456| 24|     M|technician|  31820|\n",
      "|   717| 24|     M|technician|  84105|\n",
      "|   832| 24|     M|technician|  77042|\n",
      "|   889| 24|     M|technician|  78704|\n",
      "+------+---+------+----------+-------+\n",
      "\n"
     ]
    }
   ],
   "source": [
    "# DataFrame 操作\n",
    "user_df.filter(\"occupation='technician'\").filter(\"gender='M' \").filter(\"age=24\").show()"
   ]
  },
  {
   "cell_type": "code",
   "execution_count": 28,
   "metadata": {},
   "outputs": [
    {
     "name": "stdout",
     "output_type": "stream",
     "text": [
      "+------+---+------+----------+-------+\n",
      "|userid|age|gender|occupation|zipcode|\n",
      "+------+---+------+----------+-------+\n",
      "|     1| 24|     M|technician|  85711|\n",
      "|     4| 24|     M|technician|  43537|\n",
      "|   456| 24|     M|technician|  31820|\n",
      "|   717| 24|     M|technician|  84105|\n",
      "|   832| 24|     M|technician|  77042|\n",
      "|   889| 24|     M|technician|  78704|\n",
      "+------+---+------+----------+-------+\n",
      "\n"
     ]
    }
   ],
   "source": [
    "user_df.filter(\"occupation='technician' and gender='M' and age=24\").show()"
   ]
  },
  {
   "cell_type": "code",
   "execution_count": 29,
   "metadata": {},
   "outputs": [
    {
     "name": "stdout",
     "output_type": "stream",
     "text": [
      "+------+---+------+----------+-------+\n",
      "|userid|age|gender|occupation|zipcode|\n",
      "+------+---+------+----------+-------+\n",
      "|     1| 24|     M|technician|  85711|\n",
      "|     4| 24|     M|technician|  43537|\n",
      "|   456| 24|     M|technician|  31820|\n",
      "|   717| 24|     M|technician|  84105|\n",
      "|   832| 24|     M|technician|  77042|\n",
      "|   889| 24|     M|technician|  78704|\n",
      "+------+---+------+----------+-------+\n",
      "\n"
     ]
    }
   ],
   "source": [
    "df.filter((df.occupation=='technician' ) & (df.gender=='M' ) & (df.age==24)).show()"
   ]
  },
  {
   "cell_type": "code",
   "execution_count": 30,
   "metadata": {},
   "outputs": [
    {
     "name": "stdout",
     "output_type": "stream",
     "text": [
      "+------+---+------+----------+-------+\n",
      "|userid|age|gender|occupation|zipcode|\n",
      "+------+---+------+----------+-------+\n",
      "|     1| 24|     M|technician|  85711|\n",
      "|     4| 24|     M|technician|  43537|\n",
      "|   456| 24|     M|technician|  31820|\n",
      "|   717| 24|     M|technician|  84105|\n",
      "|   832| 24|     M|technician|  77042|\n",
      "|   889| 24|     M|technician|  78704|\n",
      "+------+---+------+----------+-------+\n",
      "\n"
     ]
    }
   ],
   "source": [
    "df.filter((df['occupation']=='technician' ) & (df['gender']=='M' ) & (df['age']==24)).show()"
   ]
  },
  {
   "cell_type": "code",
   "execution_count": 31,
   "metadata": {},
   "outputs": [
    {
     "name": "stdout",
     "output_type": "stream",
     "text": [
      "+------+---+------+----------+-------+\n",
      "|userid|age|gender|occupation|zipcode|\n",
      "+------+---+------+----------+-------+\n",
      "|     1| 24|     M|technician|  85711|\n",
      "|     4| 24|     M|technician|  43537|\n",
      "|   456| 24|     M|technician|  31820|\n",
      "|   717| 24|     M|technician|  84105|\n",
      "|   832| 24|     M|technician|  77042|\n",
      "+------+---+------+----------+-------+\n",
      "only showing top 5 rows\n",
      "\n"
     ]
    }
   ],
   "source": [
    "# Spark SQL 操作\n",
    "sqlContext.sql('''SELECT * FROM user_table \n",
    "where occupation='technician' and   gender='M' and age=24''').show(5)"
   ]
  },
  {
   "cell_type": "markdown",
   "metadata": {},
   "source": [
    "### <font color=blue>RDD / DataFrame / Spark SQL 单个字段排序数据</font>"
   ]
  },
  {
   "cell_type": "code",
   "execution_count": 32,
   "metadata": {},
   "outputs": [
    {
     "data": {
      "text/plain": [
       "[['30', '7', 'M', 'student', '55436'],\n",
       " ['471', '10', 'M', 'student', '77459'],\n",
       " ['289', '11', 'M', 'none', '94619'],\n",
       " ['142', '13', 'M', 'other', '48118'],\n",
       " ['609', '13', 'F', 'student', '55106']]"
      ]
     },
     "execution_count": 32,
     "metadata": {},
     "output_type": "execute_result"
    }
   ],
   "source": [
    "# RDD 以年龄为指标，正排序\n",
    "userRDD.takeOrdered(5, key = lambda x: int(x[1]))"
   ]
  },
  {
   "cell_type": "code",
   "execution_count": 33,
   "metadata": {},
   "outputs": [
    {
     "data": {
      "text/plain": [
       "[['481', '73', 'M', 'retired', '37771'],\n",
       " ['767', '70', 'M', 'engineer', '00000'],\n",
       " ['803', '70', 'M', 'administrator', '78212'],\n",
       " ['860', '70', 'F', 'retired', '48322'],\n",
       " ['559', '69', 'M', 'executive', '10022']]"
      ]
     },
     "execution_count": 33,
     "metadata": {},
     "output_type": "execute_result"
    }
   ],
   "source": [
    "# RDD 以年龄为指标，倒排序\n",
    "userRDD.takeOrdered(5, key = lambda x: -1*int(x[1]))"
   ]
  },
  {
   "cell_type": "code",
   "execution_count": 34,
   "metadata": {},
   "outputs": [
    {
     "name": "stdout",
     "output_type": "stream",
     "text": [
      "+------+----------+------+---+\n",
      "|userid|occupation|gender|age|\n",
      "+------+----------+------+---+\n",
      "|    30|   student|     M|  7|\n",
      "|   471|   student|     M| 10|\n",
      "|   289|      none|     M| 11|\n",
      "|   880|   student|     M| 13|\n",
      "|   628|      none|     M| 13|\n",
      "+------+----------+------+---+\n",
      "only showing top 5 rows\n",
      "\n"
     ]
    }
   ],
   "source": [
    "# DataFrame 以年龄为指标，正排序\n",
    "df.select(\"userid\",\"occupation\",\"gender\",\"age\").orderBy(df.age).show(5)"
   ]
  },
  {
   "cell_type": "code",
   "execution_count": 35,
   "metadata": {},
   "outputs": [
    {
     "name": "stdout",
     "output_type": "stream",
     "text": [
      "+------+-------------+------+---+\n",
      "|userid|   occupation|gender|age|\n",
      "+------+-------------+------+---+\n",
      "|   481|      retired|     M| 73|\n",
      "|   860|      retired|     F| 70|\n",
      "|   767|     engineer|     M| 70|\n",
      "|   803|administrator|     M| 70|\n",
      "|   559|    executive|     M| 69|\n",
      "+------+-------------+------+---+\n",
      "only showing top 5 rows\n",
      "\n"
     ]
    }
   ],
   "source": [
    "# DataFrame 以年龄为指标，倒排序\n",
    "df.select(\"userid\",\"occupation\",\"gender\",\"age\").orderBy(\"age\",ascending=0).show(5)"
   ]
  },
  {
   "cell_type": "code",
   "execution_count": 36,
   "metadata": {},
   "outputs": [
    {
     "name": "stdout",
     "output_type": "stream",
     "text": [
      "+------+-------------+------+---+\n",
      "|userid|   occupation|gender|age|\n",
      "+------+-------------+------+---+\n",
      "|   481|      retired|     M| 73|\n",
      "|   860|      retired|     F| 70|\n",
      "|   767|     engineer|     M| 70|\n",
      "|   803|administrator|     M| 70|\n",
      "|   559|    executive|     M| 69|\n",
      "+------+-------------+------+---+\n",
      "only showing top 5 rows\n",
      "\n"
     ]
    }
   ],
   "source": [
    "df.select(\"userid\",\"occupation\",\"gender\",\"age\").orderBy(df.age.desc()).show(5)"
   ]
  },
  {
   "cell_type": "code",
   "execution_count": 37,
   "metadata": {},
   "outputs": [
    {
     "name": "stdout",
     "output_type": "stream",
     "text": [
      "+------+----------+------+---+\n",
      "|userid|occupation|gender|age|\n",
      "+------+----------+------+---+\n",
      "|    30|   student|     M|  7|\n",
      "|   471|   student|     M| 10|\n",
      "|   289|      none|     M| 11|\n",
      "|   142|     other|     M| 13|\n",
      "|   609|   student|     F| 13|\n",
      "+------+----------+------+---+\n",
      "only showing top 5 rows\n",
      "\n"
     ]
    }
   ],
   "source": [
    "# SQL 以年龄为指标，正排序\n",
    "sqlContext.sql(\"\"\"SELECT userid,occupation,gender,age   \n",
    "               FROM user_table \n",
    "               ORDER BY age\"\"\").show(5)"
   ]
  },
  {
   "cell_type": "code",
   "execution_count": 38,
   "metadata": {},
   "outputs": [
    {
     "name": "stdout",
     "output_type": "stream",
     "text": [
      "+------+-------------+------+---+\n",
      "|userid|   occupation|gender|age|\n",
      "+------+-------------+------+---+\n",
      "|   481|      retired|     M| 73|\n",
      "|   860|      retired|     F| 70|\n",
      "|   767|     engineer|     M| 70|\n",
      "|   803|administrator|     M| 70|\n",
      "|   559|    executive|     M| 69|\n",
      "+------+-------------+------+---+\n",
      "only showing top 5 rows\n",
      "\n"
     ]
    }
   ],
   "source": [
    "# SQL 以年龄为指标，倒排序\n",
    "sqlContext.sql(\"\"\"SELECT userid,occupation,gender,age   \n",
    "               FROM user_table \n",
    "               ORDER BY age DESC\"\"\").show(5)"
   ]
  },
  {
   "cell_type": "markdown",
   "metadata": {},
   "source": [
    "### <font color=blue>RDD / DataFrame / Spark SQL 多字段排序数据</font>"
   ]
  },
  {
   "cell_type": "code",
   "execution_count": 39,
   "metadata": {},
   "outputs": [
    {
     "data": {
      "text/plain": [
       "[['481', '73', 'M', 'retired', '37771'],\n",
       " ['860', '70', 'F', 'retired', '48322'],\n",
       " ['767', '70', 'M', 'engineer', '00000'],\n",
       " ['803', '70', 'M', 'administrator', '78212'],\n",
       " ['559', '69', 'M', 'executive', '10022']]"
      ]
     },
     "execution_count": 39,
     "metadata": {},
     "output_type": "execute_result"
    }
   ],
   "source": [
    "# RDD 以年龄 age 为指标，倒排序，以性别 gender 为指标，正排序\n",
    "# 即：先以年龄为指标排序，再以性别为指标排序\n",
    "# 其中，性别字母顺序 F < M\n",
    "userRDD.takeOrdered(5, key = lambda x: (-int(x[1]), x[2] ) )"
   ]
  },
  {
   "cell_type": "code",
   "execution_count": 40,
   "metadata": {},
   "outputs": [
    {
     "name": "stdout",
     "output_type": "stream",
     "text": [
      "+------+---+------+-------------+-------+\n",
      "|userid|age|gender|   occupation|zipcode|\n",
      "+------+---+------+-------------+-------+\n",
      "|   481| 73|     M|      retired|  37771|\n",
      "|   860| 70|     F|      retired|  48322|\n",
      "|   803| 70|     M|administrator|  78212|\n",
      "|   767| 70|     M|     engineer|  00000|\n",
      "|   559| 69|     M|    executive|  10022|\n",
      "+------+---+------+-------------+-------+\n",
      "only showing top 5 rows\n",
      "\n"
     ]
    }
   ],
   "source": [
    "# DataFrame 以年龄 age 为指标，倒排序，以性别 gender 为指标，正排序\n",
    "df.orderBy([\"age\",\"gender\"],ascending=[0,1] ).show(5)"
   ]
  },
  {
   "cell_type": "code",
   "execution_count": 41,
   "metadata": {},
   "outputs": [
    {
     "name": "stdout",
     "output_type": "stream",
     "text": [
      "+------+---+------+-------------+-------+\n",
      "|userid|age|gender|   occupation|zipcode|\n",
      "+------+---+------+-------------+-------+\n",
      "|   481| 73|     M|      retired|  37771|\n",
      "|   860| 70|     F|      retired|  48322|\n",
      "|   803| 70|     M|administrator|  78212|\n",
      "|   767| 70|     M|     engineer|  00000|\n",
      "|   559| 69|     M|    executive|  10022|\n",
      "+------+---+------+-------------+-------+\n",
      "only showing top 5 rows\n",
      "\n"
     ]
    }
   ],
   "source": [
    "df.orderBy(df.age.desc(),df.gender ).show(5)"
   ]
  },
  {
   "cell_type": "code",
   "execution_count": 42,
   "metadata": {},
   "outputs": [
    {
     "name": "stdout",
     "output_type": "stream",
     "text": [
      "+------+---+------+-------------+-------+\n",
      "|userid|age|gender|   occupation|zipcode|\n",
      "+------+---+------+-------------+-------+\n",
      "|   481| 73|     M|      retired|  37771|\n",
      "|   860| 70|     F|      retired|  48322|\n",
      "|   803| 70|     M|administrator|  78212|\n",
      "|   767| 70|     M|     engineer|  00000|\n",
      "|   559| 69|     M|    executive|  10022|\n",
      "+------+---+------+-------------+-------+\n",
      "only showing top 5 rows\n",
      "\n"
     ]
    }
   ],
   "source": [
    "# SQL 以年龄 age 为指标，倒排序，以性别 gender 为指标，正排序\n",
    "sqlContext.sql(\"\"\"SELECT userid, age, gender,occupation,zipcode\n",
    "               FROM user_table\n",
    "               ORDER BY age DESC,gender \"\"\").show(5)"
   ]
  },
  {
   "cell_type": "markdown",
   "metadata": {},
   "source": [
    "### <font color=blue>RDD / DataFrame / Spark SQL 显示不重复数据</font>"
   ]
  },
  {
   "cell_type": "code",
   "execution_count": 43,
   "metadata": {},
   "outputs": [
    {
     "data": {
      "text/plain": [
       "['M', 'F']"
      ]
     },
     "execution_count": 43,
     "metadata": {},
     "output_type": "execute_result"
    }
   ],
   "source": [
    "# RDD 单一字段不重复\n",
    "userRDD.map( lambda x:x[2] ).distinct().collect()"
   ]
  },
  {
   "cell_type": "code",
   "execution_count": 44,
   "metadata": {},
   "outputs": [
    {
     "data": {
      "text/plain": [
       "[('23', 'M'),\n",
       " ('42', 'M'),\n",
       " ('36', 'M'),\n",
       " ('39', 'F'),\n",
       " ('28', 'F'),\n",
       " ('47', 'M'),\n",
       " ('49', 'F'),\n",
       " ('30', 'M'),\n",
       " ('35', 'F'),\n",
       " ('42', 'F')]"
      ]
     },
     "execution_count": 44,
     "metadata": {},
     "output_type": "execute_result"
    }
   ],
   "source": [
    "# RDD 多字段不重复\n",
    "userRDD.map( lambda x:(x[1],x[2]) ).distinct().take(10)"
   ]
  },
  {
   "cell_type": "code",
   "execution_count": 45,
   "metadata": {},
   "outputs": [
    {
     "name": "stdout",
     "output_type": "stream",
     "text": [
      "+------+\n",
      "|gender|\n",
      "+------+\n",
      "|     F|\n",
      "|     M|\n",
      "+------+\n",
      "\n"
     ]
    }
   ],
   "source": [
    "# DataFrame 单一字段不重复\n",
    "user_df.select(\"gender\").distinct().show()"
   ]
  },
  {
   "cell_type": "code",
   "execution_count": 46,
   "metadata": {},
   "outputs": [
    {
     "name": "stdout",
     "output_type": "stream",
     "text": [
      "+---+------+\n",
      "|age|gender|\n",
      "+---+------+\n",
      "| 39|     F|\n",
      "| 48|     M|\n",
      "| 26|     M|\n",
      "| 28|     M|\n",
      "| 54|     M|\n",
      "| 60|     M|\n",
      "| 50|     M|\n",
      "| 53|     F|\n",
      "| 30|     M|\n",
      "| 48|     F|\n",
      "+---+------+\n",
      "only showing top 10 rows\n",
      "\n"
     ]
    }
   ],
   "source": [
    "# DataFrame 多字段不重复\n",
    "user_df.select(\"age\",\"gender\").distinct().show(10)"
   ]
  },
  {
   "cell_type": "code",
   "execution_count": 47,
   "metadata": {},
   "outputs": [
    {
     "name": "stdout",
     "output_type": "stream",
     "text": [
      "+------+\n",
      "|gender|\n",
      "+------+\n",
      "|     F|\n",
      "|     M|\n",
      "+------+\n",
      "\n"
     ]
    }
   ],
   "source": [
    "# SQL 单一字段不重复\n",
    "sqlContext.sql(\" SELECT distinct gender FROM user_table\").show()"
   ]
  },
  {
   "cell_type": "code",
   "execution_count": 48,
   "metadata": {},
   "outputs": [
    {
     "name": "stdout",
     "output_type": "stream",
     "text": [
      "+---+------+\n",
      "|age|gender|\n",
      "+---+------+\n",
      "| 39|     F|\n",
      "| 48|     M|\n",
      "| 26|     M|\n",
      "| 28|     M|\n",
      "| 54|     M|\n",
      "| 60|     M|\n",
      "| 50|     M|\n",
      "| 53|     F|\n",
      "| 30|     M|\n",
      "| 48|     F|\n",
      "+---+------+\n",
      "only showing top 10 rows\n",
      "\n"
     ]
    }
   ],
   "source": [
    "# SQL 多字段不重复\n",
    "sqlContext.sql(\" SELECT distinct age,gender  FROM user_table\").show(10)"
   ]
  },
  {
   "cell_type": "markdown",
   "metadata": {},
   "source": [
    "### <font color=blue>RDD / DataFrame / Spark SQL 分组统计数据</font>"
   ]
  },
  {
   "cell_type": "code",
   "execution_count": 49,
   "metadata": {},
   "outputs": [
    {
     "data": {
      "text/plain": [
       "[('M', 670), ('F', 273)]"
      ]
     },
     "execution_count": 49,
     "metadata": {},
     "output_type": "execute_result"
    }
   ],
   "source": [
    "# RDD 需要 map-reduce 动作\n",
    "# lambda x: (x[2],1)) 使变量取值为 1\n",
    "# lambda x,y:x+y 为求和公式\n",
    "userRDD.map(lambda x: (x[2],1)) \\\n",
    "               .reduceByKey(lambda x,y:x+y).collect()"
   ]
  },
  {
   "cell_type": "code",
   "execution_count": 50,
   "metadata": {},
   "outputs": [
    {
     "data": {
      "text/plain": [
       "[(('M', 'technician'), 26),\n",
       " (('M', 'writer'), 26),\n",
       " (('M', 'lawyer'), 10),\n",
       " (('M', 'scientist'), 28),\n",
       " (('M', 'entertainment'), 16),\n",
       " (('M', 'librarian'), 22),\n",
       " (('F', 'librarian'), 29),\n",
       " (('F', 'marketing'), 10),\n",
       " (('M', 'marketing'), 16),\n",
       " (('M', 'healthcare'), 5)]"
      ]
     },
     "execution_count": 50,
     "metadata": {},
     "output_type": "execute_result"
    }
   ],
   "source": [
    "# RDD 多变量统计求和\n",
    "userRDD.map(lambda x: ((x[2],x[3]),1)).reduceByKey(lambda x,y: x+y).take(10)"
   ]
  },
  {
   "cell_type": "code",
   "execution_count": 51,
   "metadata": {},
   "outputs": [
    {
     "name": "stdout",
     "output_type": "stream",
     "text": [
      "+------+-----+\n",
      "|gender|count|\n",
      "+------+-----+\n",
      "|     F|  273|\n",
      "|     M|  670|\n",
      "+------+-----+\n",
      "\n"
     ]
    }
   ],
   "source": [
    "# DataFrame 单变量统计求和\n",
    "user_df.select(\"gender\").groupby(\"gender\").count().show()  "
   ]
  },
  {
   "cell_type": "code",
   "execution_count": 52,
   "metadata": {},
   "outputs": [
    {
     "name": "stdout",
     "output_type": "stream",
     "text": [
      "+------+-------------+-----+\n",
      "|gender|   occupation|count|\n",
      "+------+-------------+-----+\n",
      "|     F|administrator|   36|\n",
      "|     F|       artist|   13|\n",
      "|     F|     educator|   26|\n",
      "|     F|     engineer|    2|\n",
      "|     F|entertainment|    2|\n",
      "|     F|    executive|    3|\n",
      "|     F|   healthcare|   11|\n",
      "|     F|    homemaker|    6|\n",
      "|     F|       lawyer|    2|\n",
      "|     F|    librarian|   29|\n",
      "+------+-------------+-----+\n",
      "only showing top 10 rows\n",
      "\n"
     ]
    }
   ],
   "source": [
    "# DataFrame 多变量统计求和\n",
    "user_df.select(\"gender\",\"occupation\").\\\n",
    "                groupby(\"gender\",\"occupation\").count().\\\n",
    "                orderBy(\"gender\",\"occupation\").show(10)"
   ]
  },
  {
   "cell_type": "code",
   "execution_count": 53,
   "metadata": {},
   "outputs": [
    {
     "name": "stdout",
     "output_type": "stream",
     "text": [
      "+-----------------+---+---+\n",
      "|occupation_gender|  F|  M|\n",
      "+-----------------+---+---+\n",
      "|        scientist|  3| 28|\n",
      "|          student| 60|136|\n",
      "|           writer| 19| 26|\n",
      "|         salesman|  3|  9|\n",
      "|          retired|  1| 13|\n",
      "|    administrator| 36| 43|\n",
      "|       programmer|  6| 60|\n",
      "|           doctor|  0|  7|\n",
      "|        homemaker|  6|  1|\n",
      "|        executive|  3| 29|\n",
      "+-----------------+---+---+\n",
      "only showing top 10 rows\n",
      "\n"
     ]
    }
   ],
   "source": [
    "# DataFrame 多变量统计数据\n",
    "user_df.stat.crosstab(\"occupation\",\"gender\" ).show(10)"
   ]
  },
  {
   "cell_type": "code",
   "execution_count": 54,
   "metadata": {},
   "outputs": [
    {
     "name": "stdout",
     "output_type": "stream",
     "text": [
      "+-------+-----------------+-----------------+------+-------------+------------------+\n",
      "|summary|           userid|              age|gender|   occupation|           zipcode|\n",
      "+-------+-----------------+-----------------+------+-------------+------------------+\n",
      "|  count|              943|              943|   943|          943|               943|\n",
      "|   mean|            472.0|34.05196182396607|  null|         null| 50868.78810810811|\n",
      "| stddev|272.3649512449549|12.19273973305903|  null|         null|30891.373254138158|\n",
      "|    min|                1|                7|     F|administrator|             00000|\n",
      "|    max|              943|               73|     M|       writer|             Y1A6B|\n",
      "+-------+-----------------+-----------------+------+-------------+------------------+\n",
      "\n"
     ]
    }
   ],
   "source": [
    "# DataFrame 统计性分析\n",
    "user_df.describe().show()"
   ]
  },
  {
   "cell_type": "code",
   "execution_count": 55,
   "metadata": {},
   "outputs": [
    {
     "name": "stdout",
     "output_type": "stream",
     "text": [
      "+------+------+\n",
      "|gender|counts|\n",
      "+------+------+\n",
      "|     F|   273|\n",
      "|     M|   670|\n",
      "+------+------+\n",
      "\n"
     ]
    }
   ],
   "source": [
    "# SQL 单变量统计求和\n",
    "sqlContext.sql(\"\"\" SELECT gender ,count(*)  counts  \n",
    "               FROM   user_table \n",
    "               GROUP BY gender\"\"\").show()"
   ]
  },
  {
   "cell_type": "code",
   "execution_count": 56,
   "metadata": {},
   "outputs": [
    {
     "name": "stdout",
     "output_type": "stream",
     "text": [
      "+------+-------------+------+\n",
      "|gender|   occupation|counts|\n",
      "+------+-------------+------+\n",
      "|     M|    executive|    29|\n",
      "|     M|     educator|    69|\n",
      "|     F|         none|     4|\n",
      "|     F|entertainment|     2|\n",
      "|     F|      retired|     1|\n",
      "|     F|       artist|    13|\n",
      "|     F|    librarian|    29|\n",
      "|     F|     engineer|     2|\n",
      "|     F|   healthcare|    11|\n",
      "|     F|administrator|    36|\n",
      "+------+-------------+------+\n",
      "only showing top 10 rows\n",
      "\n"
     ]
    }
   ],
   "source": [
    "# SQL 多变量统计求和\n",
    "sqlContext.sql(\"\"\" SELECT gender,occupation,count(*) counts  \n",
    "               FROM   user_table \n",
    "               GROUP BY gender,occupation \"\"\").show(10)"
   ]
  },
  {
   "cell_type": "markdown",
   "metadata": {},
   "source": [
    "### <font color=blue>Join关联数据 >>> ZipCode</font>"
   ]
  },
  {
   "cell_type": "markdown",
   "metadata": {},
   "source": [
    "user_table 有 Zipcode 字段，但该字段为用户所在 “州” 的编码   \n",
    "\n",
    "为显示用户所在州名，我们需要将其与另一份 “州名编码” 数据进行关联"
   ]
  },
  {
   "cell_type": "code",
   "execution_count": 57,
   "metadata": {},
   "outputs": [
    {
     "data": {
      "text/plain": [
       "['\"Zipcode\",\"ZipCodeType\",\"City\",\"State\",\"LocationType\",\"Lat\",\"Long\",\"Location\",\"Decommisioned\",\"TaxReturnsFiled\",\"EstimatedPopulation\",\"TotalWages\"',\n",
       " '\"00705\",\"STANDARD\",\"AIBONITO\",\"PR\",\"PRIMARY\",18.14,-66.26,\"NA-US-PR-AIBONITO\",\"false\",,,']"
      ]
     },
     "execution_count": 57,
     "metadata": {},
     "output_type": "execute_result"
    }
   ],
   "source": [
    "# 读取 “州名编码”--> zipcode-database 数据\n",
    "rawDataWithHeader = sc.textFile(Path+\"free-zipcode-database-Primary.csv\")\n",
    "# 显示前 2 行\n",
    "rawDataWithHeader.take(2)"
   ]
  },
  {
   "cell_type": "code",
   "execution_count": 58,
   "metadata": {},
   "outputs": [
    {
     "data": {
      "text/plain": [
       "'\"00705\",\"STANDARD\",\"AIBONITO\",\"PR\",\"PRIMARY\",18.14,-66.26,\"NA-US-PR-AIBONITO\",\"false\",,,'"
      ]
     },
     "execution_count": 58,
     "metadata": {},
     "output_type": "execute_result"
    }
   ],
   "source": [
    "# 删首行 “表头”\n",
    "header = rawDataWithHeader.first()\n",
    "rawData = rawDataWithHeader.filter(lambda x:x !=header)\n",
    "rawData.first()"
   ]
  },
  {
   "cell_type": "code",
   "execution_count": 59,
   "metadata": {},
   "outputs": [
    {
     "data": {
      "text/plain": [
       "'00705,STANDARD,AIBONITO,PR,PRIMARY,18.14,-66.26,NA-US-PR-AIBONITO,false,,,'"
      ]
     },
     "execution_count": 59,
     "metadata": {},
     "output_type": "execute_result"
    }
   ],
   "source": [
    "# 删除 引号\n",
    "rData=rawData.map(lambda x: x.replace(\"\\\"\", \"\"))   \n",
    "rData.first()"
   ]
  },
  {
   "cell_type": "code",
   "execution_count": 60,
   "metadata": {},
   "outputs": [
    {
     "data": {
      "text/plain": [
       "['00705',\n",
       " 'STANDARD',\n",
       " 'AIBONITO',\n",
       " 'PR',\n",
       " 'PRIMARY',\n",
       " '18.14',\n",
       " '-66.26',\n",
       " 'NA-US-PR-AIBONITO',\n",
       " 'false',\n",
       " '',\n",
       " '',\n",
       " '']"
      ]
     },
     "execution_count": 60,
     "metadata": {},
     "output_type": "execute_result"
    }
   ],
   "source": [
    "# 用分隔符 获取每个字段数据\n",
    "ZipRDD = rData.map(lambda x: x.split(\",\"))\n",
    "ZipRDD.first()"
   ]
  },
  {
   "cell_type": "markdown",
   "metadata": {},
   "source": [
    "### <font color=blue>将 RDD 数据转变为 DataFrame 数据 </font>"
   ]
  },
  {
   "cell_type": "code",
   "execution_count": 61,
   "metadata": {},
   "outputs": [
    {
     "data": {
      "text/plain": [
       "pyspark.rdd.PipelinedRDD"
      ]
     },
     "execution_count": 61,
     "metadata": {},
     "output_type": "execute_result"
    }
   ],
   "source": [
    "# 定义 Schema (字段名 + 数据类型)\n",
    "from pyspark.sql import Row\n",
    "zipcode_data =ZipRDD.map(lambda p: Row(zipcode=int(p[0]), \n",
    "                         zipCodeType=p[1],city=p[2],state=p[3]))\n",
    "zipcode_data.take(5)\n",
    "type(zipcode_data)"
   ]
  },
  {
   "cell_type": "code",
   "execution_count": 62,
   "metadata": {},
   "outputs": [
    {
     "name": "stdout",
     "output_type": "stream",
     "text": [
      "root\n",
      " |-- zipcode: long (nullable = true)\n",
      " |-- zipCodeType: string (nullable = true)\n",
      " |-- city: string (nullable = true)\n",
      " |-- state: string (nullable = true)\n",
      "\n"
     ]
    }
   ],
   "source": [
    "# 创建 DataFrame 数据\n",
    "zipcode_df = sqlContext.createDataFrame(zipcode_data )\n",
    "zipcode_df.printSchema()"
   ]
  },
  {
   "cell_type": "markdown",
   "metadata": {},
   "source": [
    "### <font color=blue>将 DataFrame 数据转变为 SQL-table 数据 </font>"
   ]
  },
  {
   "cell_type": "code",
   "execution_count": 63,
   "metadata": {
    "scrolled": true
   },
   "outputs": [
    {
     "name": "stdout",
     "output_type": "stream",
     "text": [
      "+-------+-----------+---------+-----+\n",
      "|zipcode|zipCodeType|     city|state|\n",
      "+-------+-----------+---------+-----+\n",
      "|    705|   STANDARD| AIBONITO|   PR|\n",
      "|    610|   STANDARD|   ANASCO|   PR|\n",
      "|    611|     PO BOX|  ANGELES|   PR|\n",
      "|    612|   STANDARD|  ARECIBO|   PR|\n",
      "|    601|   STANDARD| ADJUNTAS|   PR|\n",
      "|    631|     PO BOX| CASTANER|   PR|\n",
      "|    602|   STANDARD|   AGUADA|   PR|\n",
      "|    603|   STANDARD|AGUADILLA|   PR|\n",
      "|    604|     PO BOX|AGUADILLA|   PR|\n",
      "|    605|     PO BOX|AGUADILLA|   PR|\n",
      "+-------+-----------+---------+-----+\n",
      "only showing top 10 rows\n",
      "\n"
     ]
    }
   ],
   "source": [
    "# 让 DataFrame 登陆 Spark SQL tempTable\n",
    "# 创建临时表 zipcode_table\n",
    "zipcode_df.registerTempTable(\"zipcode_table\")\n",
    "zipcode_df.show(10)"
   ]
  },
  {
   "cell_type": "code",
   "execution_count": 64,
   "metadata": {},
   "outputs": [
    {
     "name": "stdout",
     "output_type": "stream",
     "text": [
      "+-------+-----------+---------+-----+\n",
      "|zipcode|zipCodeType|     city|state|\n",
      "+-------+-----------+---------+-----+\n",
      "|    705|   STANDARD| AIBONITO|   PR|\n",
      "|    610|   STANDARD|   ANASCO|   PR|\n",
      "|    611|     PO BOX|  ANGELES|   PR|\n",
      "|    612|   STANDARD|  ARECIBO|   PR|\n",
      "|    601|   STANDARD| ADJUNTAS|   PR|\n",
      "|    631|     PO BOX| CASTANER|   PR|\n",
      "|    602|   STANDARD|   AGUADA|   PR|\n",
      "|    603|   STANDARD|AGUADILLA|   PR|\n",
      "|    604|     PO BOX|AGUADILLA|   PR|\n",
      "|    605|     PO BOX|AGUADILLA|   PR|\n",
      "+-------+-----------+---------+-----+\n",
      "only showing top 10 rows\n",
      "\n"
     ]
    }
   ],
   "source": [
    "sqlContext.sql(\"\"\" SELECT z.* \n",
    "              FROM zipcode_table z \n",
    "              \"\"\").show(10)"
   ]
  },
  {
   "cell_type": "code",
   "execution_count": 65,
   "metadata": {
    "scrolled": true
   },
   "outputs": [
    {
     "name": "stdout",
     "output_type": "stream",
     "text": [
      "+------+---+------+-------------+-------+----------------+-----+\n",
      "|userid|age|gender|   occupation|zipcode|            city|state|\n",
      "+------+---+------+-------------+-------+----------------+-----+\n",
      "|   405| 22|     F|   healthcare|  10019|        NEW YORK|   NY|\n",
      "|   478| 29|     M|        other|  10019|        NEW YORK|   NY|\n",
      "|   327| 22|     M|      student|  11101|LONG ISLAND CITY|   NY|\n",
      "|   656| 48|     M|     educator|  10314|   STATEN ISLAND|   NY|\n",
      "|   617| 27|     F|       writer|  11201|        BROOKLYN|   NY|\n",
      "|   760| 35|     F|        other|  14211|         BUFFALO|   NY|\n",
      "|   155| 32|     F|        other|  11217|        BROOKLYN|   NY|\n",
      "|   557| 30|     F|       writer|  11217|        BROOKLYN|   NY|\n",
      "|   806| 27|     M|    marketing|  11217|        BROOKLYN|   NY|\n",
      "|   509| 23|     M|administrator|  10011|        NEW YORK|   NY|\n",
      "+------+---+------+-------------+-------+----------------+-----+\n",
      "only showing top 10 rows\n",
      "\n"
     ]
    }
   ],
   "source": [
    "# 将之前暂存的 user_table + 当下的 zipcode_table 联接\n",
    "# 选择 user_table 全部数据 + zipcode_table 的两项数据\n",
    "# 以相同的 zipcode 进行对应联接\n",
    "# 且仅筛选出 state = NY 的前10个数据\n",
    "sqlContext.sql(\"\"\" SELECT u.* ,z.city,z.state \n",
    "               FROM user_table u \n",
    "               LEFT JOIN zipcode_table z  ON u.zipcode = z.zipcode\n",
    "               WHERE z.state='NY'\"\"\").show(10)"
   ]
  },
  {
   "cell_type": "code",
   "execution_count": 66,
   "metadata": {
    "scrolled": false
   },
   "outputs": [
    {
     "name": "stdout",
     "output_type": "stream",
     "text": [
      "+-----+--------+\n",
      "|state|count(1)|\n",
      "+-----+--------+\n",
      "|   AZ|      14|\n",
      "|   SC|      11|\n",
      "|   LA|       6|\n",
      "|   MN|      78|\n",
      "|   NJ|      18|\n",
      "|   DC|      14|\n",
      "|   OR|      20|\n",
      "|   VA|      27|\n",
      "| null|      35|\n",
      "|   RI|       3|\n",
      "+-----+--------+\n",
      "only showing top 10 rows\n",
      "\n"
     ]
    }
   ],
   "source": [
    "sqlContext.sql(\"\"\" SELECT z.state ,count(*)\n",
    "               FROM user_table u\n",
    "               LEFT JOIN zipcode_table z  ON u.zipcode = z.zipcode\n",
    "               GROUP BY z.state \"\"\").show(10)"
   ]
  },
  {
   "cell_type": "code",
   "execution_count": 67,
   "metadata": {},
   "outputs": [
    {
     "name": "stdout",
     "output_type": "stream",
     "text": [
      "root\n",
      " |-- userid: long (nullable = true)\n",
      " |-- age: long (nullable = true)\n",
      " |-- gender: string (nullable = true)\n",
      " |-- occupation: string (nullable = true)\n",
      " |-- zipcode: string (nullable = true)\n",
      " |-- zipcode: long (nullable = true)\n",
      " |-- zipCodeType: string (nullable = true)\n",
      " |-- city: string (nullable = true)\n",
      " |-- state: string (nullable = true)\n",
      "\n"
     ]
    }
   ],
   "source": [
    "# DataFrame 表的连接\n",
    "joined_df=user_df.join(zipcode_df , \\\n",
    "                      user_df.zipcode == zipcode_df.zipcode, \"left_outer\")\n",
    "joined_df.printSchema()    "
   ]
  },
  {
   "cell_type": "code",
   "execution_count": 68,
   "metadata": {
    "scrolled": true
   },
   "outputs": [
    {
     "name": "stdout",
     "output_type": "stream",
     "text": [
      "+------+---+------+-------------+-------+-------+-----------+-------------+-----+\n",
      "|userid|age|gender|   occupation|zipcode|zipcode|zipCodeType|         city|state|\n",
      "+------+---+------+-------------+-------+-------+-----------+-------------+-----+\n",
      "|   131| 59|     F|administrator|  15237|  15237|   STANDARD|   PITTSBURGH|   PA|\n",
      "|   619| 17|     M|      student|  44134|  44134|   STANDARD|    CLEVELAND|   OH|\n",
      "|   839| 38|     F|entertainment|  90814|  90814|   STANDARD|   LONG BEACH|   CA|\n",
      "|   409| 48|     M|administrator|  98225|  98225|   STANDARD|   BELLINGHAM|   WA|\n",
      "|   791| 31|     M|     educator|  20064|  20064|     UNIQUE|   WASHINGTON|   DC|\n",
      "|   271| 51|     M|     engineer|  22932|  22932|   STANDARD|       CROZET|   VA|\n",
      "|   375| 17|     M|entertainment|  37777|  37777|   STANDARD|   LOUISVILLE|   TN|\n",
      "|   272| 33|     M|    scientist|  53706|  53706|   STANDARD|      MADISON|   WI|\n",
      "|   758| 27|     M|      student|  53706|  53706|   STANDARD|      MADISON|   WI|\n",
      "|   344| 30|     F|    librarian|  94117|  94117|   STANDARD|SAN FRANCISCO|   CA|\n",
      "+------+---+------+-------------+-------+-------+-----------+-------------+-----+\n",
      "only showing top 10 rows\n",
      "\n"
     ]
    }
   ],
   "source": [
    "joined_df.show(10)"
   ]
  },
  {
   "cell_type": "code",
   "execution_count": 69,
   "metadata": {},
   "outputs": [
    {
     "name": "stdout",
     "output_type": "stream",
     "text": [
      "+------+---+------+-------------+-------+-------+-----------+----------------+-----+\n",
      "|userid|age|gender|   occupation|zipcode|zipcode|zipCodeType|            city|state|\n",
      "+------+---+------+-------------+-------+-------+-----------+----------------+-----+\n",
      "|   405| 22|     F|   healthcare|  10019|  10019|   STANDARD|        NEW YORK|   NY|\n",
      "|   478| 29|     M|        other|  10019|  10019|   STANDARD|        NEW YORK|   NY|\n",
      "|   327| 22|     M|      student|  11101|  11101|   STANDARD|LONG ISLAND CITY|   NY|\n",
      "|   656| 48|     M|     educator|  10314|  10314|   STANDARD|   STATEN ISLAND|   NY|\n",
      "|   617| 27|     F|       writer|  11201|  11201|   STANDARD|        BROOKLYN|   NY|\n",
      "|   760| 35|     F|        other|  14211|  14211|   STANDARD|         BUFFALO|   NY|\n",
      "|   155| 32|     F|        other|  11217|  11217|   STANDARD|        BROOKLYN|   NY|\n",
      "|   557| 30|     F|       writer|  11217|  11217|   STANDARD|        BROOKLYN|   NY|\n",
      "|   806| 27|     M|    marketing|  11217|  11217|   STANDARD|        BROOKLYN|   NY|\n",
      "|   509| 23|     M|administrator|  10011|  10011|   STANDARD|        NEW YORK|   NY|\n",
      "+------+---+------+-------------+-------+-------+-----------+----------------+-----+\n",
      "only showing top 10 rows\n",
      "\n"
     ]
    }
   ],
   "source": [
    "joined_df.filter(\"state='NY' \").show(10)"
   ]
  },
  {
   "cell_type": "code",
   "execution_count": 70,
   "metadata": {
    "scrolled": false
   },
   "outputs": [
    {
     "name": "stdout",
     "output_type": "stream",
     "text": [
      "+-----+-----+\n",
      "|state|count|\n",
      "+-----+-----+\n",
      "|   AZ|   14|\n",
      "|   SC|   11|\n",
      "|   LA|    6|\n",
      "|   MN|   78|\n",
      "|   NJ|   18|\n",
      "|   DC|   14|\n",
      "|   OR|   20|\n",
      "|   VA|   27|\n",
      "| null|   35|\n",
      "|   RI|    3|\n",
      "+-----+-----+\n",
      "only showing top 10 rows\n",
      "\n"
     ]
    }
   ],
   "source": [
    "GroupByState_df=joined_df.groupBy(\"state\").count()\n",
    "GroupByState_df.show(10)"
   ]
  },
  {
   "cell_type": "markdown",
   "metadata": {
    "collapsed": true
   },
   "source": [
    "### <font color=blue>以 Pandas DataFrame 绘图</font>"
   ]
  },
  {
   "cell_type": "code",
   "execution_count": 71,
   "metadata": {
    "scrolled": true
   },
   "outputs": [
    {
     "data": {
      "text/html": [
       "<div>\n",
       "<style scoped>\n",
       "    .dataframe tbody tr th:only-of-type {\n",
       "        vertical-align: middle;\n",
       "    }\n",
       "\n",
       "    .dataframe tbody tr th {\n",
       "        vertical-align: top;\n",
       "    }\n",
       "\n",
       "    .dataframe thead th {\n",
       "        text-align: right;\n",
       "    }\n",
       "</style>\n",
       "<table border=\"1\" class=\"dataframe\">\n",
       "  <thead>\n",
       "    <tr style=\"text-align: right;\">\n",
       "      <th></th>\n",
       "      <th>count</th>\n",
       "    </tr>\n",
       "    <tr>\n",
       "      <th>state</th>\n",
       "      <th></th>\n",
       "    </tr>\n",
       "  </thead>\n",
       "  <tbody>\n",
       "    <tr>\n",
       "      <th>AZ</th>\n",
       "      <td>14</td>\n",
       "    </tr>\n",
       "    <tr>\n",
       "      <th>SC</th>\n",
       "      <td>11</td>\n",
       "    </tr>\n",
       "    <tr>\n",
       "      <th>LA</th>\n",
       "      <td>6</td>\n",
       "    </tr>\n",
       "    <tr>\n",
       "      <th>MN</th>\n",
       "      <td>78</td>\n",
       "    </tr>\n",
       "    <tr>\n",
       "      <th>NJ</th>\n",
       "      <td>18</td>\n",
       "    </tr>\n",
       "    <tr>\n",
       "      <th>DC</th>\n",
       "      <td>14</td>\n",
       "    </tr>\n",
       "    <tr>\n",
       "      <th>OR</th>\n",
       "      <td>20</td>\n",
       "    </tr>\n",
       "    <tr>\n",
       "      <th>VA</th>\n",
       "      <td>27</td>\n",
       "    </tr>\n",
       "    <tr>\n",
       "      <th>NaN</th>\n",
       "      <td>35</td>\n",
       "    </tr>\n",
       "    <tr>\n",
       "      <th>RI</th>\n",
       "      <td>3</td>\n",
       "    </tr>\n",
       "  </tbody>\n",
       "</table>\n",
       "</div>"
      ],
      "text/plain": [
       "       count\n",
       "state       \n",
       "AZ        14\n",
       "SC        11\n",
       "LA         6\n",
       "MN        78\n",
       "NJ        18\n",
       "DC        14\n",
       "OR        20\n",
       "VA        27\n",
       "NaN       35\n",
       "RI         3"
      ]
     },
     "execution_count": 71,
     "metadata": {},
     "output_type": "execute_result"
    }
   ],
   "source": [
    "import pandas as pd\n",
    "GroupByState_pandas_df =GroupByState_df.toPandas().set_index('state')\n",
    "GroupByState_pandas_df[:10]"
   ]
  },
  {
   "cell_type": "code",
   "execution_count": 72,
   "metadata": {},
   "outputs": [
    {
     "data": {
      "text/html": [
       "<div>\n",
       "<style scoped>\n",
       "    .dataframe tbody tr th:only-of-type {\n",
       "        vertical-align: middle;\n",
       "    }\n",
       "\n",
       "    .dataframe tbody tr th {\n",
       "        vertical-align: top;\n",
       "    }\n",
       "\n",
       "    .dataframe thead th {\n",
       "        text-align: right;\n",
       "    }\n",
       "</style>\n",
       "<table border=\"1\" class=\"dataframe\">\n",
       "  <thead>\n",
       "    <tr style=\"text-align: right;\">\n",
       "      <th>state</th>\n",
       "      <th>AZ</th>\n",
       "      <th>SC</th>\n",
       "      <th>LA</th>\n",
       "      <th>MN</th>\n",
       "      <th>NJ</th>\n",
       "      <th>DC</th>\n",
       "      <th>OR</th>\n",
       "      <th>VA</th>\n",
       "      <th>None</th>\n",
       "      <th>RI</th>\n",
       "      <th>...</th>\n",
       "      <th>MA</th>\n",
       "      <th>KS</th>\n",
       "      <th>CO</th>\n",
       "      <th>FL</th>\n",
       "      <th>AK</th>\n",
       "      <th>AR</th>\n",
       "      <th>OK</th>\n",
       "      <th>AP</th>\n",
       "      <th>UT</th>\n",
       "      <th>HI</th>\n",
       "    </tr>\n",
       "  </thead>\n",
       "  <tbody>\n",
       "    <tr>\n",
       "      <th>count</th>\n",
       "      <td>14</td>\n",
       "      <td>11</td>\n",
       "      <td>6</td>\n",
       "      <td>78</td>\n",
       "      <td>18</td>\n",
       "      <td>14</td>\n",
       "      <td>20</td>\n",
       "      <td>27</td>\n",
       "      <td>35</td>\n",
       "      <td>3</td>\n",
       "      <td>...</td>\n",
       "      <td>35</td>\n",
       "      <td>4</td>\n",
       "      <td>20</td>\n",
       "      <td>24</td>\n",
       "      <td>5</td>\n",
       "      <td>1</td>\n",
       "      <td>9</td>\n",
       "      <td>1</td>\n",
       "      <td>9</td>\n",
       "      <td>2</td>\n",
       "    </tr>\n",
       "  </tbody>\n",
       "</table>\n",
       "<p>1 rows × 54 columns</p>\n",
       "</div>"
      ],
      "text/plain": [
       "state  AZ  SC  LA  MN  NJ  DC  OR  VA  NaN  RI ...  MA  KS  CO  FL  AK  AR  \\\n",
       "count  14  11   6  78  18  14  20  27   35   3 ...  35   4  20  24   5   1   \n",
       "\n",
       "state  OK  AP  UT  HI  \n",
       "count   9   1   9   2  \n",
       "\n",
       "[1 rows x 54 columns]"
      ]
     },
     "execution_count": 72,
     "metadata": {},
     "output_type": "execute_result"
    }
   ],
   "source": [
    "GroupByState_pandas_df.T"
   ]
  },
  {
   "cell_type": "code",
   "execution_count": 73,
   "metadata": {},
   "outputs": [
    {
     "data": {
      "image/png": "[encoded data removed]",
      "text/plain": [
       "<Figure size 864x432 with 1 Axes>"
      ]
     },
     "metadata": {
      "needs_background": "light"
     },
     "output_type": "display_data"
    }
   ],
   "source": [
    "import matplotlib.pyplot as plt\n",
    "%matplotlib inline\n",
    "ax = GroupByState_pandas_df ['count']  \\\n",
    "            .plot(kind='bar', title =\"State \",figsize=(12,6),legend=True, fontsize=12)\n",
    "plt.show()"
   ]
  },
  {
   "cell_type": "code",
   "execution_count": 74,
   "metadata": {},
   "outputs": [
    {
     "name": "stdout",
     "output_type": "stream",
     "text": [
      "+----------+------+\n",
      "|occupation|counts|\n",
      "+----------+------+\n",
      "| librarian|    51|\n",
      "|   retired|    14|\n",
      "|    lawyer|    12|\n",
      "|      none|     9|\n",
      "|    writer|    45|\n",
      "|programmer|    66|\n",
      "| marketing|    26|\n",
      "|     other|   105|\n",
      "| executive|    32|\n",
      "| scientist|    31|\n",
      "+----------+------+\n",
      "only showing top 10 rows\n",
      "\n"
     ]
    }
   ],
   "source": [
    "Occupation_df=sqlContext.sql(\"\"\" \n",
    "SELECT u.occupation ,count(*) counts\n",
    "FROM user_table u\n",
    "GROUP BY occupation\n",
    "\"\"\")\n",
    "Occupation_df.show(10)"
   ]
  },
  {
   "cell_type": "code",
   "execution_count": 75,
   "metadata": {},
   "outputs": [
    {
     "data": {
      "text/html": [
       "<div>\n",
       "<style scoped>\n",
       "    .dataframe tbody tr th:only-of-type {\n",
       "        vertical-align: middle;\n",
       "    }\n",
       "\n",
       "    .dataframe tbody tr th {\n",
       "        vertical-align: top;\n",
       "    }\n",
       "\n",
       "    .dataframe thead th {\n",
       "        text-align: right;\n",
       "    }\n",
       "</style>\n",
       "<table border=\"1\" class=\"dataframe\">\n",
       "  <thead>\n",
       "    <tr style=\"text-align: right;\">\n",
       "      <th></th>\n",
       "      <th>counts</th>\n",
       "    </tr>\n",
       "    <tr>\n",
       "      <th>occupation</th>\n",
       "      <th></th>\n",
       "    </tr>\n",
       "  </thead>\n",
       "  <tbody>\n",
       "    <tr>\n",
       "      <th>librarian</th>\n",
       "      <td>51</td>\n",
       "    </tr>\n",
       "    <tr>\n",
       "      <th>retired</th>\n",
       "      <td>14</td>\n",
       "    </tr>\n",
       "    <tr>\n",
       "      <th>lawyer</th>\n",
       "      <td>12</td>\n",
       "    </tr>\n",
       "    <tr>\n",
       "      <th>none</th>\n",
       "      <td>9</td>\n",
       "    </tr>\n",
       "    <tr>\n",
       "      <th>writer</th>\n",
       "      <td>45</td>\n",
       "    </tr>\n",
       "    <tr>\n",
       "      <th>programmer</th>\n",
       "      <td>66</td>\n",
       "    </tr>\n",
       "    <tr>\n",
       "      <th>marketing</th>\n",
       "      <td>26</td>\n",
       "    </tr>\n",
       "    <tr>\n",
       "      <th>other</th>\n",
       "      <td>105</td>\n",
       "    </tr>\n",
       "    <tr>\n",
       "      <th>executive</th>\n",
       "      <td>32</td>\n",
       "    </tr>\n",
       "    <tr>\n",
       "      <th>scientist</th>\n",
       "      <td>31</td>\n",
       "    </tr>\n",
       "  </tbody>\n",
       "</table>\n",
       "</div>"
      ],
      "text/plain": [
       "            counts\n",
       "occupation        \n",
       "librarian       51\n",
       "retired         14\n",
       "lawyer          12\n",
       "none             9\n",
       "writer          45\n",
       "programmer      66\n",
       "marketing       26\n",
       "other          105\n",
       "executive       32\n",
       "scientist       31"
      ]
     },
     "execution_count": 75,
     "metadata": {},
     "output_type": "execute_result"
    }
   ],
   "source": [
    "# 将 Spark-DataFrame 转变为 Pandas-DataFrame\n",
    "Occupation_pandas_df =Occupation_df.toPandas().set_index('occupation')\n",
    "Occupation_pandas_df[:10]"
   ]
  },
  {
   "cell_type": "code",
   "execution_count": 76,
   "metadata": {},
   "outputs": [
    {
     "data": {
      "image/png": "[encoded data removed]",
      "text/plain": [
       "<Figure size 720x720 with 1 Axes>"
      ]
     },
     "metadata": {},
     "output_type": "display_data"
    }
   ],
   "source": [
    "# 饼图参数 autopct='%1.1f%%' 一位小数的百分数（float)\n",
    "ax =Occupation_pandas_df['counts'].plot(kind='pie',fontsize=12,\n",
    "           title =\"occupation\",figsize=(10,10),startangle=30,autopct='%1.1f%%')\n",
    "ax.legend(bbox_to_anchor=(1.05, 0.9), loc=2, borderaxespad=0.,fontsize=12)\n",
    "plt.show()"
   ]
  }
 ],
 "metadata": {
  "kernelspec": {
   "display_name": "Python 3",
   "language": "python",
   "name": "python3"
  },
  "language_info": {
   "codemirror_mode": {
    "name": "ipython",
    "version": 3
   },
   "file_extension": ".py",
   "mimetype": "text/x-python",
   "name": "python",
   "nbconvert_exporter": "python",
   "pygments_lexer": "ipython3",
   "version": "3.7.0"
  }
 },
 "nbformat": 4,
 "nbformat_minor": 1
}
